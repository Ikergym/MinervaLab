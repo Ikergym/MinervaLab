{
 "cells": [
  {
   "cell_type": "code",
   "execution_count": 108,
   "metadata": {},
   "outputs": [
    {
     "data": {
      "text/html": [
       "<head><link rel=\"stylesheet\" href=\"https://stackpath.bootstrapcdn.com/bootstrap/4.3.1/css/bootstrap.min.css\" integrity=\"sha384-ggOyR0iXCbMQv3Xipma34MD+dH/1fQ784/j6cY/iJTQUOhcWr7x9JvoRxT2MZw1T\" crossorigin=\"anonymous\"></head>"
      ],
      "text/plain": [
       "<IPython.core.display.HTML object>"
      ]
     },
     "metadata": {},
     "output_type": "display_data"
    }
   ],
   "source": [
    "from IPython.display import HTML\n",
    "display(HTML('<head><link rel=\"stylesheet\" href=\"https://stackpath.bootstrapcdn.com/bootstrap/4.3.1/css/bootstrap.min.css\" integrity=\"sha384-ggOyR0iXCbMQv3Xipma34MD+dH/1fQ784/j6cY/iJTQUOhcWr7x9JvoRxT2MZw1T\" crossorigin=\"anonymous\"></head>'))"
   ]
  },
  {
   "cell_type": "code",
   "execution_count": 114,
   "metadata": {},
   "outputs": [
    {
     "data": {
      "text/html": [
       "<style>.row{margin: 50px 0 0 0}</style>"
      ],
      "text/plain": [
       "<IPython.core.display.HTML object>"
      ]
     },
     "metadata": {},
     "output_type": "display_data"
    }
   ],
   "source": [
    "display(HTML(\"<style>.row{margin: 50px 0 0 0}</style>\"))"
   ]
  },
  {
   "cell_type": "code",
   "execution_count": 141,
   "metadata": {},
   "outputs": [],
   "source": [
    "programs = {\n",
    "    'p(v, T) in 2D': ['van_der_waals/p_v_2D.ipynb', '111-000.png'],\n",
    "    \n",
    "    'Change in volume': ['van_der_waals/phase_transition_volume.ipynb', '112-000.png'],\n",
    "    \n",
    "    'Critical points': ['van_der_waals/p_v_2D.ipynb', '113-000.png'],\n",
    "    \n",
    "    'Effect of a and b on the isotherms': ['van_der_waals/effect_of_a_and_b.ipynb', '114-000.png'],\n",
    "    \n",
    "    'Compare elements': ['van_der_waals/compare_elements.ipynb', '115-000.png'],\n",
    "    \n",
    "    'p(v, T) in 3D': ['van_der_waals/p_v_3D.ipynb', '116-000.png'],\n",
    "    \n",
    "    'Chemical potential': ['van_der_waals/chemical_potential.ipynb', '117-000.png'],\n",
    "    \n",
    "    'Mathematical analysis': ['van_der_waals/mathematical_analysis.ipynb', '118-000.png'],\n",
    "    \n",
    "    'Effect of a and b on the function': ['van_der_waals/parameters_analysis.ipynb', '119-000.png'],\n",
    "    \n",
    "    'Non-existence zone': ['van_der_waals/stability.ipynb', '11A-000.png'],\n",
    "    \n",
    "    'Gibbs free energy': ['van_der_waals/p_T_2D.ipynb', '11B-000.png'],\n",
    "    \n",
    "    'Effect of a and b on the isotherms (reduced variables)': ['van_der_waals/effect_of_a_and_b_reduced.ipynb', '11C-000.png'],\n",
    "}"
   ]
  },
  {
   "cell_type": "code",
   "execution_count": 145,
   "metadata": {
    "scrolled": false
   },
   "outputs": [
    {
     "data": {
      "text/html": [
       "<center><img border=\"0\" alt=\"W3Schools\" src=\"static/images/logo.png\" width=\"100\" height=\"auto\" style=\"width: 75%\"></center><div class=\"container\"><div class=\"row\" style=\"width: 100%; align-items: center; vertical-align: bottom; display:flex\"><div class=\"col-md-3\" style=\"align-content:center;\" ><center><h4 style=\"margin-bottom: 20px\">p(v, T) in 2D</h4></center><center><a href=\"../apps/apps/van_der_waals/p_v_2D.ipynb\" target=_blank style=\"text-decoration: none; color: black; margin-bottom: 20px\"><img border=\"0\" alt=\"W3Schools\" src=\"static/images/111-000.png\" width=\"100\" height=\"500px\" style=\"height: 300px; width: auto; border-radius: 25px; border: 1px solid black\"></a></center></div><div class=\"col-md-3\" style=\"align-content:center;\" ><center><h4 style=\"margin-bottom: 20px\">Change in volume</h4></center><center><a href=\"../apps/apps/van_der_waals/phase_transition_volume.ipynb\" target=_blank style=\"text-decoration: none; color: black; margin-bottom: 20px\"><img border=\"0\" alt=\"W3Schools\" src=\"static/images/112-000.png\" width=\"100\" height=\"500px\" style=\"height: 300px; width: auto; border-radius: 25px; border: 1px solid black\"></a></center></div><div class=\"col-md-3\" style=\"align-content:center;\" ><center><h4 style=\"margin-bottom: 20px\">Critical points</h4></center><center><a href=\"../apps/apps/van_der_waals/p_v_2D.ipynb\" target=_blank style=\"text-decoration: none; color: black; margin-bottom: 20px\"><img border=\"0\" alt=\"W3Schools\" src=\"static/images/113-000.png\" width=\"100\" height=\"500px\" style=\"height: 300px; width: auto; border-radius: 25px; border: 1px solid black\"></a></center></div><div class=\"col-md-3\" style=\"align-content:center;\" ><center><h4 style=\"margin-bottom: 20px\">Effect of a and b on the isotherms</h4></center><center><a href=\"../apps/apps/van_der_waals/effect_of_a_and_b.ipynb\" target=_blank style=\"text-decoration: none; color: black; margin-bottom: 20px\"><img border=\"0\" alt=\"W3Schools\" src=\"static/images/114-000.png\" width=\"100\" height=\"500px\" style=\"height: 300px; width: auto; border-radius: 25px; border: 1px solid black\"></a></center></div><div class=\"container\"><div class=\"row\" style=\"width: 100%; align-items: center; vertical-align: bottom; display:flex\"><div class=\"col-md-3\" style=\"align-content:center;\" ><center><h4 style=\"margin-bottom: 20px\">Compare elements</h4></center><center><a href=\"../apps/apps/van_der_waals/compare_elements.ipynb\" target=_blank style=\"text-decoration: none; color: black; margin-bottom: 20px\"><img border=\"0\" alt=\"W3Schools\" src=\"static/images/115-000.png\" width=\"100\" height=\"500px\" style=\"height: 300px; width: auto; border-radius: 25px; border: 1px solid black\"></a></center></div><div class=\"col-md-3\" style=\"align-content:center;\" ><center><h4 style=\"margin-bottom: 20px\">p(v, T) in 3D</h4></center><center><a href=\"../apps/apps/van_der_waals/p_v_3D.ipynb\" target=_blank style=\"text-decoration: none; color: black; margin-bottom: 20px\"><img border=\"0\" alt=\"W3Schools\" src=\"static/images/116-000.png\" width=\"100\" height=\"500px\" style=\"height: 300px; width: auto; border-radius: 25px; border: 1px solid black\"></a></center></div><div class=\"col-md-3\" style=\"align-content:center;\" ><center><h4 style=\"margin-bottom: 20px\">Chemical potential</h4></center><center><a href=\"../apps/apps/van_der_waals/chemical_potential.ipynb\" target=_blank style=\"text-decoration: none; color: black; margin-bottom: 20px\"><img border=\"0\" alt=\"W3Schools\" src=\"static/images/117-000.png\" width=\"100\" height=\"500px\" style=\"height: 300px; width: auto; border-radius: 25px; border: 1px solid black\"></a></center></div><div class=\"col-md-3\" style=\"align-content:center;\" ><center><h4 style=\"margin-bottom: 20px\">Mathematical analysis</h4></center><center><a href=\"../apps/apps/van_der_waals/mathematical_analysis.ipynb\" target=_blank style=\"text-decoration: none; color: black; margin-bottom: 20px\"><img border=\"0\" alt=\"W3Schools\" src=\"static/images/118-000.png\" width=\"100\" height=\"500px\" style=\"height: 300px; width: auto; border-radius: 25px; border: 1px solid black\"></a></center></div><div class=\"container\"><div class=\"row\" style=\"width: 100%; align-items: center; vertical-align: bottom; display:flex\"><div class=\"col-md-3\" style=\"align-content:center;\" ><center><h4 style=\"margin-bottom: 20px\">Effect of a and b on the function</h4></center><center><a href=\"../apps/apps/van_der_waals/parameters_analysis.ipynb\" target=_blank style=\"text-decoration: none; color: black; margin-bottom: 20px\"><img border=\"0\" alt=\"W3Schools\" src=\"static/images/119-000.png\" width=\"100\" height=\"500px\" style=\"height: 300px; width: auto; border-radius: 25px; border: 1px solid black\"></a></center></div><div class=\"col-md-3\" style=\"align-content:center;\" ><center><h4 style=\"margin-bottom: 20px\">Non-existence zone</h4></center><center><a href=\"../apps/apps/van_der_waals/stability.ipynb\" target=_blank style=\"text-decoration: none; color: black; margin-bottom: 20px\"><img border=\"0\" alt=\"W3Schools\" src=\"static/images/11A-000.png\" width=\"100\" height=\"500px\" style=\"height: 300px; width: auto; border-radius: 25px; border: 1px solid black\"></a></center></div><div class=\"col-md-3\" style=\"align-content:center;\" ><center><h4 style=\"margin-bottom: 20px\">Gibbs free energy</h4></center><center><a href=\"../apps/apps/van_der_waals/p_T_2D.ipynb\" target=_blank style=\"text-decoration: none; color: black; margin-bottom: 20px\"><img border=\"0\" alt=\"W3Schools\" src=\"static/images/11B-000.png\" width=\"100\" height=\"500px\" style=\"height: 300px; width: auto; border-radius: 25px; border: 1px solid black\"></a></center></div><div class=\"col-md-3\" style=\"align-content:center;\" ><center><h4 style=\"margin-bottom: 20px\">Effect of a and b on the isotherms (reduced variables)</h4></center><center><a href=\"../apps/apps/van_der_waals/effect_of_a_and_b_reduced.ipynb\" target=_blank style=\"text-decoration: none; color: black; margin-bottom: 20px\"><img border=\"0\" alt=\"W3Schools\" src=\"static/images/11C-000.png\" width=\"100\" height=\"500px\" style=\"height: 300px; width: auto; border-radius: 25px; border: 1px solid black\"></a></center></div></div></div>"
      ],
      "text/plain": [
       "<IPython.core.display.HTML object>"
      ]
     },
     "metadata": {},
     "output_type": "display_data"
    }
   ],
   "source": [
    "row_start = '<div class=\"container\"><div class=\"row\" style=\"width: 100%; align-items: center; vertical-align: bottom; display:flex\">'\n",
    "row_end = '</div></div>'\n",
    "\n",
    "col_start = '<div class=\"col-md-3\" style=\"align-content:center;\" >'\n",
    "col_end = '</div>'\n",
    "\n",
    "link_start = '<center><a href=\"'\n",
    "link_middle = '\" target=_blank style=\"text-decoration: none; color: black; margin-bottom: 20px\">'\n",
    "link_end = '</a></center>'\n",
    "\n",
    "image_start = '<img border=\"0\" alt=\"W3Schools\" src=\"'\n",
    "image_end = '\" width=\"100\" height=\"500px\" style=\"height: 300px; width: auto; border-radius: 25px; border: 1px solid black\">'\n",
    "\n",
    "web_string = ''\n",
    "web_string = web_string + '<center><img border=\"0\" alt=\"W3Schools\" src=\"static/images/logo.png\" width=\"100\" height=\"auto\" style=\"width: 75%\"></center>'\n",
    "\n",
    "\n",
    "web_string = web_string + row_start\n",
    "\n",
    "i = 0\n",
    "max_col = 4\n",
    "\n",
    "for key, values in programs.items():\n",
    "\n",
    "    file_path = '../apps/apps/' + values[0]\n",
    "    image_path = 'static/images/' + values[1]\n",
    "    \n",
    "    if i == max_col:\n",
    "        web_string = web_string + row_start\n",
    "        i = 0\n",
    "        \n",
    "    web_string = web_string + col_start\n",
    "    web_string = web_string + '<center><h4 style=\"margin-bottom: 20px\">' + key + '</h4></center>'\n",
    "    web_string = web_string + link_start + file_path + link_middle\n",
    "    web_string = web_string + image_start + image_path\n",
    "    web_string = web_string + image_end + link_end\n",
    "    web_string = web_string + col_end\n",
    "    i = i + 1\n",
    "    \n",
    "web_string = web_string + row_end\n",
    "\n",
    "display(HTML(web_string))"
   ]
  },
  {
   "cell_type": "code",
   "execution_count": null,
   "metadata": {},
   "outputs": [],
   "source": []
  },
  {
   "cell_type": "code",
   "execution_count": null,
   "metadata": {},
   "outputs": [],
   "source": []
  }
 ],
 "metadata": {
  "kernelspec": {
   "display_name": "Python 3",
   "language": "python",
   "name": "python3"
  },
  "language_info": {
   "codemirror_mode": {
    "name": "ipython",
    "version": 3
   },
   "file_extension": ".py",
   "mimetype": "text/x-python",
   "name": "python",
   "nbconvert_exporter": "python",
   "pygments_lexer": "ipython3",
   "version": "3.7.0"
  }
 },
 "nbformat": 4,
 "nbformat_minor": 2
}
