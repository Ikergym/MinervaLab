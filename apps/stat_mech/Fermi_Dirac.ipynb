{
 "cells": [
  {
   "cell_type": "code",
   "execution_count": 983,
   "metadata": {},
   "outputs": [
    {
     "data": {
      "text/html": [
       "<head><link rel='stylesheet' type='text/css' href='./../../static/custom.css'></head>"
      ],
      "text/plain": [
       "<IPython.core.display.HTML object>"
      ]
     },
     "metadata": {},
     "output_type": "display_data"
    },
    {
     "data": {
      "text/html": [
       "<style>.container { width:100% !important; }</style>"
      ],
      "text/plain": [
       "<IPython.core.display.HTML object>"
      ]
     },
     "metadata": {},
     "output_type": "display_data"
    }
   ],
   "source": [
    "from IPython.display import HTML\n",
    "display(HTML(\"<head><link rel='stylesheet' type='text/css' href='./../../static/custom.css'></head>\"))\n",
    "display(HTML(\"<style>.container { width:100% !important; }</style>\"))"
   ]
  },
  {
   "cell_type": "code",
   "execution_count": 984,
   "metadata": {},
   "outputs": [],
   "source": [
    "import numpy as np\n",
    "\n",
    "from bqplot import *\n",
    "import bqplot as bq\n",
    "import bqplot.marks as bqm\n",
    "import bqplot.scales as bqs\n",
    "import bqplot.axes as bqa\n",
    "\n",
    "import ipywidgets as widgets"
   ]
  },
  {
   "cell_type": "code",
   "execution_count": 985,
   "metadata": {},
   "outputs": [],
   "source": [
    "def get_n(z, dens, mass_mol):\n",
    "    n = z*Na * dens/mass_mol\n",
    "    return n"
   ]
  },
  {
   "cell_type": "code",
   "execution_count": 986,
   "metadata": {},
   "outputs": [],
   "source": [
    "def get_Ef(n):\n",
    "    Ef = h**2/(2*me)*(3*pi**2*n)**(2.0/3.0)\n",
    "    return Ef"
   ]
  },
  {
   "cell_type": "code",
   "execution_count": 987,
   "metadata": {},
   "outputs": [],
   "source": [
    "def get_mu(Ef,T):\n",
    "    mu = Ef*(1.0-1.0/3.0*(pi*kb*T/2.0/Ef)**2)\n",
    "    return mu"
   ]
  },
  {
   "cell_type": "code",
   "execution_count": 988,
   "metadata": {},
   "outputs": [],
   "source": [
    "def update_metal(change):\n",
    "    metal = metal_dropdown.value\n",
    "    rho = metal_densities[metal]\n",
    "    mass = molar_masses[metal]\n",
    "    z = valence_numbers[metal]\n",
    "    n = get_n(z, rho, mass)\n",
    "    Ef = get_Ef(n)\n",
    "    \n",
    "    fermi_energy_text.value = '%.2f' % Ef"
   ]
  },
  {
   "cell_type": "code",
   "execution_count": 989,
   "metadata": {},
   "outputs": [],
   "source": [
    "def update_temp(change):\n",
    "    T = T_slider.value\n",
    "    mu = get_mu(Ef,T)\n",
    "\n",
    "  \n",
    "    y_values = np.empty(pts)\n",
    "    for i in range(pts):\n",
    "        eps = x_values[i]*mu\n",
    "        y_values[i] = 1.0/(e**((eps-mu)/kb/T)+1.0)\n",
    "\n",
    "    lines_001.x = x_values\n",
    "    lines_001.y = y_values\n",
    "    \n",
    "    point_002.x = [T]\n",
    "    point_002.y = [mu]\n",
    "    \n",
    "    mu_text.value ='%.2f' % (mu/Ef)"
   ]
  },
  {
   "cell_type": "code",
   "execution_count": 990,
   "metadata": {
    "scrolled": false
   },
   "outputs": [],
   "source": [
    "pts = 2000\n",
    "dim = 3\n",
    "T = 2.0\n",
    "T_min = 1.0\n",
    "T_max = 20.0\n",
    "h = 6.5821e-16 #Planck's reduced constant in eV*s\n",
    "c = 3.0e8 # Speed of Light in m/s\n",
    "me = 510998.9/c**2 # Electron mass in eV/c**2\n",
    "Na = 6.0221e23\n",
    "kb = 8.617e-1 # Boltzmann's in eV/(10**4K)\n",
    "pi =  np.pi\n",
    "e = np.e\n",
    "\n",
    "# Metal data:\n",
    "metal_labels = [\"Sodioa\", \"Aluminioa\", \"Burdina\", \"Kobrea\"] \n",
    "metal_densities = [968.0, 2700.0, 7874.0, 8960.0] # In kg/m**3\n",
    "molar_masses = [0.0229, 0.026, 0.0558, 0.0635] # In Kg\n",
    "valence_numbers = [1, 3, 2, 1]\n",
    "\n",
    "# Test calculation\n",
    "metal = 1\n",
    "rho = metal_densities[metal]\n",
    "mass = molar_masses[metal]\n",
    "z = valence_numbers[metal]\n",
    "n = get_n(z, rho, mass)\n",
    "Ef = get_Ef(n)\n",
    "mu = get_mu(Ef,T)\n",
    "\n",
    "x_values = np.linspace(0.0,2.0,pts)\n",
    "y_values = np.empty(pts)\n",
    "for i in range(pts):\n",
    "    E = x_values[i]*mu\n",
    "    y_values[i] = 1.0/(e**((E-mu)/kb/T)+1.0)"
   ]
  },
  {
   "cell_type": "code",
   "execution_count": 991,
   "metadata": {
    "scrolled": false
   },
   "outputs": [
    {
     "data": {
      "application/vnd.jupyter.widget-view+json": {
       "model_id": "3d76bd4ae9624fc7a87963091c71989d",
       "version_major": 2,
       "version_minor": 0
      },
      "text/plain": [
       "HBox(children=(VBox(children=(Dropdown(description='Gasa:', index=1, options=(('Sodioa', 0), ('Aluminioa', 1),…"
      ]
     },
     "metadata": {},
     "output_type": "display_data"
    }
   ],
   "source": [
    "# Create the Figure\n",
    "fig_121_001 = bq.Figure(title='Fermi-Dirac banaketa',\n",
    "                marks=[],\n",
    "                axes=[],\n",
    "                animation_duration=0,\n",
    "                legend_location='top-left',\n",
    "                legend_style= {'fill': 'white', 'stroke': 'grey'},\n",
    "                background_style= {'fill': 'white',  'stroke': 'black'},\n",
    "                fig_margin=dict(top=70, bottom=60, left=80, right=30),\n",
    "                layout = widgets.Layout(width='50%'),\n",
    "                toolbar = True,\n",
    "    )\n",
    "\n",
    "fig_121_002 = bq.Figure(title='Potentzial kimikoa',\n",
    "                marks=[],\n",
    "                axes=[],\n",
    "                animation_duration=0,\n",
    "                legend_location='top-left',\n",
    "                legend_style= {'fill': 'white', 'stroke': 'grey'},\n",
    "                background_style= {'fill': 'white',  'stroke': 'black'},\n",
    "                fig_margin=dict(top=70, bottom=60, left=80, right=30),\n",
    "                layout = widgets.Layout(width='50%'),\n",
    "                toolbar = True,\n",
    "    )\n",
    "\n",
    "scale_x_001 = bqs.LinearScale(min = 0.0, max = 2.0)\n",
    "scale_y_001 = bqs.LinearScale(min = 0.0, max = 1.0)\n",
    "\n",
    "axis_x_001 = bqa.Axis(scale=scale_x_001,\n",
    "                tick_format='.0f',#'0.2f',\n",
    "                tick_style={'font-size': '15px'},\n",
    "                #tick_values = np.linspace(p_min, p_max, 7),\n",
    "                num_ticks=3,\n",
    "                grid_lines = 'none',\n",
    "                grid_color = '#8e8e8e', \n",
    "                label='e/mu',\n",
    "                label_location='middle',\n",
    "                label_style={'stroke': 'black', 'default-size': 35},\n",
    "                label_offset='50px')\n",
    "\n",
    "axis_y_001 = bqa.Axis(\n",
    "                scale=scale_y_001,\n",
    "                tick_format='.1f',#'0.2f',\n",
    "                tick_style={'font-size': '15px'},\n",
    "                num_ticks=5,\n",
    "                grid_lines = 'none',\n",
    "                grid_color = '#8e8e8e', \n",
    "                orientation='vertical',\n",
    "                label='n',\n",
    "                label_location='middle',\n",
    "                label_style={'stroke': 'red', 'default_size': 35},\n",
    "                label_offset='50px')\n",
    "\n",
    "fig_121_001.axes = [axis_x_001,axis_y_001]\n",
    "\n",
    "lines_001 = bqm.Lines(\n",
    "                x = x_values, \n",
    "                y = y_values, \n",
    "                scales = {'x': scale_x_001, 'y': scale_y_001}, \n",
    "                opacities = [1.0],\n",
    "                visible = True, #True, #t == '1.00',\n",
    "                #colors = colors,\n",
    "                #labels = labels,\n",
    "                display_legend = False\n",
    ")\n",
    "\n",
    "fig_121_001.marks = [lines_001]\n",
    "\n",
    "T_values = np.linspace(T_min, T_max, pts)\n",
    "mu_values = np.empty(pts)\n",
    "for i in range(pts):\n",
    "    mu_values[i] = get_mu(Ef, T_values[i])\n",
    "\n",
    "scale_x_002 = bqs.LinearScale(min = T_min, max = T_max)\n",
    "scale_y_002 = bqs.LinearScale(min = np.min(mu_values), max = np.max(mu_values))\n",
    "\n",
    "axis_x_002 = bqa.Axis(scale=scale_x_002,\n",
    "                tick_format='.0f',#'0.2f',\n",
    "                tick_style={'font-size': '15px'},\n",
    "                #tick_values = np.linspace(p_min, p_max, 7),\n",
    "                num_ticks=3,\n",
    "                grid_lines = 'none',\n",
    "                grid_color = '#8e8e8e', \n",
    "                label='T (x10^4 K)',\n",
    "                label_location='middle',\n",
    "                label_style={'stroke': 'black', 'default-size': 35},\n",
    "                label_offset='50px')\n",
    "\n",
    "axis_y_002 = bqa.Axis(\n",
    "                scale=scale_y_002,\n",
    "                tick_format='.1f',#'0.2f',\n",
    "                tick_style={'font-size': '15px'},\n",
    "                num_ticks=4,\n",
    "                grid_lines = 'none',\n",
    "                grid_color = '#8e8e8e', \n",
    "                orientation='vertical',\n",
    "                label='mu/Ef',\n",
    "                label_location='middle',\n",
    "                label_style={'stroke': 'red', 'default_size': 35},\n",
    "                label_offset='50px')\n",
    "\n",
    "fig_121_002.axes = [axis_x_002,axis_y_002]\n",
    "\n",
    "\n",
    "lines_002 = bqm.Lines(\n",
    "                x = T_values, \n",
    "                y = mu_values, \n",
    "                scales = {'x': scale_x_002, 'y': scale_y_002}, \n",
    "                opacities = [1.0],\n",
    "                visible = True, #True, #t == '1.00',\n",
    "                #colors = colors,\n",
    "                #labels = labels,\n",
    "                display_legend = False\n",
    ")\n",
    "\n",
    "point_002 = bqm.Scatter(\n",
    "                x = [T], \n",
    "                y = [mu], \n",
    "                scales = {'x': scale_x_002, 'y': scale_y_002}, \n",
    "                opacities = [1.0],\n",
    "                visible = True, #True, #t == '1.00',\n",
    "                colors = ['red'],\n",
    "                #labels = labels,\n",
    "                display_legend = False\n",
    ")\n",
    "\n",
    "\n",
    "fig_121_002.marks = [lines_002, point_002]\n",
    "\n",
    "T_slider = widgets.FloatSlider(\n",
    "    min=T_min,\n",
    "    max=T_max,\n",
    "    step=(T_max-T_min)/pts,\n",
    "    value=T,\n",
    "    description='T',\n",
    "    disabled=False,\n",
    "    continuous_update=True,\n",
    "    orientation='horizontal',\n",
    "    readout=True,\n",
    "    readout_format='.2f',\n",
    "    layout = widgets.Layout(width='90%'),\n",
    ")\n",
    "\n",
    "T_slider.observe(update_temp, 'value')\n",
    "\n",
    "metal_dropdown = widgets.Dropdown(\n",
    "    options=[('Sodioa', 0), ('Aluminioa', 1), ('Burdina', 2), ('Kobrea', 3)],\n",
    "    value=metal,\n",
    "    description='Gasa:',\n",
    "    disabled=False,\n",
    ")\n",
    "\n",
    "metal_dropdown.observe(update_metal, 'value') \n",
    "\n",
    "\n",
    "# Output values\n",
    "\n",
    "fermi_energy_text = widgets.Label(value='%.2f' % Ef)\n",
    "mu_text = widgets.Label(value='%.2f' % (mu/Ef))\n",
    "\n",
    "\n",
    "\n",
    "\n",
    "# Layout\n",
    "\n",
    "left_block_121_000 = widgets.VBox([], layout=widgets.Layout(width='20%', align_self='center', align_items='center'))\n",
    "left_block_121_000.children = [metal_dropdown,\n",
    "                               widgets.HBox([T_slider, widgets.Label(value='$x10^4 K$')], layout=widgets.Layout(width='100%'))]\n",
    "\n",
    "center_block_121_000 = widgets.HBox([], layout=widgets.Layout(width='60%', align_self='center', align_items='center'))\n",
    "center_block_121_000.children = [fig_121_001, fig_121_002]\n",
    "\n",
    "right_block_121_000 = widgets.VBox([], layout=widgets.Layout(width='20%', align_self='center', align_items='center'))\n",
    "right_block_121_000.children = [widgets.HBox([widgets.Label(value='$\\epsilon_F=$'),fermi_energy_text,widgets.Label(value='$eV$')]),\n",
    "                                widgets.HBox([widgets.Label(value='$\\mu=$'),mu_text,widgets.Label(value='$\\epsilon_F$')])]\n",
    "\n",
    "main_block_121_000 = widgets.HBox([], layout=widgets.Layout(width='100%', align_self='center', align_items='center'))\n",
    "main_block_121_000.children = [left_block_121_000, center_block_121_000, right_block_121_000]\n",
    "\n",
    "main_block_121_000"
   ]
  },
  {
   "cell_type": "code",
   "execution_count": null,
   "metadata": {},
   "outputs": [],
   "source": []
  },
  {
   "cell_type": "code",
   "execution_count": null,
   "metadata": {},
   "outputs": [],
   "source": []
  }
 ],
 "metadata": {
  "kernelspec": {
   "display_name": "Python 3",
   "language": "python",
   "name": "python3"
  },
  "language_info": {
   "codemirror_mode": {
    "name": "ipython",
    "version": 3
   },
   "file_extension": ".py",
   "mimetype": "text/x-python",
   "name": "python",
   "nbconvert_exporter": "python",
   "pygments_lexer": "ipython3",
   "version": "3.8.5"
  }
 },
 "nbformat": 4,
 "nbformat_minor": 4
}
