{
 "cells": [
  {
   "cell_type": "code",
   "execution_count": 137,
   "metadata": {},
   "outputs": [
    {
     "data": {
      "text/html": [
       "<head><link rel='stylesheet' type='text/css' href='./../../static/custom.css'></head>"
      ],
      "text/plain": [
       "<IPython.core.display.HTML object>"
      ]
     },
     "metadata": {},
     "output_type": "display_data"
    },
    {
     "data": {
      "text/html": [
       "<style>.container { width:100% !important; }</style>"
      ],
      "text/plain": [
       "<IPython.core.display.HTML object>"
      ]
     },
     "metadata": {},
     "output_type": "display_data"
    }
   ],
   "source": [
    "from IPython.display import HTML\n",
    "display(HTML(\"<head><link rel='stylesheet' type='text/css' href='./../../static/custom.css'></head>\"))\n",
    "display(HTML(\"<style>.container { width:100% !important; }</style>\"))"
   ]
  },
  {
   "cell_type": "code",
   "execution_count": 138,
   "metadata": {},
   "outputs": [],
   "source": [
    "import numpy as np\n",
    "\n",
    "from bqplot import *\n",
    "import bqplot as bq\n",
    "import bqplot.marks as bqm\n",
    "import bqplot.scales as bqs\n",
    "import bqplot.axes as bqa\n",
    "\n",
    "import ipywidgets as widgets"
   ]
  },
  {
   "cell_type": "code",
   "execution_count": 139,
   "metadata": {},
   "outputs": [],
   "source": [
    "def get_n(z, dens, mass_mol):\n",
    "    n = z*Na * dens/mass_mol\n",
    "    return n"
   ]
  },
  {
   "cell_type": "code",
   "execution_count": 140,
   "metadata": {},
   "outputs": [],
   "source": [
    "def get_Ef(n):\n",
    "    Ef = h**2/(2*me)*(3*pi**2*n)**(2.0/3.0)\n",
    "    return Ef"
   ]
  },
  {
   "cell_type": "code",
   "execution_count": 141,
   "metadata": {},
   "outputs": [],
   "source": [
    "def get_mu(Ef,T):\n",
    "    mu = Ef*(1.0-1.0/3.0*(pi*kb*T/2.0/Ef)**2)\n",
    "    return mu"
   ]
  },
  {
   "cell_type": "code",
   "execution_count": 142,
   "metadata": {},
   "outputs": [],
   "source": [
    "def get_g(eps,Ef,n):\n",
    "    g = 3.0/2.0*n/Ef * np.sqrt(eps/Ef)\n",
    "    return g"
   ]
  },
  {
   "cell_type": "code",
   "execution_count": 143,
   "metadata": {},
   "outputs": [],
   "source": [
    "def calculate_integrals(eps_values, y_values):\n",
    "    \n",
    "    n_of_elec = 0.0\n",
    "    U_total = 0.0\n",
    "    y_values = y_values\n",
    "    de = (eps_values[pts-1] - eps_values[0])/pts\n",
    "    for i in range(pts):\n",
    "        n_of_elec = n_of_elec + y_values[i]*de\n",
    "        U_total = U_total + y_values[i]*eps_values[i]*de\n",
    "    return n_of_elec, U_total"
   ]
  },
  {
   "cell_type": "code",
   "execution_count": 144,
   "metadata": {},
   "outputs": [
    {
     "name": "stderr",
     "output_type": "stream",
     "text": [
      "<ipython-input-144-0fa822ab4dd5>:49: RuntimeWarning: overflow encountered in double_scalars\n",
      "  f_values[j] = 1.0/(e**((eps-mu)/kb/T)+1.0)\n"
     ]
    },
    {
     "data": {
      "application/vnd.jupyter.widget-view+json": {
       "model_id": "ac82e23947ac49e99b96f662a22bddc3",
       "version_major": 2,
       "version_minor": 0
      },
      "text/plain": [
       "HBox(children=(Figure(axes=[Axis(grid_color='#8e8e8e', grid_lines='none', label='T', label_offset='50px', num_…"
      ]
     },
     "metadata": {},
     "output_type": "display_data"
    }
   ],
   "source": [
    "pts = 2000\n",
    "pts_T = 500\n",
    "dim = 3\n",
    "T = 2.0\n",
    "T_min = 0.1\n",
    "T_max = 20.0\n",
    "h = 6.5821e-16 #Planck's reduced constant in eV*s\n",
    "c = 3.0e8 # Speed of Light in m/s\n",
    "me = 510998.9/c**2 # Electron mass in eV/c**2\n",
    "Na = 6.0221e23\n",
    "kb = 8.617e-1 # Boltzmann's in eV/(10**4K)\n",
    "pi =  np.pi\n",
    "e = np.e\n",
    "\n",
    "# Metal data:\n",
    "metal_labels = [\"Sodioa\", \"Aluminioa\", \"Burdina\", \"Kobrea\"] \n",
    "metal_densities = [968.0, 2700.0, 7874.0, 8960.0] # In kg/m**3\n",
    "molar_masses = [0.0229, 0.026, 0.0558, 0.0635] # In Kg\n",
    "valence_numbers = [1, 3, 2, 1]\n",
    "\n",
    "# Test calculation\n",
    "metal = 1\n",
    "rho = metal_densities[metal]\n",
    "mass = molar_masses[metal]\n",
    "z = valence_numbers[metal]\n",
    "n = get_n(z, rho, mass)\n",
    "Ef = get_Ef(n)\n",
    "\n",
    "\n",
    "\n",
    "T_values = np.linspace(T_min,T_max,pts_T)\n",
    "U_values = np.empty(pts)\n",
    "Cv_values = np.empty(pts)\n",
    "dT = (T_max - T_min) / pts_T\n",
    "\n",
    "for i in range(pts_T):\n",
    "\n",
    "    T = T_values[i]\n",
    "\n",
    "\n",
    "    mu = get_mu(Ef,T)\n",
    "\n",
    "    eps_values = np.linspace(0.0,200.0,pts)    \n",
    "    f_values = np.empty(pts) \n",
    "    g_values = np.empty(pts)\n",
    "    y_values = np.empty(pts)\n",
    "    for j in range(pts):\n",
    "        eps = eps_values[j]\n",
    "        f_values[j] = 1.0/(e**((eps-mu)/kb/T)+1.0)\n",
    "        g_values[j] = get_g(eps_values[j], Ef, n)\n",
    "        y_values[j] = f_values[j] * g_values[j]\n",
    "    \n",
    "    n_of_elec, U_total = calculate_integrals(eps_values, y_values)\n",
    "    U_values[i] = U_total/n_of_elec\n",
    "    \n",
    "    if i>0:\n",
    "        Cv_values[i] = (U_values[i] - U_values[i-1]) / dT\n",
    "\n",
    "\n",
    "# Figures\n",
    "fig_134_001 = bq.Figure(title='Elektroiko energia tenperaturarekiko',\n",
    "                marks=[],\n",
    "                axes=[],\n",
    "                animation_duration=0,\n",
    "                legend_location='top-right',\n",
    "                legend_style= {'fill': 'white', 'stroke': 'grey'},\n",
    "                background_style= {'fill': 'white',  'stroke': 'black'},\n",
    "                fig_margin=dict(top=70, bottom=60, left=80, right=30),\n",
    "                layout = widgets.Layout(width='50%'),\n",
    "                toolbar = True,\n",
    "    )\n",
    "\n",
    "fig_134_002 = bq.Figure(title='Bero ahalmena tenperaturarekiko',\n",
    "                marks=[],\n",
    "                axes=[],\n",
    "                animation_duration=0,\n",
    "                legend_location='top-right',\n",
    "                legend_style= {'fill': 'white', 'stroke': 'grey'},\n",
    "                background_style= {'fill': 'white',  'stroke': 'black'},\n",
    "                fig_margin=dict(top=70, bottom=60, left=80, right=30),\n",
    "                layout = widgets.Layout(width='50%'),\n",
    "                toolbar = True,\n",
    "    )\n",
    "\n",
    "scale_x_134_001 = bqs.LinearScale(min = 0.0, max = T_max)\n",
    "scale_y_134_001 = bqs.LinearScale(min = 0.5*Ef, max = 2*Ef)\n",
    "\n",
    "scale_x_134_002 = bqs.LinearScale(min = 0.0, max = T_max)\n",
    "scale_y_134_002 = bqs.LinearScale(min = 0.0, max = 1.5)\n",
    "\n",
    "\n",
    "axis_x_134_001 = bqa.Axis(scale=scale_x_134_001,\n",
    "                tick_format='.0f',#'0.2f',\n",
    "                tick_style={'font-size': '15px'},\n",
    "                #tick_values = np.linspace(p_min, p_max, 7),\n",
    "                num_ticks=3,\n",
    "                grid_lines = 'none',\n",
    "                grid_color = '#8e8e8e', \n",
    "                label='T',\n",
    "                label_location='middle',\n",
    "                label_style={'stroke': 'black', 'default-size': 35},\n",
    "                label_offset='50px')\n",
    "\n",
    "axis_y_134_001 = bqa.Axis(\n",
    "                scale=scale_y_134_001,\n",
    "                tick_format='1.3E',#'0.2f',\n",
    "                tick_style={'font-size': '15px'},\n",
    "                num_ticks=7,\n",
    "                grid_lines = 'none',\n",
    "                grid_color = '#8e8e8e', \n",
    "                orientation='vertical',\n",
    "                label='U',\n",
    "                label_location='middle',\n",
    "                label_style={'stroke': 'red', 'default_size': 35},\n",
    "                label_offset='60px')\n",
    "\n",
    "axis_x_134_002 = bqa.Axis(scale=scale_x_134_002,\n",
    "                tick_format='.0f',#'0.2f',\n",
    "                tick_style={'font-size': '15px'},\n",
    "                #tick_values = np.linspace(p_min, p_max, 7),\n",
    "                num_ticks=3,\n",
    "                grid_lines = 'none',\n",
    "                grid_color = '#8e8e8e', \n",
    "                label='T',\n",
    "                label_location='middle',\n",
    "                label_style={'stroke': 'black', 'default-size': 35},\n",
    "                label_offset='50px')\n",
    "\n",
    "axis_y_134_002 = bqa.Axis(\n",
    "                scale=scale_y_134_002,\n",
    "                tick_format='.1f',#'0.2f',\n",
    "                tick_style={'font-size': '15px'},\n",
    "                num_ticks=6,\n",
    "                grid_lines = 'none',\n",
    "                grid_color = '#8e8e8e', \n",
    "                orientation='vertical',\n",
    "                label='Cv',\n",
    "                label_location='middle',\n",
    "                label_style={'stroke': 'red', 'default_size': 35},\n",
    "                label_offset='50px')\n",
    "\n",
    "\n",
    "fig_134_001.axes = [axis_x_134_001, axis_y_134_001]\n",
    "fig_134_002.axes = [axis_x_134_002, axis_y_134_002]\n",
    "\n",
    "\n",
    "# The marks\n",
    "\n",
    "lines_134_001 = bqm.Lines(\n",
    "            x = T_values, \n",
    "            y = U_values, \n",
    "            scales = {'x': scale_x_134_001, 'y': scale_y_134_001}, \n",
    "            opacities = [1.0],\n",
    "            visible = True, #True, #t == '1.00',\n",
    "            colors = ['blue'],\n",
    "            labels = ['Enegia'],\n",
    "            display_legend = True\n",
    ")\n",
    "\n",
    "lines_134_002 = bqm.Lines(\n",
    "            x = T_values,\n",
    "            y = Cv_values,\n",
    "            scales = {'x': scale_x_134_002, 'y': scale_y_134_002},\n",
    "            opacities = [1.0],\n",
    "            visible = True,\n",
    "            colors = ['green'],\n",
    "            labels = ['Bero ahalmena'],\n",
    "            display_legend = True,\n",
    ")\n",
    "\n",
    "fig_134_001.marks = [lines_134_001]\n",
    "fig_134_002.marks = [lines_134_002]\n",
    "\n",
    "    \n",
    "widgets.HBox([fig_134_001,fig_134_002])\n"
   ]
  }
 ],
 "metadata": {
  "kernelspec": {
   "display_name": "Python 3",
   "language": "python",
   "name": "python3"
  },
  "language_info": {
   "codemirror_mode": {
    "name": "ipython",
    "version": 3
   },
   "file_extension": ".py",
   "mimetype": "text/x-python",
   "name": "python",
   "nbconvert_exporter": "python",
   "pygments_lexer": "ipython3",
   "version": "3.8.5"
  }
 },
 "nbformat": 4,
 "nbformat_minor": 4
}
