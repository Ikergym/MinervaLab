{
 "cells": [
  {
   "cell_type": "code",
   "execution_count": 1,
   "metadata": {},
   "outputs": [
    {
     "data": {
      "text/html": [
       "<head><link rel='stylesheet' type='text/css' href='./../../static/custom.css'></head>"
      ],
      "text/plain": [
       "<IPython.core.display.HTML object>"
      ]
     },
     "metadata": {},
     "output_type": "display_data"
    },
    {
     "data": {
      "text/html": [
       "<style>.container { width:100% !important; }</style>"
      ],
      "text/plain": [
       "<IPython.core.display.HTML object>"
      ]
     },
     "metadata": {},
     "output_type": "display_data"
    }
   ],
   "source": [
    "from IPython.display import HTML\n",
    "display(HTML(\"<head><link rel='stylesheet' type='text/css' href='./../../static/custom.css'></head>\"))\n",
    "display(HTML(\"<style>.container { width:100% !important; }</style>\"))"
   ]
  },
  {
   "cell_type": "code",
   "execution_count": 2,
   "metadata": {},
   "outputs": [],
   "source": [
    "from bqplot import *\n",
    "import bqplot as bq\n",
    "import bqplot.marks as bqm\n",
    "import bqplot.scales as bqs\n",
    "import bqplot.axes as bqa\n",
    "\n",
    "import ipywidgets as widgets"
   ]
  },
  {
   "cell_type": "markdown",
   "metadata": {},
   "source": [
    "$(p + \\frac{a}{v^2})(v - b) = k_B T \\quad \\rightarrow \\quad p = \\frac{k_B T}{(v - b)} - \\frac{a}{v^2}$"
   ]
  },
  {
   "cell_type": "code",
   "execution_count": 3,
   "metadata": {},
   "outputs": [],
   "source": [
    "def get_absolute_isotherms(a, b, v_values, T_values):\n",
    "    #given v (1d array) and T (Nd array) calculate N isotherm arrays \n",
    "    \n",
    "    isotherms = []\n",
    "    \n",
    "    #N_A = 6.02214129e23 \n",
    "\n",
    "    R = 0.082 * 1.01325 #atm L mol^-1 K^-1 #now in bar L mol^-1 K^-1\n",
    "\n",
    "    for T in T_values:\n",
    "        isot = []\n",
    "        for v in v_values:\n",
    "            p = R*T/(v - b) - (a/v**2)\n",
    "            isot.append(p)\n",
    "            \n",
    "        isotherms.append(isot)\n",
    "        \n",
    "    return isotherms"
   ]
  },
  {
   "cell_type": "code",
   "execution_count": 4,
   "metadata": {},
   "outputs": [],
   "source": [
    "def calculate_critic(a, b):\n",
    "    \n",
    "    \"\"\"\n",
    "        This function calculates the critic point \n",
    "        (p_c, v_c, T_c) from given a and b parameters of \n",
    "        the Van der Waals equation of state for real gases.\n",
    "        \n",
    "        :math:`(P + a \\\\frac{n^2}{V^2})(V - nb) = nRT`\n",
    "        \n",
    "        :math:`p_c = \\\\frac{a}{27 b^2}`\n",
    "        :math:`v_c = 3b`\n",
    "        :math:`T_c = \\\\frac{8a}{27 b k_B}`\n",
    "        \n",
    "   #Args:\n",
    "   #    a: Term related with the attraction between particles in\n",
    "   #    J m^3/ mol^2.\\n\n",
    "   #    b: Term related with the volume that is occupied by one \n",
    "   #    mole of the molecules in 10^-3 m^3/mol.\\n\n",
    "   #    \n",
    "   #Returns:\n",
    "   #    p_c: Critical pressure in Pa.\\n\n",
    "   #    v_c: Critical volume in m^3/mol.\\n\n",
    "   #    T_c: Critical tenperature in K.\\n\n",
    "        \n",
    "    \"\"\"\n",
    "    \n",
    "    if b == 0.0:\n",
    "        return None\n",
    "    \n",
    "    k_B = 1.3806488e-23 #m^2 kg s^-2 K^-1\n",
    "    N_A = 6.02214129e23 \n",
    "    R = 0.082 * 1.01325 #atm L mol^-1 K^-1 #now in bar L mol^-1 K^-1\n",
    "    \n",
    "    p_c = a/27.0/(b**2)\n",
    "    v_c = 3.0*b\n",
    "    T_c = 8.0*a/27.0/b/R\n",
    "    \n",
    "    return p_c, v_c, T_c"
   ]
  },
  {
   "cell_type": "code",
   "execution_count": 49,
   "metadata": {},
   "outputs": [
    {
     "data": {
      "text/plain": [
       "Lines(colors=['#0079c4', '#f09205', '#21c400'], interactions={'hover': 'tooltip'}, labels=['615.1174116130724', '647.4920122242868', '776.9904146691441'], opacities=[1.0, 1.0, 1.0], scales={'x': LinearScale(max=0.9147, min=0.024392), 'y': LinearScale(max=441.11056964310603, min=0.0)}, scales_metadata={'x': {'orientation': 'horizontal', 'dimension': 'x'}, 'y': {'orientation': 'vertical', 'dimension': 'y'}, 'color': {'dimension': 'color'}}, tooltip_style={'opacity': 0.9}, x=array([[0.024392  , 0.02617618, 0.02796037, ..., 0.91113163, 0.91291582,\n",
       "        0.9147    ],\n",
       "       [0.024392  , 0.02617618, 0.02796037, ..., 0.91113163, 0.91291582,\n",
       "        0.9147    ],\n",
       "       [0.024392  , 0.02617618, 0.02796037, ..., 0.91113163, 0.91291582,\n",
       "        0.9147    ]]), y=array([[-17685.77690163, -19926.98493278, -27284.97243168, ...,\n",
       "            51.36631715,     51.27501631,     51.18403679],\n",
       "       [-18126.88747127, -20550.53783435, -28348.32593048, ...,\n",
       "            54.4207858 ,     54.3233091 ,     54.22617865],\n",
       "       [-19891.32974984, -23044.7494406 , -32601.73992568, ...,\n",
       "            66.63866039,     66.51648027,     66.39474609]]))"
      ]
     },
     "execution_count": 49,
     "metadata": {},
     "output_type": "execute_result"
    }
   ],
   "source": [
    "new_state"
   ]
  },
  {
   "cell_type": "code",
   "execution_count": 53,
   "metadata": {},
   "outputs": [],
   "source": [
    "def update_isotherms(change):\n",
    "    \n",
    "    isotherms = get_absolute_isotherms(a_slider.value, b_slider.value, v_values, T_values)\n",
    "    #print(isotherms)\n",
    "    #marks = []\n",
    "    #middle_index = int(len(fig_114_001.marks)/2)\n",
    "    \n",
    "    new_state.y =  isotherms\n",
    "    \n",
    "    #for i in range(len(isotherms)):\n",
    "    \n",
    "        #marks.append(bqm.Lines(\n",
    "        #            x = v_values, \n",
    "        #            y = isotherms[i], \n",
    "        #            scales = {'x': scale_x, 'y': scale_y}, \n",
    "        #            opacities = [1.0],\n",
    "        #            visible = True, #True, #t == '1.00',\n",
    "        #            colors = [colors[i]],\n",
    "        #            labels = [str(T_values[i])],\n",
    "        #            ))\n",
    "        \n",
    "        #new_state.y = \n",
    "    \n",
    "    #for i in range(middle_index, len(fig_114_001.marks)):\n",
    "        \n",
    "    #    marks.append(fig_114_001.marks[i])\n",
    "        \n",
    "    #fig_114_001.marks = marks"
   ]
  },
  {
   "cell_type": "code",
   "execution_count": 54,
   "metadata": {},
   "outputs": [],
   "source": [
    "def restart(a):\n",
    "    \n",
    "    a_slider.value, b_slider.value = a_initial, b_initial"
   ]
  },
  {
   "cell_type": "code",
   "execution_count": 55,
   "metadata": {},
   "outputs": [
    {
     "data": {
      "application/vnd.jupyter.widget-view+json": {
       "model_id": "351cccb104a2438ca3cf5b1739eb891f",
       "version_major": 2,
       "version_minor": 0
      },
      "text/plain": [
       "VBox(children=(Figure(axes=[Axis(grid_color='#8e8e8e', grid_lines='none', label='v', label_offset='50px', num_…"
      ]
     },
     "metadata": {},
     "output_type": "display_data"
    }
   ],
   "source": [
    "a_initial = 5.536 #L^2 bar/mol^2\n",
    "b_initial = 0.03049 #L/mol\n",
    "\n",
    "a, b = a_initial, b_initial\n",
    "\n",
    "p_c, v_c, T_c = calculate_critic(a, b)\n",
    "\n",
    "T_values = [0.95*T_c, T_c, 1.2*T_c]\n",
    "v_values = np.linspace(0.8*b, 10*v_c, 500)\n",
    "colors = ['#0079c4','#f09205','#21c400']\n",
    "\n",
    "isotherms = get_absolute_isotherms(a, b, v_values, T_values)\n",
    "\n",
    "#######################################\n",
    "#######CREATE THE FIGURE###############\n",
    "#######################################\n",
    "\n",
    "\n",
    "fig_114_001 = bq.Figure(title='',\n",
    "                marks=[],\n",
    "                axes=[],\n",
    "                animation_duration=0, #500,\n",
    "                #layout = widgets.Layout(align_self='center', width='75%'),\n",
    "                legend_location='top-right',\n",
    "                background_style= {'fill': 'white',  'stroke': 'black'},\n",
    "                fig_margin=dict(top=80, bottom=80, left=80, right=30),\n",
    "                toolbar = True\n",
    "    )\n",
    "\n",
    "scale_x = bqs.LinearScale(min = min(v_values), max = max(v_values))\n",
    "scale_y = bqs.LinearScale(min = 0.0, max = 2.0*p_c)\n",
    "\n",
    "axis_x = bqa.Axis(scale=scale_x,\n",
    "                tick_format='.2f',#'0.2f',\n",
    "                tick_style={'font-size': '15px'},\n",
    "                num_ticks=5,\n",
    "                grid_lines = 'none',\n",
    "                grid_color = '#8e8e8e', \n",
    "                label='v',\n",
    "                label_location='middle',\n",
    "                label_style={'stroke': 'black', 'default-size': 35},\n",
    "                label_offset='50px')\n",
    "\n",
    "axis_y = bqa.Axis(\n",
    "                scale=scale_y,\n",
    "                tick_format='.0f',#'0.2f',\n",
    "                tick_style={'font-size': '15px'},\n",
    "                num_ticks=4,\n",
    "                grid_lines = 'none',\n",
    "                grid_color = '#8e8e8e', \n",
    "                orientation='vertical',\n",
    "                label='p',\n",
    "                label_location='middle',\n",
    "                label_style={'stroke': 'red', 'default_size': 35},\n",
    "                label_offset='50px')\n",
    "\n",
    "fig_114_001.axes = [axis_x, axis_y]\n",
    "\n",
    "marks = []\n",
    "\n",
    "new_state = bqm.Lines(\n",
    "                x = [], \n",
    "                y = [], \n",
    "                scales = {'x': scale_x, 'y': scale_y}, \n",
    "                opacities = [1.0 for elem in isotherms],\n",
    "                visible = True, #True, #t == '1.00',\n",
    "                colors = [],\n",
    "                labels = [],\n",
    ")\n",
    "\n",
    "old_state = bqm.Lines(\n",
    "                x = [], \n",
    "                y = [], \n",
    "                scales = {'x': scale_x, 'y': scale_y}, \n",
    "                opacities = [0.4 for elem in isotherms],\n",
    "                visible = True, #True, #t == '1.00',\n",
    "                colors = [],\n",
    "                labels = [],\n",
    ")\n",
    "\n",
    "x_values = [ v_values for i in range(len(isotherms))]\n",
    "y_values = []\n",
    "color_values = []\n",
    "label_values = []\n",
    "\n",
    "for i in range(len(isotherms)):\n",
    "    \n",
    "    y_values.append(isotherms[i])\n",
    "    color_values.append(colors[i])\n",
    "    label_values.append(str(T_values[i]))\n",
    "    \n",
    "   #marks.append(bqm.Lines(\n",
    "   #            x = v_values, \n",
    "   #            y = isotherms[i], \n",
    "   #            scales = {'x': scale_x, 'y': scale_y}, \n",
    "   #            opacities = [1.0],\n",
    "   #            visible = True, #True, #t == '1.00',\n",
    "   #            colors = [colors[i]],\n",
    "   #            labels = [str(T_values[i])],\n",
    "   #            ))\n",
    "    new_state.x = x\n",
    "    new_state.y = y\n",
    "    new_state.colors = colors2\n",
    "    new_state.labels = labels\n",
    "    \n",
    "    old_state.x = x\n",
    "    old_state.y = y\n",
    "    old_state.colors = colors2\n",
    "    old_state.labels = labels\n",
    "\n",
    "#marks.append(new_isotherm)\n",
    "#\n",
    "#for i in range(len(isotherms)):\n",
    "#    \n",
    "#    marks.append(bqm.Lines(\n",
    "#                x = v_values, \n",
    "#                y = isotherms[i], \n",
    "#                scales = {'x': scale_x, 'y': scale_y}, \n",
    "#                opacities = [0.4],\n",
    "#                visible = True, #True, #t == '1.00',\n",
    "#                colors = [colors[i]],\n",
    "#                labels = [str(T_values[i])],\n",
    "#                ))\n",
    "    \n",
    "fig_114_001.marks = [new_state, old_state]\n",
    "\n",
    "\n",
    "\n",
    "a_slider = widgets.FloatSlider(\n",
    "    min=0.0,\n",
    "    max=2.0*a,\n",
    "    step=0.1,\n",
    "    value=a,\n",
    "    description='a',\n",
    "    disabled=False,\n",
    "    continuous_update=False,\n",
    "    orientation='horizontal',\n",
    "    readout=True\n",
    ")\n",
    "\n",
    "a_slider.observe(update_isotherms, 'value')\n",
    "\n",
    "b_slider = widgets.FloatSlider(\n",
    "    min=0.0,\n",
    "    max=4.0*b,\n",
    "    step=0.001,\n",
    "    value=b,\n",
    "    description='b',\n",
    "    disabled=False,\n",
    "    continuous_update=False,\n",
    "    orientation='horizontal',\n",
    "    readout=True\n",
    ")\n",
    "\n",
    "b_slider.observe(update_isotherms, 'value')\n",
    "\n",
    "return_button = widgets.Button(\n",
    "    description='Return',\n",
    "    disabled=False,\n",
    "    button_style='', # 'success', 'info', 'warning', 'danger' or ''\n",
    "    tooltip='Return to the original state',\n",
    ")\n",
    "\n",
    "return_button.on_click(restart)\n",
    "\n",
    "top_block = widgets.VBox([], layout=widgets.Layout(width='50%', align_self='center'))\n",
    "\n",
    "top_block.children = [fig_114_001, a_slider, b_slider, return_button]\n",
    "top_block"
   ]
  },
  {
   "cell_type": "code",
   "execution_count": 37,
   "metadata": {},
   "outputs": [
    {
     "data": {
      "text/plain": [
       "0"
      ]
     },
     "execution_count": 37,
     "metadata": {},
     "output_type": "execute_result"
    }
   ],
   "source": [
    "len(fig_114_001.marks)"
   ]
  },
  {
   "cell_type": "code",
   "execution_count": null,
   "metadata": {},
   "outputs": [],
   "source": []
  }
 ],
 "metadata": {
  "kernelspec": {
   "display_name": "Python 3",
   "language": "python",
   "name": "python3"
  },
  "language_info": {
   "codemirror_mode": {
    "name": "ipython",
    "version": 3
   },
   "file_extension": ".py",
   "mimetype": "text/x-python",
   "name": "python",
   "nbconvert_exporter": "python",
   "pygments_lexer": "ipython3",
   "version": "3.7.0"
  }
 },
 "nbformat": 4,
 "nbformat_minor": 2
}
