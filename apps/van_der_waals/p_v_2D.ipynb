{
 "cells": [
  {
   "cell_type": "code",
   "execution_count": 57,
   "metadata": {},
   "outputs": [
    {
     "data": {
      "text/html": [
       "<head><link rel='stylesheet' type='text/css' href='./../../static/custom.css'></head>"
      ],
      "text/plain": [
       "<IPython.core.display.HTML object>"
      ]
     },
     "metadata": {},
     "output_type": "display_data"
    },
    {
     "data": {
      "text/html": [
       "<style>.container { width:100% !important; }</style>"
      ],
      "text/plain": [
       "<IPython.core.display.HTML object>"
      ]
     },
     "metadata": {},
     "output_type": "display_data"
    }
   ],
   "source": [
    "from IPython.display import HTML\n",
    "display(HTML(\"<head><link rel='stylesheet' type='text/css' href='./../../static/custom.css'></head>\"))\n",
    "display(HTML(\"<style>.container { width:100% !important; }</style>\"))"
   ]
  },
  {
   "cell_type": "code",
   "execution_count": 2,
   "metadata": {},
   "outputs": [],
   "source": [
    "from bqplot import *\n",
    "import bqplot as bq\n",
    "import bqplot.marks as bqm\n",
    "import bqplot.scales as bqs\n",
    "import bqplot.axes as bqa\n",
    "\n",
    "import ipywidgets as widgets\n",
    "\n",
    "import matplotlib as mpl\n",
    "import matplotlib.colors as mcolors  \n",
    "import matplotlib.pyplot as plt      \n",
    "\n",
    "from matplotlib import rc \n",
    "\n",
    "import scipy"
   ]
  },
  {
   "cell_type": "code",
   "execution_count": 3,
   "metadata": {},
   "outputs": [],
   "source": [
    "def calculate_critic(a, b):\n",
    "    \n",
    "    \"\"\"\n",
    "        This function calculates the critic point \n",
    "        (p_c, v_c, T_c) from given a and b parameters of \n",
    "        the Van der Waals equation of state for real gases.\n",
    "        \n",
    "        :math:`(P + a \\\\frac{n^2}{V^2})(V - nb) = nRT`\n",
    "        \n",
    "        :math:`p_c = \\\\frac{a}{27 b^2}`\n",
    "        :math:`v_c = 3b`\n",
    "        :math:`T_c = \\\\frac{8a}{27 b k_B}`\n",
    "        \n",
    "    Args:\n",
    "        a: Term related with the attraction between particles in\n",
    "        J m^3/ mol^2.\\n\n",
    "        b: Term related with the volume that is occupied by one \n",
    "        mole of the molecules in 10^-3 m^3/mol.\\n\n",
    "        \n",
    "    Returns:\n",
    "        p_c: Critical pressure in Pa.\\n\n",
    "        v_c: Critical volume in m^3/mol.\\n\n",
    "        T_c: Critical tenperature in K.\\n\n",
    "        \n",
    "    \"\"\"\n",
    "    \n",
    "    if b == 0.0:\n",
    "        return None\n",
    "    \n",
    "    k_B = 1.3806488e-23 #m^2 kg s^-2 K^-1\n",
    "    N_A = 6.02214129e23 \n",
    "    \n",
    "    p_c = a/27.0/(b**2)\n",
    "    v_c = 3.0*b\n",
    "    T_c = 8.0*a/27.0/b/k_B/N_A\n",
    "    \n",
    "    return p_c, v_c, T_c"
   ]
  },
  {
   "cell_type": "code",
   "execution_count": 4,
   "metadata": {},
   "outputs": [],
   "source": [
    "def theoretical_isotherms(T_range, v_range):\n",
    "    \n",
    "    \"\"\"\n",
    "    \n",
    "        This function calculates the p(v, T) plane\n",
    "        from given a and b parameters of \n",
    "        the Van der Waals equation of state for real gases.\n",
    "\n",
    "    Args:\n",
    "        a: Term related with the attraction between particles in\n",
    "        J m^3/ mol^2.\\n\n",
    "        b: Term related with the volume that is occupied by one \n",
    "        mole of the molecules in 10^-3 m^3/mol.\\n\n",
    "        T_range: Tuple containing maximum and minimum values of\n",
    "        temperature to be plotted. Temperatures must be expressed\n",
    "        in terms of the critical temperature.\\n\n",
    "        v_range: Tuple containing maximum and minimum values of\n",
    "        volumen to be plotted. Volumens must be expressed\n",
    "        in exponents of the critical volumen (v in 10^v_range).\\n\n",
    "        \n",
    "    Returns:\n",
    "        isotherms: a dictionary containing the values of v and the\n",
    "        pressures of the isotherms in the following form:\\n\n",
    "            isotherms['v'] = np.array containing the values of v\n",
    "            in a logarithmic scale.\\n\n",
    "            isotherms['value of the isotherm'] = np.array containing\n",
    "            the values of p.\\\n",
    "    \"\"\"\n",
    "    \n",
    "\n",
    "    \n",
    "\n",
    "\n",
    "    isotherms = {}\n",
    "    #v_R = np.logspace(min(v_range), max(v_range), num = 500, base = 10.0)\n",
    "    isotherms['v'] = v_range\n",
    "\n",
    "    for T in T_range:\n",
    "        p_R = []\n",
    "        for v in v_range:\n",
    "            val = (8.0/3.0*T/(v - 1.0/3.0) - 3.0/v**2)\n",
    "            p_R = np.append(p_R, val)\n",
    "\n",
    "        isotherms[T] = p_R\n",
    "\n",
    "    return isotherms"
   ]
  },
  {
   "cell_type": "code",
   "execution_count": 5,
   "metadata": {},
   "outputs": [],
   "source": [
    "def update_isotherm(change):\n",
    "    \n",
    "    \"\"\"    \n",
    "        This function makes the isotherm expressed by a\n",
    "        float ipython widget visible in the 'fig' plot and\n",
    "        hides the rest of the lines (the ones in the list \n",
    "        'saved' are always displayed).\\n\n",
    "\n",
    "    Args:\n",
    "        change: variable returned by my_float_widget.observe(update\n",
    "        _isotherm, 'value').\\n\n",
    "\n",
    "    \"\"\"\n",
    "    \n",
    "    temp = np.arange(T_r.min, T_r.max+0.05, 0.05)\n",
    "    t_range = np.around(temp, 2)\n",
    "    \n",
    "    old, = np.where(t_range == float(change.old))[0]\n",
    "    i, = np.where(t_range == float(change.new))[0]\n",
    "    \n",
    "    if old not in saved:\n",
    "        fig.marks[old].visible = False\n",
    "        fig.marks[old].display_legend = False\n",
    "        \n",
    "    fig.marks[i].visible = True\n",
    "    fig.marks[i].display_legend = True\n",
    "    \n",
    "    update_tracer(change)"
   ]
  },
  {
   "cell_type": "code",
   "execution_count": 6,
   "metadata": {},
   "outputs": [],
   "source": [
    "def save_isotherm(T):\n",
    "    \n",
    "    \"\"\"    \n",
    "        This function adds the isotherm expressed by a\n",
    "        float ipython widget ('T_r') visible to the 'saved' list\n",
    "        (the ones in the list 'saved' are always displayed\n",
    "        in the 'fig' plot).\\n\n",
    "\n",
    "    Args:\n",
    "        a: variable returned by save_button.on_click(save_isotherm)\n",
    "        .\\n\n",
    "\n",
    "    \"\"\"\n",
    "    i = get_isotherm_index(T)\n",
    "    saved.append(i)    \n",
    "    fig.marks[i].visible = True  #trivial when called by 'save isotherm button' but allows to 'show all checkbox' work"
   ]
  },
  {
   "cell_type": "markdown",
   "metadata": {},
   "source": [
    "def show_isotherm(T):\n",
    "    i = get_isotherm_index(T)\n",
    "    fig.marks[i].visible = True"
   ]
  },
  {
   "cell_type": "code",
   "execution_count": 7,
   "metadata": {},
   "outputs": [],
   "source": [
    "def get_isotherm_index(T):\n",
    "    t_range = get_t_range(t_min_input, t_max_input) \n",
    "    i, = np.where(t_range == float(T))[0]\n",
    "    return i"
   ]
  },
  {
   "cell_type": "code",
   "execution_count": 8,
   "metadata": {},
   "outputs": [],
   "source": [
    "def save_button_clicked(a):\n",
    "    save_isotherm(T_r.value)"
   ]
  },
  {
   "cell_type": "code",
   "execution_count": 9,
   "metadata": {},
   "outputs": [],
   "source": [
    "def undo(change):\n",
    "    \n",
    "    \"\"\"    \n",
    "        This function pops the isotherm expressed by a\n",
    "        float ipython widget ('T_r') visible from the 'saved' list\n",
    "        (the ones in the list 'saved' are always displayed\n",
    "        in the 'fig' plot).\\n\n",
    "\n",
    "    Args:\n",
    "        change: variable returned by undo_button.on_click(undo)\n",
    "        .\\n\n",
    "\n",
    "    \"\"\"\n",
    "        \n",
    "    if len(saved) > 0:\n",
    "        popped = saved.pop(-1)\n",
    "        i, = np.where(t_range == float(T_r.value))[0]\n",
    "        if i != popped:\n",
    "            fig.marks[popped].visible = False"
   ]
  },
  {
   "cell_type": "code",
   "execution_count": 10,
   "metadata": {},
   "outputs": [],
   "source": [
    "def update_critics(change):\n",
    "    \n",
    "    if b.value == 0.0:\n",
    "        return None\n",
    "    \n",
    "    p_c, v_c, T_c = calculate_critic(a.value, b.value * 0.001)\n",
    "    \n",
    "    p_c_text.value = '%.2f' % (p_c / 1000000.0) #Show in MPa\n",
    "    v_c_text.value = '%.2f' % (v_c * 1000000.0)\n",
    "    T_c_text.value = '%.2f' % (T_c)"
   ]
  },
  {
   "cell_type": "code",
   "execution_count": 11,
   "metadata": {},
   "outputs": [],
   "source": [
    "def get_t_range(t_min_input, t_max_input, num_input):\n",
    "    \n",
    "    t_min = t_min_input.value\n",
    "    t_max = t_max_input.value\n",
    "    num = num_input.value\n",
    "    \n",
    "    if t_min > t_max or t_min == t_max:\n",
    "        return None\n",
    "    \n",
    "    return np.linspace(start=t_min, stop=t_max, num=num)"
   ]
  },
  {
   "cell_type": "code",
   "execution_count": 12,
   "metadata": {},
   "outputs": [],
   "source": [
    "def update_t_range(change):\n",
    "    \n",
    "    t_range = get_t_range(t_min_input, t_max_input)\n",
    "    \n",
    "    T_r.min = min(t_range)\n",
    "    T_r.max = max(t_range)\n",
    "\n",
    "    data = isotherms(a.value, b.value * 0.001, t_range, v_limits)\n",
    "    \n",
    "    #isotherm_lines = []\n",
    "    marks = []\n",
    "    size  = len(data.keys())\n",
    "    step = np.floor_divide([255], [size])[0]\n",
    "\n",
    "    c1 = 255\n",
    "    c2 = 0\n",
    "    c3 = 0\n",
    "    \n",
    "    vis = str(T_r.value)\n",
    "    \n",
    "    if  vis not in data.keys():\n",
    "        \n",
    "        vis = '1.00'\n",
    "\n",
    "        if vis not in data.keys():\n",
    "            vis = min(data.keys())\n",
    "\n",
    "    T_r.value = float(vis)\n",
    "    \n",
    "    for line in fig.marks:\n",
    "        line.visible = False\n",
    "    \n",
    "    saved.clear()\n",
    "    \n",
    "    for t in data.keys():\n",
    "        if t != 'v':\n",
    "\n",
    "            color = '#%02x%02x%02x' % (c1, c2, c3)\n",
    "\n",
    "            marks.append(bqm.Lines(\n",
    "            #isotherm_lines.append(bqm.Lines(\n",
    "                x = data.get('v'), \n",
    "                y = data.get(t), \n",
    "                scales = {'x': scale_x, 'y': scale_y}, \n",
    "                #opacities = [1.0],\n",
    "                visible = t == vis,\n",
    "                display_legend = t == vis,\n",
    "                colors = [color],\n",
    "                labels = ['T = ' + t],\n",
    "                ))\n",
    "            c2 = c2 + step\n",
    "            \n",
    "\n",
    "    marks.append(tracer)\n",
    "    marks.append(labels_points)\n",
    "    marks.append(isopressure)\n",
    "       \n",
    "    maxwell_construction_checkbox.value = False\n",
    "    show_tracer_checkbox.value = False\n",
    "    \n",
    "    fig.marks = marks"
   ]
  },
  {
   "cell_type": "code",
   "execution_count": 13,
   "metadata": {},
   "outputs": [],
   "source": [
    "def find_nearest_index(array, value):\n",
    "    array = np.asarray(array)\n",
    "    idx = (np.abs(array - value)).argmin()\n",
    "    return idx"
   ]
  },
  {
   "cell_type": "code",
   "execution_count": 117,
   "metadata": {},
   "outputs": [],
   "source": [
    "def show_tracer(change):\n",
    "    \n",
    "    if show_tracer_checkbox.value:\n",
    "        tracer.visible = True\n",
    "        v_slider.disabled = False\n",
    "        update_tracer(change)\n",
    "        \n",
    "        label_input.disabled = False\n",
    "        add_label_button.disabled = False\n",
    "    else:\n",
    "        tracer.visible = False\n",
    "        v_slider.disabled = True\n",
    "        \n",
    "        label_input.disabled = True\n",
    "        add_label_button.disabled = True"
   ]
  },
  {
   "cell_type": "code",
   "execution_count": 126,
   "metadata": {},
   "outputs": [],
   "source": [
    "def update_tracer(change):\n",
    "    \n",
    "    v = v_slider.value\n",
    "    T = T_slider.value\n",
    "    \n",
    "    for mark in fig.marks:\n",
    "        \n",
    "        if mark.labels[0] == str(T):\n",
    "\n",
    "            x_values = mark.x\n",
    "            y_values = mark.y\n",
    "            break\n",
    "    \n",
    "    i_v = find_nearest_index(x_values, v)\n",
    "    tracer.x = np.array([x_values[i_v]])\n",
    "    tracer.y = np.array([y_values[i_v]])"
   ]
  },
  {
   "cell_type": "code",
   "execution_count": 16,
   "metadata": {},
   "outputs": [],
   "source": [
    "def add_label(x, y, label='froga'):\n",
    "    \n",
    "    x_labels = [elem for elem in labels_points.x]\n",
    "    y_labels = [elem for elem in labels_points.y]\n",
    "    \n",
    "    x_labels.append(tracer.x[0])\n",
    "    y_labels.append(tracer.y[0])\n",
    "    \n",
    "    labels_points.x, labels_points.y = x_labels, y_labels\n",
    "    labels_points.names = np.append(labels_points.names, label)"
   ]
  },
  {
   "cell_type": "code",
   "execution_count": 17,
   "metadata": {},
   "outputs": [],
   "source": [
    "def get_new_label(labels):\n",
    "    alpha = 'ABCDEFGHIJKLMNOPQRSTUVWXYZ'\n",
    "    alpha2 = 'ABCDEFGHIJKLMNOPQRSTUVWXYZ'\n",
    "    count = 0\n",
    "    i = 0\n",
    "    while i < len(alpha):\n",
    "        \n",
    "        elem = alpha[i]\n",
    "        if not np.isin(elem,labels):\n",
    "            return elem\n",
    "        \n",
    "        if i == (len(alpha) - 1):\n",
    "            alpha = [alpha2[count] + elem for elem in alpha2]\n",
    "            i = 0\n",
    "            count = count + 1\n",
    "            \n",
    "        i = i + 1"
   ]
  },
  {
   "cell_type": "code",
   "execution_count": 18,
   "metadata": {},
   "outputs": [],
   "source": [
    "def add_label_button_clicked(a):\n",
    "    label = label_input.value\n",
    "    if label == '':\n",
    "        label = get_new_label(labels_points.names)\n",
    "    add_label(tracer.x[0], tracer.y[0], label)\n",
    "    label_input.value = ''"
   ]
  },
  {
   "cell_type": "code",
   "execution_count": 19,
   "metadata": {},
   "outputs": [],
   "source": [
    "def update_isopressure(change):\n",
    "\n",
    "    p = p_slider.value\n",
    "    T = T_slider.value\n",
    "    \n",
    "    for mark in fig.marks:\n",
    "        \n",
    "        if mark.labels[0] == str(T):\n",
    "\n",
    "            x_values = mark.x\n",
    "            y_values = mark.y\n",
    "            break\n",
    "        \n",
    "    roots = get_roots(p, T)\n",
    "    \n",
    "    if len(roots) == 3:\n",
    "        \n",
    "        isopressure.fill = 'between'\n",
    "        shade_areas(change)\n",
    "        \n",
    "        #find where the isopressure curve intersects the isotherm\n",
    "        i_min = find_nearest_index(x_values, roots[0]) \n",
    "        i_max = find_nearest_index(x_values, roots[2])\n",
    "        \n",
    "        x_real = x_values.tolist()[i_min:i_max]\n",
    "        \n",
    "        #we have two lines: oen for the isopressure and the other for the isotherm\n",
    "        x = [x_real, x_real]\n",
    "        y = [[p for elem in x_real],\n",
    "             mark.y[i_min:i_max]]\n",
    "        \n",
    "        v_range_1 = (roots[0], roots[1])\n",
    "        v_range_2 = (roots[1], roots[2])\n",
    "\n",
    "        left_integral = defined_integral(p, v_range_1, T)\n",
    "        right_integral = defined_integral(p, v_range_2, T)\n",
    "        \n",
    "        integral_value_left_text.value = '%.2f' % left_integral\n",
    "        integral_value_right_text.value = '%.2f' % right_integral\n",
    "        \n",
    "        integral_value_text.value = '%.2f' % (left_integral + right_integral)\n",
    "        \n",
    "    else:\n",
    "        isopressure.fill = 'none'\n",
    "        x = [x_values, x_values]\n",
    "        y = [[p for elem in x_values], mark.y]\n",
    "        \n",
    "        integral_value_left_text.value = '-'\n",
    "        integral_value_right_text.value = '-'\n",
    "        integral_value_text.value = '-'\n",
    "\n",
    "    isopressure.x, isopressure.y = x, y"
   ]
  },
  {
   "cell_type": "code",
   "execution_count": 20,
   "metadata": {},
   "outputs": [],
   "source": [
    "def get_roots(p, T):\n",
    "    \n",
    "    roots = np.roots([1.0, - 1.0/3.0*(1.0 + 8.0*T/p), 3.0/p, -1.0/p])\n",
    "    roots_in_range = []\n",
    "    \n",
    "    for root in roots:\n",
    "        if np.isreal(root):\n",
    "            root = np.real(root)\n",
    "            if root > 0:\n",
    "                roots_in_range.append(root)\n",
    "    #print(roots_in_range) \n",
    "    roots_in_range.sort()\n",
    "    \n",
    "    return roots_in_range"
   ]
  },
  {
   "cell_type": "code",
   "execution_count": 21,
   "metadata": {},
   "outputs": [],
   "source": [
    "def p_undefined_integral(p_0, v_0, T):\n",
    "    \n",
    "    return 8.0/3.0 * T *np.log(v_0 - 1.0/3.0) + 3.0/v_0 - p_0*v_0"
   ]
  },
  {
   "cell_type": "code",
   "execution_count": 22,
   "metadata": {},
   "outputs": [],
   "source": [
    "def defined_integral(p_0, v_range, T):\n",
    "    v_0, v_1 = v_range[0], v_range[1]\n",
    "    return p_undefined_integral(p_0, v_1, T) - p_undefined_integral(p_0, v_0, T)"
   ]
  },
  {
   "cell_type": "code",
   "execution_count": 23,
   "metadata": {},
   "outputs": [],
   "source": [
    "def find_real_fixed_T(p_range, T):\n",
    "    \n",
    "    eps = 1e-3 #1.0/p_range.size\n",
    "    \n",
    "    for p in p_range:\n",
    "        \n",
    "        roots = get_roots(p, T)\n",
    "        if len(roots) == 3:\n",
    "            v_range = (roots[0], roots[2])\n",
    "            area = defined_integral(p, v_range, T)\n",
    "            if abs(area) < eps:\n",
    "                return p, v_range\n",
    "\n",
    "    return None"
   ]
  },
  {
   "cell_type": "code",
   "execution_count": 24,
   "metadata": {},
   "outputs": [],
   "source": [
    "def shade_areas(change):\n",
    "    \n",
    "    if shade_areas_checkbox.value:\n",
    "        \n",
    "        isopressure.fill_opacities = [0.35]\n",
    "        \n",
    "    else:\n",
    "        \n",
    "        isopressure.fill_opacities = [0.0]"
   ]
  },
  {
   "cell_type": "code",
   "execution_count": 25,
   "metadata": {},
   "outputs": [],
   "source": [
    "def find_real_isotherm(a):\n",
    "    \n",
    "    maxwell_p.continuous_update = False\n",
    "    \n",
    "    p_min = maxwell_p.min\n",
    "    p_max = maxwell_p.max\n",
    "    step = maxwell_p.step\n",
    "    \n",
    "    p_range = np.arange(p_max, p_min, -step)\n",
    "       \n",
    "    for p in p_range:\n",
    "        maxwell_p.value = p\n",
    "        if integral_value_text.value == '0.0':\n",
    "            break\n",
    "            "
   ]
  },
  {
   "cell_type": "code",
   "execution_count": 26,
   "metadata": {},
   "outputs": [],
   "source": [
    "def prepare_export(a):\n",
    "    global fig_str\n",
    "    fig_str = repr(fig)\n",
    "    %store fig_str\n",
    "    export_button.value = \"<form action=\" + \"../../../apps/modules/export_module.ipynb\" + \" target='_blank'><button type=''submit''>Open in export module</button></form>\"\n"
   ]
  },
  {
   "cell_type": "code",
   "execution_count": 27,
   "metadata": {},
   "outputs": [],
   "source": [
    "def experimental_isotherms(t_range, v_range):\n",
    "    \n",
    "    theo_data = theoretical_isotherms(t_range, v_range)\n",
    "    expe_data = {}\n",
    "    \n",
    "    v_limits = {}\n",
    "    p_limits = {}\n",
    "    \n",
    "    v = theo_data.get('v')\n",
    "    \n",
    "    for t in theo_data.keys():\n",
    "        \n",
    "        if t != 'v':\n",
    "            if float(t) < 1.0:\n",
    "                try:\n",
    "                    p_theo = theo_data.get(t)\n",
    "                    p_expe = []\n",
    "                    #p_max = scipy.signal.argrelmax(p)\n",
    "                    #print(p_max)\n",
    "                    #p_min = scipy.signal.argrelmin(p)\n",
    "                    #print(p_min)\n",
    "                    p_range = np.linspace(0.001, 1.0, num=5000)\n",
    "                    p, v_range = find_real_fixed_T(p_range, t)\n",
    "\n",
    "                    for i in range(len(v)):\n",
    "                        if v[i] > v_range[0] and v[i] < v_range[1]:\n",
    "                            p_expe.append(p)\n",
    "                            \n",
    "                        else:\n",
    "                            p_expe.append(p_theo[i])\n",
    "       \n",
    "                    expe_data[t] = p_expe\n",
    "                    v_limits[t] = [v_range[0], v_range[1]]\n",
    "                    p_limits[t] = [p, p]\n",
    "                    \n",
    "                except: # Exception as e:\n",
    "                    \n",
    "                    expe_data[t] = []\n",
    "                    v_limits[t] = []\n",
    "                    p_limits[t] = []\n",
    "            else:\n",
    "                expe_data[t] = theo_data.get(t)\n",
    "                \n",
    "                if float(t) == 1.0:\n",
    "                    v_limits[t] = [1.0]\n",
    "                    p_limits[t] = [1.0]\n",
    "                \n",
    "                else:\n",
    "                    v_limits[t] = []\n",
    "                    p_limits[t] = []\n",
    "                \n",
    "    return expe_data, theo_data, v_limits, p_limits"
   ]
  },
  {
   "cell_type": "code",
   "execution_count": 28,
   "metadata": {},
   "outputs": [],
   "source": [
    "p_range = np.linspace(0.2, 1.0, num=1000)\n",
    "find_real_fixed_T(p_range, 1.25)"
   ]
  },
  {
   "cell_type": "markdown",
   "metadata": {},
   "source": [
    "def get_real_isotherm_limits(v, theo_isot, expe_isot):\n",
    "    #takes two arrays and gets the two points of the limit of the coexistence zone\n",
    "    \n",
    "    delta = theo_isot - expe_isot\n",
    "    i_initial = 0\n",
    "    i_final = 0\n",
    "    \n",
    "    for i in range(len(delta)):\n",
    "        if delta[i] != 0.0:\n",
    "            i_initial = i\n",
    "            break\n",
    "    \n",
    "    for i in range(len(delta), 0, -1):\n",
    "        if delta[i] != 0.0:\n",
    "            i_final = i\n",
    "            break\n",
    "    \n",
    "    v_array = [v[i_initial], v[i_final]]\n",
    "    p_array = [theo_isot[i_initial], theo_isot[i_final]]\n",
    "    \n",
    "    return v_array, p_array"
   ]
  },
  {
   "cell_type": "code",
   "execution_count": 143,
   "metadata": {},
   "outputs": [],
   "source": [
    "def generate_isotherm_marks(t_range, v_range, scale_x, scale_y):\n",
    "    \n",
    "    data = experimental_isotherms(t_range, v_range)\n",
    "    \n",
    "    expe_data = data[0]\n",
    "    theo_data = data[1]\n",
    "    v_limits = data[2]\n",
    "    p_limits = data[3]\n",
    "       \n",
    "    marks = []\n",
    "    \n",
    "    size = len(theo_data.keys()) - 1\n",
    "    step = int(np.around([255/size], 0)[0])\n",
    "\n",
    "    c1 = 255\n",
    "    c2 = 0\n",
    "    c3 = 0\n",
    "    \n",
    "    v_theo = theo_data.get('v')\n",
    "    \n",
    "    for t in theo_data.keys():\n",
    "        if t != 'v':\n",
    "\n",
    "            color = '#%02x%02x%02x' % (c1, c2, c3)\n",
    "\n",
    "            marks.append(bqm.Lines(\n",
    "                #name = str(t),\n",
    "                x = v_theo, \n",
    "                y = theo_data.get(t), \n",
    "                scales = {'x': scale_x, 'y': scale_y}, \n",
    "                opacities = [opacity_slider.value],\n",
    "                visible = theoretical_toggle.value, #True, #t == '1.00',\n",
    "                colors = [color],\n",
    "                labels = [str(t)],\n",
    "                ))\n",
    "            \n",
    "            if len(expe_data.get(t)) != 0:\n",
    "            \n",
    "                p = expe_data.get(t)\n",
    "                v_real = v_theo\n",
    "            \n",
    "            else:\n",
    "                p = [1.0]\n",
    "                v_real = []\n",
    "            \n",
    "            marks.append(bqm.Lines(\n",
    "            #    name = str(t),\n",
    "                x = v_real, \n",
    "                y = p, \n",
    "                scales = {'x': scale_x, 'y': scale_y}, \n",
    "                opacities = [opacity_slider.value],\n",
    "                visible = experimental_toggle.value, #False, #t == '1.00',\n",
    "                colors = [color],\n",
    "                labels = [str(t)],\n",
    "                line_style = 'dashed'\n",
    "                ))\n",
    "            \n",
    "            #v_limits, p_limits = get_real_isotherm_limits(v, theo_isot, expe_isot)\n",
    "            \n",
    "            marks.append(bqm.Scatter(\n",
    "                x = v_limits.get(t),\n",
    "                y = p_limits.get(t),\n",
    "                scales = {'x': scale_x, 'y': scale_y}, \n",
    "                default_opacities = [opacity_slider.value],\n",
    "                visible = show_limits_checkbox.value, #False,\n",
    "                colors = [color],\n",
    "                names = [],\n",
    "                labels = [str(t)]\n",
    "            )) \n",
    "            \n",
    "            \n",
    "            c2 = c2 + step\n",
    "    \n",
    "    labels_points.x = []\n",
    "    labels_points.y = []\n",
    "    labels_points.names = []\n",
    "    \n",
    "    tracer = fig.marks[-3]\n",
    "    labels_points = fig.marks[-2]\n",
    "    isopressure = fig.marks[-1]\n",
    "    \n",
    "    marks.append(tracer)\n",
    "    marks.append(labels_points)\n",
    "    marks.append(isopressure)\n",
    "    \n",
    "    return marks"
   ]
  },
  {
   "cell_type": "code",
   "execution_count": 31,
   "metadata": {},
   "outputs": [
    {
     "ename": "NameError",
     "evalue": "name 'generate_isotherms' is not defined",
     "output_type": "error",
     "traceback": [
      "\u001b[1;31m---------------------------------------------------------------------------\u001b[0m",
      "\u001b[1;31mNameError\u001b[0m                                 Traceback (most recent call last)",
      "\u001b[1;32m<ipython-input-31-db42ae045c72>\u001b[0m in \u001b[0;36m<module>\u001b[1;34m\u001b[0m\n\u001b[1;32m----> 1\u001b[1;33m \u001b[0mgenerate_isotherms\u001b[0m\u001b[1;33m(\u001b[0m\u001b[1;32mNone\u001b[0m\u001b[1;33m)\u001b[0m\u001b[1;33m\u001b[0m\u001b[0m\n\u001b[0m",
      "\u001b[1;31mNameError\u001b[0m: name 'generate_isotherms' is not defined"
     ]
    }
   ],
   "source": [
    "generate_isotherms(None)"
   ]
  },
  {
   "cell_type": "code",
   "execution_count": 32,
   "metadata": {},
   "outputs": [
    {
     "ename": "NameError",
     "evalue": "name 'T_slider' is not defined",
     "output_type": "error",
     "traceback": [
      "\u001b[1;31m---------------------------------------------------------------------------\u001b[0m",
      "\u001b[1;31mNameError\u001b[0m                                 Traceback (most recent call last)",
      "\u001b[1;32m<ipython-input-32-d926c878e9d8>\u001b[0m in \u001b[0;36m<module>\u001b[1;34m\u001b[0m\n\u001b[1;32m----> 1\u001b[1;33m \u001b[0mT_slider\u001b[0m\u001b[1;33m\u001b[0m\u001b[0m\n\u001b[0m",
      "\u001b[1;31mNameError\u001b[0m: name 'T_slider' is not defined"
     ]
    }
   ],
   "source": [
    "T_slider"
   ]
  },
  {
   "cell_type": "code",
   "execution_count": 33,
   "metadata": {},
   "outputs": [
    {
     "ename": "NameError",
     "evalue": "name 'fig' is not defined",
     "output_type": "error",
     "traceback": [
      "\u001b[1;31m---------------------------------------------------------------------------\u001b[0m",
      "\u001b[1;31mNameError\u001b[0m                                 Traceback (most recent call last)",
      "\u001b[1;32m<ipython-input-33-d50eb537ec31>\u001b[0m in \u001b[0;36m<module>\u001b[1;34m\u001b[0m\n\u001b[1;32m----> 1\u001b[1;33m \u001b[0mwidgets\u001b[0m\u001b[1;33m.\u001b[0m\u001b[0mHBox\u001b[0m\u001b[1;33m(\u001b[0m\u001b[1;33m[\u001b[0m\u001b[0mfig\u001b[0m\u001b[1;33m,\u001b[0m \u001b[0mT_slider\u001b[0m\u001b[1;33m]\u001b[0m\u001b[1;33m)\u001b[0m\u001b[1;33m\u001b[0m\u001b[0m\n\u001b[0m",
      "\u001b[1;31mNameError\u001b[0m: name 'fig' is not defined"
     ]
    }
   ],
   "source": [
    "widgets.HBox([fig, T_slider])"
   ]
  },
  {
   "cell_type": "code",
   "execution_count": 34,
   "metadata": {},
   "outputs": [],
   "source": [
    "def generate_isotherms(a):\n",
    "    \n",
    "    v_range = np.linspace(start=0.5, stop=5.0, num=500)\n",
    "    t_range = get_t_range(t_min_input, t_max_input, num_input)\n",
    "    \n",
    "    fig.marks = generate_isotherm_marks(t_range, v_range, scale_x, scale_y)\n",
    "    \n",
    "    T_slider.options = t_range\n",
    "    T_slider.value=t_range[0]\n",
    "    T_slider.value=t_range[int(t_range.size/2)]\n",
    "    \n",
    "    select_visible.options = [str(t) for t in T_slider.options[::-1]]\n",
    "    select_visible.value = [str(t) for t in T_slider.options[::-1]]\n",
    "    \n",
    "    select_isotherm(None)"
   ]
  },
  {
   "cell_type": "code",
   "execution_count": 127,
   "metadata": {},
   "outputs": [
    {
     "data": {
      "text/plain": [
       "True"
      ]
     },
     "execution_count": 127,
     "metadata": {},
     "output_type": "execute_result"
    }
   ],
   "source": [
    "tracer.labels[0] in ('tracer')"
   ]
  },
  {
   "cell_type": "code",
   "execution_count": 131,
   "metadata": {},
   "outputs": [],
   "source": [
    "def select_isotherm(change):\n",
    "    \n",
    "    for mark in fig.marks:\n",
    "        if mark.labels[0] == str(T_slider.value):\n",
    "            mark.opacities = [1.0]\n",
    "            mark.default_opacities = [1.0]\n",
    "            \n",
    "        else:\n",
    "            if mark.labels[0] not in ('isopressure', 'labels', 'tracer'):\n",
    "                mark.opacities = [opacity_slider.value]\n",
    "                mark.default_opacities = [opacity_slider.value]\n",
    "                \n",
    "    if maxwell_construction_checkbox.value:\n",
    "        \n",
    "        update_isopressure(change)\n",
    "        \n",
    "    if show_tracer_checkbox.value:\n",
    "        update_tracer(change)"
   ]
  },
  {
   "cell_type": "code",
   "execution_count": 137,
   "metadata": {},
   "outputs": [
    {
     "data": {
      "text/plain": [
       "True"
      ]
     },
     "execution_count": 137,
     "metadata": {},
     "output_type": "execute_result"
    }
   ],
   "source": [
    "labels_points.labels[0] in ('labels')"
   ]
  },
  {
   "cell_type": "code",
   "execution_count": 138,
   "metadata": {},
   "outputs": [],
   "source": [
    "def show_isotherm(change):\n",
    "    \n",
    "    for i in range(len(fig.marks)):\n",
    "        \n",
    "        mark = fig.marks[i]\n",
    "        label = mark.labels[0]\n",
    "        \n",
    "        if label not in ('isopressure', 'labels', 'tracer'):\n",
    "        \n",
    "            if label not in select_visible.value:\n",
    "                mark.visible = False\n",
    "\n",
    "            else:\n",
    "\n",
    "                if i%3 == 0 and label in select_visible.value:\n",
    "                    mark.visible = theoretical_toggle.value\n",
    "\n",
    "                elif i%3 == 1 and label in select_visible.value:\n",
    "                    mark.visible = experimental_toggle.value\n",
    "\n",
    "                elif i%3 == 2 and label in select_visible.value:\n",
    "                    mark.visible = show_limits_checkbox.value\n",
    "                #mark.visible = True"
   ]
  },
  {
   "cell_type": "code",
   "execution_count": 37,
   "metadata": {},
   "outputs": [],
   "source": [
    "def show_all(a):\n",
    "    select_visible.value = [str(t) for t in T_slider.options]"
   ]
  },
  {
   "cell_type": "code",
   "execution_count": 38,
   "metadata": {},
   "outputs": [],
   "source": [
    "def show_maxwell(change):\n",
    "    \n",
    "    if maxwell_construction_checkbox.value:\n",
    "        p_slider.disabled = False\n",
    "        shade_areas_checkbox.disabled = False\n",
    "        \n",
    "        isopressure.visible = True\n",
    "        update_isopressure(change)\n",
    "        \n",
    "    else:\n",
    "        p_slider.disabled = True\n",
    "        shade_areas_checkbox.disabled = True\n",
    "        isopressure.visible = False"
   ]
  },
  {
   "cell_type": "code",
   "execution_count": 89,
   "metadata": {},
   "outputs": [],
   "source": [
    "def show_limits(change):\n",
    "    \n",
    "    t_selected = [str(t) for t in select_visible.value]\n",
    "    \n",
    "    for mark in fig.marks:\n",
    "        if mark.labels[0] in t_selected and type(mark) == bqm.Scatter:\n",
    "            mark.visible = show_limits_checkbox.value\n"
   ]
  },
  {
   "cell_type": "code",
   "execution_count": 40,
   "metadata": {},
   "outputs": [
    {
     "ename": "NameError",
     "evalue": "name 'fig' is not defined",
     "output_type": "error",
     "traceback": [
      "\u001b[1;31m---------------------------------------------------------------------------\u001b[0m",
      "\u001b[1;31mNameError\u001b[0m                                 Traceback (most recent call last)",
      "\u001b[1;32m<ipython-input-40-1e83aabecc54>\u001b[0m in \u001b[0;36m<module>\u001b[1;34m\u001b[0m\n\u001b[1;32m----> 1\u001b[1;33m \u001b[0mfig\u001b[0m\u001b[1;33m.\u001b[0m\u001b[0mmarks\u001b[0m\u001b[1;33m[\u001b[0m\u001b[1;33m-\u001b[0m\u001b[1;36m1\u001b[0m\u001b[1;33m]\u001b[0m\u001b[1;33m\u001b[0m\u001b[0m\n\u001b[0m",
      "\u001b[1;31mNameError\u001b[0m: name 'fig' is not defined"
     ]
    }
   ],
   "source": [
    "fig.marks[-1]"
   ]
  },
  {
   "cell_type": "code",
   "execution_count": 41,
   "metadata": {},
   "outputs": [
    {
     "ename": "NameError",
     "evalue": "name 'fig' is not defined",
     "output_type": "error",
     "traceback": [
      "\u001b[1;31m---------------------------------------------------------------------------\u001b[0m",
      "\u001b[1;31mNameError\u001b[0m                                 Traceback (most recent call last)",
      "\u001b[1;32m<ipython-input-41-6354806fd158>\u001b[0m in \u001b[0;36m<module>\u001b[1;34m\u001b[0m\n\u001b[1;32m----> 1\u001b[1;33m \u001b[1;32mfor\u001b[0m \u001b[0mmark\u001b[0m \u001b[1;32min\u001b[0m \u001b[0mfig\u001b[0m\u001b[1;33m.\u001b[0m\u001b[0mmarks\u001b[0m\u001b[1;33m:\u001b[0m\u001b[1;33m\u001b[0m\u001b[0m\n\u001b[0m\u001b[0;32m      2\u001b[0m     \u001b[0mprint\u001b[0m\u001b[1;33m(\u001b[0m\u001b[0mtype\u001b[0m\u001b[1;33m(\u001b[0m\u001b[0mmark\u001b[0m\u001b[1;33m)\u001b[0m\u001b[1;33m)\u001b[0m\u001b[1;33m\u001b[0m\u001b[0m\n",
      "\u001b[1;31mNameError\u001b[0m: name 'fig' is not defined"
     ]
    }
   ],
   "source": [
    "for mark in fig.marks:\n",
    "    print(type(mark))"
   ]
  },
  {
   "cell_type": "code",
   "execution_count": 42,
   "metadata": {},
   "outputs": [],
   "source": [
    "def change_isotherm_type(change):\n",
    "    \n",
    "    t_options = [str(t) for t in T_slider.options]\n",
    "    \n",
    "    for i in range(len(fig.marks)):\n",
    "        \n",
    "        mark = fig.marks[i]\n",
    "        \n",
    "        if i%3 == 0 and mark.labels[0] in select_visible.value:\n",
    "            mark.visible = theoretical_toggle.value\n",
    "            \n",
    "        elif i%3 == 1 and mark.labels[0] in select_visible.value:\n",
    "            mark.visible = experimental_toggle.value"
   ]
  },
  {
   "cell_type": "code",
   "execution_count": 144,
   "metadata": {
    "scrolled": false
   },
   "outputs": [
    {
     "ename": "UnboundLocalError",
     "evalue": "local variable 'labels_points' referenced before assignment",
     "output_type": "error",
     "traceback": [
      "\u001b[1;31m---------------------------------------------------------------------------\u001b[0m",
      "\u001b[1;31mUnboundLocalError\u001b[0m                         Traceback (most recent call last)",
      "\u001b[1;32m<ipython-input-144-231e223eda6b>\u001b[0m in \u001b[0;36m<module>\u001b[1;34m\u001b[0m\n\u001b[0;32m    456\u001b[0m \u001b[1;33m\u001b[0m\u001b[0m\n\u001b[0;32m    457\u001b[0m \u001b[0mfig\u001b[0m\u001b[1;33m.\u001b[0m\u001b[0mmarks\u001b[0m \u001b[1;33m=\u001b[0m \u001b[0mmarks\u001b[0m\u001b[1;33m\u001b[0m\u001b[0m\n\u001b[1;32m--> 458\u001b[1;33m \u001b[0mgenerate_isotherms\u001b[0m\u001b[1;33m(\u001b[0m\u001b[1;32mNone\u001b[0m\u001b[1;33m)\u001b[0m\u001b[1;33m\u001b[0m\u001b[0m\n\u001b[0m\u001b[0;32m    459\u001b[0m \u001b[1;33m\u001b[0m\u001b[0m\n\u001b[0;32m    460\u001b[0m figure_block = widgets.VBox([widgets.HBox([p_slider, fig, T_slider]),\n",
      "\u001b[1;32m<ipython-input-34-85130c8ba442>\u001b[0m in \u001b[0;36mgenerate_isotherms\u001b[1;34m(a)\u001b[0m\n\u001b[0;32m      4\u001b[0m     \u001b[0mt_range\u001b[0m \u001b[1;33m=\u001b[0m \u001b[0mget_t_range\u001b[0m\u001b[1;33m(\u001b[0m\u001b[0mt_min_input\u001b[0m\u001b[1;33m,\u001b[0m \u001b[0mt_max_input\u001b[0m\u001b[1;33m,\u001b[0m \u001b[0mnum_input\u001b[0m\u001b[1;33m)\u001b[0m\u001b[1;33m\u001b[0m\u001b[0m\n\u001b[0;32m      5\u001b[0m \u001b[1;33m\u001b[0m\u001b[0m\n\u001b[1;32m----> 6\u001b[1;33m     \u001b[0mfig\u001b[0m\u001b[1;33m.\u001b[0m\u001b[0mmarks\u001b[0m \u001b[1;33m=\u001b[0m \u001b[0mgenerate_isotherm_marks\u001b[0m\u001b[1;33m(\u001b[0m\u001b[0mt_range\u001b[0m\u001b[1;33m,\u001b[0m \u001b[0mv_range\u001b[0m\u001b[1;33m,\u001b[0m \u001b[0mscale_x\u001b[0m\u001b[1;33m,\u001b[0m \u001b[0mscale_y\u001b[0m\u001b[1;33m)\u001b[0m\u001b[1;33m\u001b[0m\u001b[0m\n\u001b[0m\u001b[0;32m      7\u001b[0m \u001b[1;33m\u001b[0m\u001b[0m\n\u001b[0;32m      8\u001b[0m     \u001b[0mT_slider\u001b[0m\u001b[1;33m.\u001b[0m\u001b[0moptions\u001b[0m \u001b[1;33m=\u001b[0m \u001b[0mt_range\u001b[0m\u001b[1;33m\u001b[0m\u001b[0m\n",
      "\u001b[1;32m<ipython-input-143-f9846c53fe98>\u001b[0m in \u001b[0;36mgenerate_isotherm_marks\u001b[1;34m(t_range, v_range, scale_x, scale_y)\u001b[0m\n\u001b[0;32m     72\u001b[0m             \u001b[0mc2\u001b[0m \u001b[1;33m=\u001b[0m \u001b[0mc2\u001b[0m \u001b[1;33m+\u001b[0m \u001b[0mstep\u001b[0m\u001b[1;33m\u001b[0m\u001b[0m\n\u001b[0;32m     73\u001b[0m \u001b[1;33m\u001b[0m\u001b[0m\n\u001b[1;32m---> 74\u001b[1;33m     \u001b[0mlabels_points\u001b[0m\u001b[1;33m.\u001b[0m\u001b[0mx\u001b[0m \u001b[1;33m=\u001b[0m \u001b[1;33m[\u001b[0m\u001b[1;33m]\u001b[0m\u001b[1;33m\u001b[0m\u001b[0m\n\u001b[0m\u001b[0;32m     75\u001b[0m     \u001b[0mlabels_points\u001b[0m\u001b[1;33m.\u001b[0m\u001b[0my\u001b[0m \u001b[1;33m=\u001b[0m \u001b[1;33m[\u001b[0m\u001b[1;33m]\u001b[0m\u001b[1;33m\u001b[0m\u001b[0m\n\u001b[0;32m     76\u001b[0m     \u001b[0mlabels_points\u001b[0m\u001b[1;33m.\u001b[0m\u001b[0mnames\u001b[0m \u001b[1;33m=\u001b[0m \u001b[1;33m[\u001b[0m\u001b[1;33m]\u001b[0m\u001b[1;33m\u001b[0m\u001b[0m\n",
      "\u001b[1;31mUnboundLocalError\u001b[0m: local variable 'labels_points' referenced before assignment"
     ]
    }
   ],
   "source": [
    "\"\"\"\n",
    "\n",
    ".. module:: p_v_2D.ipynb\n",
    "    :sypnopsis: This module creates an interface to interact with the\n",
    "    Van der Waals isotherms in the p(v, T) plane.\\n\n",
    "\n",
    ".. moduleauthor:: Jon Gabirondo López (jgabirondo001@ikasle.ehu.eus)\n",
    "\n",
    "\"\"\"\n",
    "\n",
    "#%store -d fig_str\n",
    "fig_str = ''\n",
    "\n",
    "saved = []\n",
    "\n",
    "top_block = widgets.VBox([])\n",
    "\n",
    "t_min_input = widgets.BoundedFloatText(\n",
    "    value=0.5,\n",
    "    min=0.5,\n",
    "    max=3.0,\n",
    "    step=0.005,\n",
    "    description=r'\\( T_{min}: \\)',\n",
    "    disabled=False\n",
    ")\n",
    "\n",
    "t_max_input = widgets.BoundedFloatText(\n",
    "    value=2.0,\n",
    "    min=0.5,\n",
    "    max=3.0,\n",
    "    step=0.005,\n",
    "    description=r'\\( T_{max}: \\)',\n",
    "    disabled=False\n",
    ")\n",
    "\n",
    "#t_min_input.observe(update_t_range, 'value')\n",
    "#t_max_input.observe(update_t_range, 'value')\n",
    "\n",
    "num_input = widgets.IntSlider(\n",
    "        value=5,\n",
    "        min=1,\n",
    "        max=20,\n",
    "        description=r'\\( \\# \\)',\n",
    "        disabled=False,\n",
    "        continuous_update=True,\n",
    "        orientation='horizontal',\n",
    "        readout=True,\n",
    "        #readout_format='.2f',\n",
    "    )\n",
    "\n",
    "generate_button = widgets.Button(\n",
    "        description='Generate',\n",
    "        disabled=False,\n",
    "        button_style='', # 'success', 'info', 'warning', 'danger' or ''\n",
    "        tooltip='Generate isotherms in the selected T range.',\n",
    "    )\n",
    "\n",
    "generate_button.on_click(generate_isotherms)\n",
    "\n",
    "top_block.children = (widgets.HBox([\n",
    "                        t_min_input,\n",
    "                        t_max_input,\n",
    "                        num_input,\n",
    "                        generate_button]),)\n",
    "\n",
    "t_limits = (0.9, 1.0)\n",
    "v_limits = (-0.4, 2.0) #v in 10^v_limits range\n",
    "v_range = np.linspace(start=0, stop=10, num=500)\n",
    "t_range = get_t_range(t_min_input, t_max_input, num_input)\n",
    "\n",
    "#T_c_index, = np.where(t_range == 1.0)[0]\n",
    "#data = isotherms(t_range, v_range)\n",
    "\n",
    "scale_x = bqs.LinearScale(min = 0.45, max = 5.0)\n",
    "scale_y = bqs.LinearScale(min = 0.0, max = 2.0)\n",
    "\n",
    "fig = bq.Figure(title='Van der Waals isotherms',\n",
    "                marks=[],\n",
    "                axes=[],\n",
    "                animation_duration=500,\n",
    "                layout = widgets.Layout(align_self='center', width='75%'),\n",
    "                legend_location='top-right',\n",
    "                background_style= {'fill': 'white',  'stroke': 'black'},\n",
    "                fig_margin=dict(top=80, bottom=80, left=60, right=30),\n",
    "                toolbar = True\n",
    "    )\n",
    "\n",
    "axis_x = bqa.Axis(scale=scale_x,\n",
    "                tick_format='0.2f',\n",
    "                tick_style={'font-size': '15px'},\n",
    "                ticks=[0,10,100],\n",
    "                grid_lines = 'none',\n",
    "                grid_color = '#8e8e8e', \n",
    "                label='v',\n",
    "                label_location='middle',\n",
    "                label_style={'stroke': 'black', 'default-size': 35},\n",
    "                label_offset='50px')\n",
    "\n",
    "axis_y = bqa.Axis(scale=scale_y,\n",
    "                tick_format='0.2f',\n",
    "                tick_style={'font-size': '15px'},\n",
    "                grid_lines = 'none',\n",
    "                grid_color = '#8e8e8e', \n",
    "                orientation='vertical',\n",
    "                label='p',\n",
    "                label_location='middle',\n",
    "                label_style={'stroke': 'red', 'default_size': 35},\n",
    "                label_offset='50px')\n",
    "\n",
    "fig.axes = [axis_x, axis_y]\n",
    "\n",
    "#isotherm_lines = []\n",
    "\n",
    "marks = []\n",
    "\n",
    "#for mark in marks:\n",
    "#    mark.scales = {'x': scale_x, 'y': scale_y}\n",
    "\n",
    "tracer = bqm.Scatter(\n",
    "    name = 'tracer',\n",
    "    x = [1.0],\n",
    "    y = [1.0],\n",
    "    scales = {'x': scale_x, 'y': scale_y}, \n",
    "    #opacities = [1.0],\n",
    "    visible = False,\n",
    "    colors = ['black'],\n",
    "    names = [],\n",
    "    labels=['tracer']\n",
    ")        \n",
    "\n",
    "marks.append(tracer)\n",
    "\n",
    "labels_points = bqm.Scatter(\n",
    "    name = 'labels',\n",
    "    x = [],\n",
    "    y = [],\n",
    "    scales = {'x': scale_x, 'y': scale_y}, \n",
    "    #opacities = [1.0],\n",
    "    visible = True,\n",
    "    colors = ['black'],\n",
    "    names = [],\n",
    "    labels=['labels']\n",
    ") \n",
    "\n",
    "marks.append(labels_points)\n",
    "\n",
    "\n",
    "\n",
    "isopressure = bqm.Lines(\n",
    "            x = [], \n",
    "            y = [], \n",
    "            scales = {'x': scale_x, 'y': scale_y}, \n",
    "            opacities = [1.0, 0.0],\n",
    "            visible = False,\n",
    "            colors = ['green'],\n",
    "            fill_opacities = [0.35],\n",
    "            fill = 'none',\n",
    "            labels = ['isopressure'],\n",
    "            )\n",
    "\n",
    "marks.append(isopressure)\n",
    "\n",
    "\n",
    "\n",
    "#labels = bqm.Label(\n",
    "#    x=[],\n",
    "#    y=[],\n",
    "#    scales={'x': scale_x, 'y': scale_y},\n",
    "#    text=[],\n",
    "#    labels=['labels'],\n",
    "#    default_size=14,\n",
    "#    font_weight='bolder',\n",
    "#    colors=['black'],\n",
    "#    update_on_move=True,\n",
    "#    enable_move = True)\n",
    "#        \n",
    "#marks.append(labels)    \n",
    "    \n",
    "#fig.marks = marks #isotherm_lines\n",
    "#fig.marks[T_c_index].visible = True\n",
    "#fig.marks[T_c_index].display_legend = True\n",
    "\n",
    "p_c_text = widgets.HTML(\n",
    "    value=\"\",\n",
    ")\n",
    "\n",
    "v_c_text = widgets.HTML(\n",
    "    value=\"\",\n",
    ")\n",
    "T_c_text = widgets.HTML(\n",
    "    value=\"\",\n",
    ")\n",
    "\n",
    "#update_critics(None)\n",
    "\n",
    "theoretical_toggle = widgets.ToggleButton(\n",
    "    value=True,\n",
    "    description='Theoretical',\n",
    "    disabled=False,\n",
    "    button_style='', # 'success', 'info', 'warning', 'danger' or ''\n",
    "    tooltip='Show theoretical isotherms',\n",
    "    style = {'description_width': 'initial'},\n",
    "    layout = widgets.Layout(align_self='center', width='100%')\n",
    ")\n",
    "\n",
    "experimental_toggle = widgets.ToggleButton(\n",
    "    value=False,\n",
    "    description='Experimental',\n",
    "    disabled=False,\n",
    "    button_style='', # 'success', 'info', 'warning', 'danger' or ''\n",
    "    tooltip='Show experimental isotherms',\n",
    "    style = {'description_width': 'initial'},\n",
    "    layout = widgets.Layout(align_self='center', width='100%'),\n",
    ")\n",
    "\n",
    "theoretical_toggle.observe(change_isotherm_type, 'value')\n",
    "experimental_toggle.observe(change_isotherm_type, 'value')\n",
    "\n",
    "\n",
    "\n",
    "show_limits_checkbox = widgets.Checkbox(\n",
    "    value=False,\n",
    "    description='Show limits',\n",
    "    disabled=False,\n",
    "    layout = widgets.Layout(width='148px !important')\n",
    ")\n",
    "\n",
    "show_limits_checkbox.observe(show_limits, 'value')\n",
    "\n",
    "isotherm_type_block = widgets.HBox([],\n",
    "                                  layout = widgets.Layout(align_self='center',\n",
    "                                                         margin='10px 0 0 0'))\n",
    "\n",
    "isotherm_type_block.children = (theoretical_toggle,\n",
    "                                experimental_toggle,\n",
    "                                show_limits_checkbox)\n",
    "\n",
    "T_slider = widgets.SelectionSlider(\n",
    "    options=t_range,\n",
    "    value=t_range[int(t_range.size/2)],\n",
    "    description=r'\\( \\frac{T}{T_c} \\)',\n",
    "    disabled=False,\n",
    "    continuous_update=True,\n",
    "    orientation='vertical',\n",
    "    readout=True,\n",
    "    layout = widgets.Layout(height = '80%', margin = '45px 0 0 0')\n",
    ")\n",
    "\n",
    "T_slider.observe(select_isotherm, 'value')\n",
    "\n",
    "select_visible = widgets.SelectMultiple(\n",
    "    options=[str(t) for t in t_range],\n",
    "    value=[str(t) for t in t_range],\n",
    "    rows=10,\n",
    "    description='',\n",
    "    disabled=False,\n",
    "    layout = widgets.Layout(width = '90%')\n",
    ")\n",
    "\n",
    "select_visible.observe(show_isotherm, 'value')\n",
    "\n",
    "#T_r = widgets.FloatSlider(\n",
    "#        value=1.0,\n",
    "#        min=min(t_range),\n",
    "#        max=max(t_range),\n",
    "#        step=0.05,\n",
    "#        description=r'\\( \\frac{T}{T_c} \\)',\n",
    "#        disabled=False,\n",
    "#        continuous_update=True,\n",
    "#        orientation='vertical',\n",
    "#        readout=True,\n",
    "#        readout_format='.2f',\n",
    "#        layout = widgets.Layout(height = '80%', margin = '45px 0 0 0')\n",
    "#    )\n",
    "#\n",
    "#T_r.observe(update_isotherm, 'value')\n",
    "\n",
    "show_all_button = widgets.Button(\n",
    "    description='Show all',\n",
    "    disabled=False,\n",
    "    button_style='', # 'success', 'info', 'warning', 'danger' or ''\n",
    "    tooltip='Show all isotherms',\n",
    ")\n",
    "\n",
    "show_all_button.on_click(show_all)\n",
    "\n",
    "opacity_slider = widgets.FloatSlider(\n",
    "        value=0.2,\n",
    "        min=0.0,\n",
    "        max=1.0,\n",
    "        step=0.05,\n",
    "        description=\"\",\n",
    "        disabled=False,\n",
    "        continuous_update=True,\n",
    "        orientation='horizontal',\n",
    "        readout=True,\n",
    "        layout = widgets.Layout(width = '90%')\n",
    "        #readout_format='.2f',\n",
    "    )\n",
    "\n",
    "opacity_slider.observe(select_isotherm, 'value')\n",
    "\n",
    "right_block = widgets.VBox([widgets.Label(value=\"Select visible isotherms:\"),\n",
    "                            select_visible,\n",
    "                            show_all_button,\n",
    "                            opacity_slider],\n",
    "                            layout = widgets.Layout(width='15%', margin = '70px 0 0 0'))\n",
    "\n",
    "#\n",
    "#\n",
    "#save_button = widgets.Button(\n",
    "#        description='Save isotherm',\n",
    "#        disabled=False,\n",
    "#        button_style='', # 'success', 'info', 'warning', 'danger' or ''\n",
    "#        tooltip='Click me',\n",
    "#    )\n",
    "#\n",
    "#save_button.on_click(save_button_clicked)\n",
    "#\n",
    "#undo_button = widgets.Button(\n",
    "#        description='Undo',\n",
    "#        disabled=False,\n",
    "#        button_style='', # 'success', 'info', 'warning', 'danger' or ''\n",
    "#        tooltip='Click me',\n",
    "#    )\n",
    "#\n",
    "#undo_button.on_click(undo)\n",
    "#\n",
    "#\n",
    "#\n",
    "maxwell_construction_checkbox = widgets.Checkbox(\n",
    "    value=False,\n",
    "    description='Maxwell Construction',\n",
    "    disabled=False\n",
    ")\n",
    "\n",
    "maxwell_construction_checkbox.observe(show_maxwell, 'value')\n",
    "\n",
    "p_slider = widgets.FloatSlider(\n",
    "        value=1.0,\n",
    "        min=0.001,\n",
    "        max=scale_y.max,\n",
    "        step=0.001,\n",
    "        description=r'\\( p_r \\)',\n",
    "        disabled=True,\n",
    "        continuous_update=True,\n",
    "        orientation='vertical',\n",
    "        readout=True,\n",
    "        readout_format='.3f',\n",
    "        layout = widgets.Layout(height = '80%', margin = '45px 0 0 0')\n",
    "    )\n",
    "\n",
    "p_slider.observe(update_isopressure, 'value')\n",
    "#\n",
    "shade_areas_checkbox = widgets.Checkbox(\n",
    "    value=False,\n",
    "    description='shade areas',\n",
    "    disabled=True\n",
    ")\n",
    "\n",
    "shade_areas_checkbox.observe(shade_areas, 'value')\n",
    "#\n",
    "integral_value_text = widgets.HTML(\n",
    "    value=\"\",\n",
    ")\n",
    "\n",
    "integral_value_left_text = widgets.HTML(\n",
    "    value=\"\",\n",
    ") \n",
    "\n",
    "integral_value_right_text = widgets.HTML(\n",
    "    value=\"\",\n",
    ") \n",
    "\n",
    "left_block = widgets.VBox([maxwell_construction_checkbox,\n",
    "                                shade_areas_checkbox,\n",
    "                                widgets.HBox([widgets.Label(value=\"$Left:$\"),\n",
    "                                                                integral_value_left_text,]),\n",
    "                                                  widgets.HBox([widgets.Label(value=\"$Right:$\"),\n",
    "                                                                integral_value_right_text,]),\n",
    "                                                    widgets.HBox([widgets.Label(value=\"$Sum:$\"),\n",
    "                                                                integral_value_text,]),\n",
    "                               ],\n",
    "                         layout = widgets.Layout(width='15%', margin = '70px 0 0 0'))\n",
    "\n",
    "\n",
    "show_tracer_checkbox = widgets.Checkbox(\n",
    "    value=False,\n",
    "    description='Show tracer',\n",
    "    disabled=False\n",
    ")\n",
    "\n",
    "show_tracer_checkbox.observe(show_tracer, 'value')\n",
    "\n",
    "v_slider = widgets.FloatSlider(\n",
    "        value=1.0,\n",
    "        min=0.5,\n",
    "        max=5.0,\n",
    "        step=0.001,\n",
    "        description=r'\\( v \\)',\n",
    "        disabled=True,\n",
    "        continuous_update=True,\n",
    "        orientation='horizontal',\n",
    "        readout=True,\n",
    "        readout_format='.2f',\n",
    "        layout = widgets.Layout(width = '90%')#, margin = '45px 0 0 0')\n",
    "    )\n",
    "\n",
    "v_slider.observe(update_tracer, 'value')\n",
    "\n",
    "label_input = widgets.Text(\n",
    "    value='',\n",
    "    placeholder=\"Label:\",\n",
    "    disabled = True,\n",
    ")\n",
    "\n",
    "add_label_button = widgets.Button(\n",
    "        description='Add label',\n",
    "        disabled=True,\n",
    "        button_style='', # 'success', 'info', 'warning', 'danger' or ''\n",
    "        tooltip=\"Add label in tracer's position\",\n",
    "    )\n",
    "\n",
    "add_label_button.on_click(add_label_button_clicked)\n",
    "\n",
    "tracer_block = widgets.VBox([show_tracer_checkbox,\n",
    "                             v_slider,\n",
    "                            widgets.HBox([label_input, add_label_button])],\n",
    "                           layout=widgets.Layout(align_content=\"center\"))\n",
    "\n",
    "#\n",
    "#find_real_isotherm_button = widgets.Button(\n",
    "#        description='Find real isotherm',\n",
    "#        disabled=False,\n",
    "#        button_style='', # 'success', 'info', 'warning', 'danger' or ''\n",
    "#        tooltip='Click me',\n",
    "#    )\n",
    "#\n",
    "#find_real_isotherm_button.on_click(find_real_isotherm)\n",
    "#\n",
    "#prepare_export_button = widgets.Button(\n",
    "#        description='Prepare to export',\n",
    "#        disabled=False,\n",
    "#        button_style='',\n",
    "#        tooltip='',\n",
    "#    )\n",
    "#\n",
    "#prepare_export_button.on_click(prepare_export)\n",
    "#\n",
    "#export_button = widgets.HTML(\n",
    "#    value = \"\"\n",
    "#)\n",
    "#\n",
    "#\n",
    "##fig = update_figure(None)\n",
    "\n",
    "fig.marks = marks\n",
    "generate_isotherms(None)\n",
    "\n",
    "figure_block = widgets.VBox([widgets.HBox([p_slider, fig, T_slider]),\n",
    "                            tracer_block],\n",
    "                            layout = widgets.Layout(width='70%'))#, margin = '70px 0 0 0'))\n",
    "\n",
    "widgets.VBox([\n",
    "    #widgets.HBox([\n",
    "        #widgets.VBox([widgets.HBox([a, widgets.HTMLMath(value=r'\\( \\text{J} \\frac{m^3}{mol^2} \\)')]),\n",
    "        #              widgets.HBox([b, widgets.HTMLMath(value=r'\\( 10^{-3} \\frac{m^3}{mol} \\)')])]),\n",
    "        #widgets.VBox([widgets.HBox([t_min_input, widgets.HTMLMath(value=r'\\( \\quad T_c \\)')]),\n",
    "        #              widgets.HBox([t_max_input, widgets.HTMLMath(value=r'\\( \\quad T_c \\)')])])],\n",
    "        #layout = widgets.Layout(align_self = 'center')),\n",
    "\n",
    "    #widgets.HBox([widgets.Label(value=\"$p_c$:\"), p_c_text, widgets.Label(value=r'\\( \\text{MPa} \\qquad \\)'),\n",
    "    #              widgets.Label(value=\"$v_c$:\"), v_c_text, widgets.Label(value=r'\\( \\frac{cm^3}{mol} \\qquad\\)'),\n",
    "    #              widgets.Label(value=\"$T_c$:\"), T_c_text, widgets.Label(value=r'\\( \\text{K} \\qquad\\)')\n",
    "    #             ], layout = widgets.Layout(align_self = 'center')),\n",
    "    top_block,\n",
    "    isotherm_type_block,\n",
    "    widgets.HBox([left_block,\n",
    "                  figure_block,\n",
    "                  right_block\n",
    "                 ]),\n",
    "    #widgets.HBox([fig,\n",
    "    #              T_r,\n",
    "    #              widgets.VBox(\n",
    "    #                  [show_all_checkbox, save_button, undo_button,],\n",
    "    #                  layout = widgets.Layout(margin = '20% 0 0 0') )\n",
    "#\n",
    "    #             ], layout = widgets.Layout(width = '100%')),\n",
    "    #widgets.HBox([\n",
    "    #    widgets.VBox([show_tracer_checkbox,\n",
    "    #                  tracer_v,\n",
    "    #                 widgets.HBox([label_input, add_label_button], \n",
    "    #                              layout = widgets.Layout(align_self = 'center')\n",
    "    #                             )],\n",
    "    #                 layout = widgets.Layout(#align_self = 'center',\n",
    "    #                     margin_left = '7px',\n",
    "    #                     margin_right = '7px',\n",
    "    #                     width='70%')),\n",
    "    #    widgets.VBox([maxwell_construction_checkbox,\n",
    "    #                  widgets.HBox([maxwell_p,\n",
    "    #                                 widgets.VBox([shade_areas_checkbox,\n",
    "    #                                              widgets.HBox([widgets.Label(value=\"$Left:$\"),\n",
    "    #                                                            integral_value_left_text,]),\n",
    "    #                                              widgets.HBox([widgets.Label(value=\"$Right:$\"),\n",
    "    #                                                            integral_value_right_text,]),\n",
    "    #                                                widgets.HBox([widgets.Label(value=\"$Sum:$\"),\n",
    "    #                                                            integral_value_text,]),\n",
    "    \n",
    "    #                                              find_real_isotherm_button,])\n",
    "    #                    ],\n",
    "    #                 layout = widgets.Layout(#align_self = 'center',\n",
    "    #                                                                        margin_left = '7px')),\n",
    "    #]), ]),\n",
    "    #widgets.HBox([prepare_export_button, export_button])\n",
    "    ])\n",
    "    #widgets.HBox([png_name, export_png_button,], layout = widgets.Layout(align_self = 'center',\n",
    "                                                     #                   margin_bottom = '15px')),\n",
    "    #widgets.HBox([png_created_text], )]), ])"
   ]
  },
  {
   "cell_type": "code",
   "execution_count": 142,
   "metadata": {},
   "outputs": [
    {
     "data": {
      "text/plain": [
       "Scatter(colors=['black'], interactions={'hover': 'tooltip'}, labels=['labels'], names=array([], dtype=float64), scales={'x': LinearScale(max=5.0, min=0.45), 'y': LinearScale(max=2.0, min=0.0)}, scales_metadata={'x': {'orientation': 'horizontal', 'dimension': 'x'}, 'y': {'orientation': 'vertical', 'dimension': 'y'}, 'color': {'dimension': 'color'}, 'size': {'dimension': 'size'}, 'opacity': {'dimension': 'opacity'}, 'rotation': {'dimension': 'rotation'}, 'skew': {'dimension': 'skew'}}, tooltip_style={'opacity': 0.9})"
      ]
     },
     "execution_count": 142,
     "metadata": {},
     "output_type": "execute_result"
    }
   ],
   "source": [
    "labels_points"
   ]
  },
  {
   "cell_type": "code",
   "execution_count": 44,
   "metadata": {},
   "outputs": [
    {
     "name": "stdout",
     "output_type": "stream",
     "text": [
      "<class 'bqplot.marks.Lines'>\n",
      "<class 'bqplot.marks.Lines'>\n",
      "<class 'bqplot.marks.Scatter'>\n",
      "<class 'bqplot.marks.Lines'>\n",
      "<class 'bqplot.marks.Lines'>\n",
      "<class 'bqplot.marks.Scatter'>\n",
      "<class 'bqplot.marks.Lines'>\n",
      "<class 'bqplot.marks.Lines'>\n",
      "<class 'bqplot.marks.Scatter'>\n",
      "<class 'bqplot.marks.Lines'>\n",
      "<class 'bqplot.marks.Lines'>\n",
      "<class 'bqplot.marks.Scatter'>\n",
      "<class 'bqplot.marks.Lines'>\n",
      "<class 'bqplot.marks.Lines'>\n",
      "<class 'bqplot.marks.Scatter'>\n",
      "<class 'bqplot.marks.Lines'>\n"
     ]
    }
   ],
   "source": [
    "for mark in fig.marks:\n",
    "    print(type(mark))"
   ]
  },
  {
   "cell_type": "code",
   "execution_count": 97,
   "metadata": {},
   "outputs": [
    {
     "data": {
      "text/plain": [
       "False"
      ]
     },
     "execution_count": 97,
     "metadata": {},
     "output_type": "execute_result"
    }
   ],
   "source": [
    "isopressure.visible"
   ]
  },
  {
   "cell_type": "code",
   "execution_count": 46,
   "metadata": {},
   "outputs": [
    {
     "data": {
      "application/vnd.jupyter.widget-view+json": {
       "model_id": "986cae49b2a54755baf6629d43a36d8f",
       "version_major": 2,
       "version_minor": 0
      },
      "text/plain": [
       "ToggleButton(value=True, description='Theoretical', layout=Layout(align_self='center', width='100%'), style=De…"
      ]
     },
     "metadata": {},
     "output_type": "display_data"
    }
   ],
   "source": [
    "theoretical_toggle"
   ]
  },
  {
   "cell_type": "code",
   "execution_count": 47,
   "metadata": {},
   "outputs": [
    {
     "data": {
      "application/vnd.jupyter.widget-view+json": {
       "model_id": "fad3921d5e8f41c8afbf6946b2b49d9f",
       "version_major": 2,
       "version_minor": 0
      },
      "text/plain": [
       "Checkbox(value=False, description='Show limits', layout=Layout(width='148px !important'))"
      ]
     },
     "metadata": {},
     "output_type": "display_data"
    }
   ],
   "source": [
    "show_limits_checkbox"
   ]
  },
  {
   "cell_type": "code",
   "execution_count": 48,
   "metadata": {},
   "outputs": [
    {
     "data": {
      "text/plain": [
       "1.25"
      ]
     },
     "execution_count": 48,
     "metadata": {},
     "output_type": "execute_result"
    }
   ],
   "source": [
    "T_slider.value"
   ]
  },
  {
   "cell_type": "code",
   "execution_count": 49,
   "metadata": {},
   "outputs": [
    {
     "data": {
      "text/plain": [
       "'0.5'"
      ]
     },
     "execution_count": 49,
     "metadata": {},
     "output_type": "execute_result"
    }
   ],
   "source": [
    "fig.marks[0].labels[0]"
   ]
  },
  {
   "cell_type": "code",
   "execution_count": 50,
   "metadata": {},
   "outputs": [
    {
     "data": {
      "application/vnd.jupyter.widget-view+json": {
       "model_id": "28b3c0dc549449c8aa51dba5020301dd",
       "version_major": 2,
       "version_minor": 0
      },
      "text/plain": [
       "SelectionSlider(description='\\\\( \\\\frac{T}{T_c} \\\\)', index=2, layout=Layout(height='80%', margin='45px 0 0 0'…"
      ]
     },
     "metadata": {},
     "output_type": "display_data"
    }
   ],
   "source": [
    "T_slider"
   ]
  },
  {
   "cell_type": "code",
   "execution_count": 51,
   "metadata": {},
   "outputs": [
    {
     "data": {
      "application/vnd.jupyter.widget-view+json": {
       "model_id": "31805c3bd96f47248c70f96e9543818f",
       "version_major": 2,
       "version_minor": 0
      },
      "text/plain": [
       "VBox(children=(HBox(children=(BoundedFloatText(value=0.5, description='\\\\( T_{min}: \\\\)', max=3.0, min=0.5, st…"
      ]
     },
     "metadata": {},
     "output_type": "display_data"
    }
   ],
   "source": [
    "top_block"
   ]
  },
  {
   "cell_type": "code",
   "execution_count": 52,
   "metadata": {},
   "outputs": [
    {
     "data": {
      "application/vnd.jupyter.widget-view+json": {
       "model_id": "a705ea5df3ee42edb299da1809ff5ded",
       "version_major": 2,
       "version_minor": 0
      },
      "text/plain": [
       "Figure(animation_duration=500, axes=[Axis(grid_color='#8e8e8e', grid_lines='none', label='v [log]', label_offs…"
      ]
     },
     "metadata": {},
     "output_type": "display_data"
    }
   ],
   "source": [
    "fig"
   ]
  },
  {
   "cell_type": "code",
   "execution_count": 134,
   "metadata": {},
   "outputs": [
    {
     "data": {
      "text/plain": [
       "Scatter(colors=['black'], interactions={'hover': 'tooltip'}, labels=['labels'], names=array(['fdsa', 'A'], dtype='<U32'), scales={'x': LinearScale(max=5.0, min=0.45), 'y': LinearScale(max=2.0, min=0.0)}, scales_metadata={'x': {'orientation': 'horizontal', 'dimension': 'x'}, 'y': {'orientation': 'vertical', 'dimension': 'y'}, 'color': {'dimension': 'color'}, 'size': {'dimension': 'size'}, 'opacity': {'dimension': 'opacity'}, 'rotation': {'dimension': 'rotation'}, 'skew': {'dimension': 'skew'}}, tooltip_style={'opacity': 0.9}, visible=False, x=array([1.3747495, 1.3747495]), y=array([1.61341454, 1.61341454]))"
      ]
     },
     "execution_count": 134,
     "metadata": {},
     "output_type": "execute_result"
    }
   ],
   "source": [
    "labels_points"
   ]
  },
  {
   "cell_type": "code",
   "execution_count": 54,
   "metadata": {},
   "outputs": [
    {
     "ename": "IndexError",
     "evalue": "list index out of range",
     "output_type": "error",
     "traceback": [
      "\u001b[1;31m---------------------------------------------------------------------------\u001b[0m",
      "\u001b[1;31mIndexError\u001b[0m                                Traceback (most recent call last)",
      "\u001b[1;32m<ipython-input-54-82afe68149f7>\u001b[0m in \u001b[0;36m<module>\u001b[1;34m\u001b[0m\n\u001b[1;32m----> 1\u001b[1;33m \u001b[0mfig\u001b[0m\u001b[1;33m.\u001b[0m\u001b[0mmarks\u001b[0m\u001b[1;33m[\u001b[0m\u001b[1;36m21\u001b[0m\u001b[1;33m]\u001b[0m\u001b[1;33m\u001b[0m\u001b[0m\n\u001b[0m",
      "\u001b[1;31mIndexError\u001b[0m: list index out of range"
     ]
    }
   ],
   "source": [
    "fig.marks[21]"
   ]
  },
  {
   "cell_type": "code",
   "execution_count": null,
   "metadata": {},
   "outputs": [],
   "source": []
  },
  {
   "cell_type": "code",
   "execution_count": null,
   "metadata": {},
   "outputs": [],
   "source": [
    "get_t_range(t_min_input, t_max_input, num_input)"
   ]
  },
  {
   "cell_type": "code",
   "execution_count": null,
   "metadata": {},
   "outputs": [],
   "source": [
    "data.get(t_min_input.value)"
   ]
  },
  {
   "cell_type": "code",
   "execution_count": null,
   "metadata": {},
   "outputs": [],
   "source": [
    "t_min_input.value"
   ]
  },
  {
   "cell_type": "code",
   "execution_count": null,
   "metadata": {},
   "outputs": [],
   "source": [
    "fig"
   ]
  },
  {
   "cell_type": "code",
   "execution_count": null,
   "metadata": {},
   "outputs": [],
   "source": [
    "fig.marks[0].name"
   ]
  },
  {
   "cell_type": "code",
   "execution_count": null,
   "metadata": {},
   "outputs": [],
   "source": [
    "scale_y"
   ]
  },
  {
   "cell_type": "code",
   "execution_count": null,
   "metadata": {},
   "outputs": [],
   "source": []
  },
  {
   "cell_type": "code",
   "execution_count": null,
   "metadata": {},
   "outputs": [],
   "source": []
  },
  {
   "cell_type": "code",
   "execution_count": null,
   "metadata": {},
   "outputs": [],
   "source": []
  }
 ],
 "metadata": {
  "kernelspec": {
   "display_name": "Python 3",
   "language": "python",
   "name": "python3"
  },
  "language_info": {
   "codemirror_mode": {
    "name": "ipython",
    "version": 3
   },
   "file_extension": ".py",
   "mimetype": "text/x-python",
   "name": "python",
   "nbconvert_exporter": "python",
   "pygments_lexer": "ipython3",
   "version": "3.7.0"
  }
 },
 "nbformat": 4,
 "nbformat_minor": 2
}
