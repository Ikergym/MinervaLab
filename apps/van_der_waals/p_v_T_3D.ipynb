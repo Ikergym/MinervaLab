{
 "cells": [
  {
   "cell_type": "code",
   "execution_count": 1,
   "metadata": {},
   "outputs": [],
   "source": [
    "import ipywidgets as widgets\n",
    "import ipyvolume as ipv\n",
    "\n",
    "import numpy as np"
   ]
  },
  {
   "cell_type": "code",
   "execution_count": 2,
   "metadata": {},
   "outputs": [],
   "source": [
    "def get_relative_isotherms(v_range, T_range):\n",
    "    \n",
    "    \"\"\"\n",
    "    \n",
    "        This function calculates the p(v, T) plane\n",
    "        from given a and b parameters of \n",
    "        the Van der Waals equation of state for real gases.\n",
    "\n",
    "    Args:\n",
    "        a: Term related with the attraction between particles in\n",
    "        J m^3/ mol^2.\\n\n",
    "        b: Term related with the volume that is occupied by one \n",
    "        mole of the molecules in 10^-3 m^3/mol.\\n\n",
    "        T_range: Tuple containing maximum and minimum values of\n",
    "        temperature to be plotted. Temperatures must be expressed\n",
    "        in terms of the critical temperature.\\n\n",
    "        v_range: Tuple containing maximum and minimum values of\n",
    "        volumen to be plotted. Volumens must be expressed\n",
    "        in exponents of the critical volumen (v in 10^v_range).\\n\n",
    "        \n",
    "    Returns:\n",
    "        isotherms: a dictionary containing the values of v and the\n",
    "        pressures of the isotherms in the following form:\\n\n",
    "            isotherms['v'] = np.array containing the values of v\n",
    "            in a logarithmic scale.\\n\n",
    "            isotherms['value of the isotherm'] = np.array containing\n",
    "            the values of p.\\\n",
    "    \"\"\"\n",
    "\n",
    "    isotherms = []\n",
    "\n",
    "    for T in T_range:\n",
    "        p_R = []\n",
    "        for v in v_range:\n",
    "            val = (8.0/3.0*T/(v - 1.0/3.0) - 3.0/v**2)\n",
    "            p_R = np.append(p_R, val)\n",
    "\n",
    "        isotherms.append(p_R)\n",
    "\n",
    "    return isotherms"
   ]
  },
  {
   "cell_type": "code",
   "execution_count": 3,
   "metadata": {},
   "outputs": [],
   "source": [
    "T_values = np.linspace(0.8, 1.0, 10)\n",
    "v_values = np.linspace(0.45, 5.0, 500)\n",
    "\n",
    "p_values = get_relative_isotherms(v_values, T_values)"
   ]
  },
  {
   "cell_type": "code",
   "execution_count": 4,
   "metadata": {},
   "outputs": [],
   "source": [
    "def get_roots(p, T):\n",
    "    \n",
    "    roots = np.roots([1.0, - 1.0/3.0*(1.0 + 8.0*T/p), 3.0/p, -1.0/p])\n",
    "    roots_in_range = []\n",
    "    \n",
    "    for root in roots:\n",
    "        if np.isreal(root):\n",
    "            root = np.real(root)\n",
    "            if root > 0:\n",
    "                roots_in_range.append(root)\n",
    "    #print(roots_in_range) \n",
    "    roots_in_range.sort()\n",
    "    \n",
    "    return roots_in_range"
   ]
  },
  {
   "cell_type": "code",
   "execution_count": 5,
   "metadata": {},
   "outputs": [],
   "source": [
    "def find_real_fixed_T(p_range, T):\n",
    "    \n",
    "    eps = 1e-3 #1.0/p_range.size\n",
    "    \n",
    "    for p in p_range:\n",
    "        \n",
    "        roots = get_roots(p, T)\n",
    "        if len(roots) == 3:\n",
    "            v_range = (roots[0], roots[2])\n",
    "            area = defined_integral(p, v_range, T)\n",
    "            if abs(area) < eps:\n",
    "                return p, v_range\n",
    "\n",
    "    return None"
   ]
  },
  {
   "cell_type": "code",
   "execution_count": 6,
   "metadata": {},
   "outputs": [],
   "source": [
    "fig3d = ipv.pylab.figure(key=None,\n",
    "                       width=600,\n",
    "                       height=500,\n",
    "                       lighting=True,\n",
    "                       controls=True,\n",
    "                       controls_vr=False,\n",
    "                       controls_light=False,\n",
    "                       debug=False,\n",
    "                       )\n",
    "ipv.pylab.xlim(min(v_values), max(v_values))\n",
    "ipv.pylab.ylim(0.0, 2.0)\n",
    "ipv.pylab.zlim(min(T_values), max(T_values))\n",
    "\n",
    "ipv.pylab.xlabel('v')\n",
    "ipv.pylab.ylabel('p')\n",
    "ipv.pylab.zlabel('T')\n",
    "\n",
    "ipv.pylab.view(azimuth=180, elevation=None, distance=None)\n",
    "\n",
    "for i in range(len(T_values)):\n",
    "    \n",
    "    x,y,z = np.asarray(v_values), np.asarray(p_values[i]), np.asarray([T_values[i] for elem in v_values])\n",
    "    ipv.pylab.plot(x, y, z)"
   ]
  },
  {
   "cell_type": "code",
   "execution_count": 7,
   "metadata": {},
   "outputs": [],
   "source": [
    "def update_camera_angle(change):\n",
    "    ipv.pylab.view(azimuth=degrees_slider.value)"
   ]
  },
  {
   "cell_type": "code",
   "execution_count": 8,
   "metadata": {},
   "outputs": [],
   "source": [
    "degrees_slider = widgets.IntSlider(\n",
    "    value=180,\n",
    "    min=0,\n",
    "    max=360,\n",
    "    step=1,\n",
    "    description='',\n",
    "    disabled=False,\n",
    "    continuous_update=True,\n",
    "    orientation='horizontal',\n",
    "    readout=True,\n",
    "    readout_format='d'\n",
    ")\n",
    "\n",
    "degrees_slider.observe(update_camera_angle, 'value')"
   ]
  },
  {
   "cell_type": "code",
   "execution_count": 9,
   "metadata": {},
   "outputs": [],
   "source": [
    "play = widgets.Play(\n",
    "#     interval=10,\n",
    "    value=180,\n",
    "    min=0,\n",
    "    max=360,\n",
    "    step=1,\n",
    "    description=\"Press play\",\n",
    "    disabled=False\n",
    ")\n",
    "widgets.jslink((play, 'value'), (degrees_slider, 'value'));"
   ]
  },
  {
   "cell_type": "code",
   "execution_count": 10,
   "metadata": {},
   "outputs": [
    {
     "data": {
      "application/vnd.jupyter.widget-view+json": {
       "model_id": "6512707a1a434874b97afa1e1cb4d6ef",
       "version_major": 2,
       "version_minor": 0
      },
      "text/plain": [
       "VBox(children=(Figure(camera=PerspectiveCamera(fov=46.0, position=(2.4492935982947064e-16, 0.0, -2.0), quatern…"
      ]
     },
     "metadata": {},
     "output_type": "display_data"
    }
   ],
   "source": [
    "widgets.VBox([fig3d, widgets.HBox([play, degrees_slider])], layout=widgets.Layout(align_items='center'))"
   ]
  },
  {
   "cell_type": "code",
   "execution_count": null,
   "metadata": {},
   "outputs": [],
   "source": []
  }
 ],
 "metadata": {
  "kernelspec": {
   "display_name": "Python 3",
   "language": "python",
   "name": "python3"
  },
  "language_info": {
   "codemirror_mode": {
    "name": "ipython",
    "version": 3
   },
   "file_extension": ".py",
   "mimetype": "text/x-python",
   "name": "python",
   "nbconvert_exporter": "python",
   "pygments_lexer": "ipython3",
   "version": "3.7.0"
  }
 },
 "nbformat": 4,
 "nbformat_minor": 2
}
