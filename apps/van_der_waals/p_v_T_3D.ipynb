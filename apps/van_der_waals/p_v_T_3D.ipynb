{
 "cells": [
  {
   "cell_type": "markdown",
   "metadata": {},
   "source": [
    "# van der Waals isotherms in 3D\n",
    "\n",
    "\n",
    "**Code:** #116-000\n",
    "\n",
    "**File:** `apps/van_der_waals/p_v_T_3D.ipynb`\n",
    "\n",
    "-----------"
   ]
  },
  {
   "cell_type": "markdown",
   "metadata": {},
   "source": [
    "## Packages"
   ]
  },
  {
   "cell_type": "code",
   "execution_count": 1,
   "metadata": {},
   "outputs": [],
   "source": [
    "import ipywidgets as widgets\n",
    "import ipyvolume as ipv\n",
    "\n",
    "import numpy as np"
   ]
  },
  {
   "cell_type": "markdown",
   "metadata": {},
   "source": [
    "## Physical functions\n",
    "\n",
    "This are the functions that have a physical meaning:\n",
    "\n",
    "- `get_relative_isotherms`"
   ]
  },
  {
   "cell_type": "code",
   "execution_count": 2,
   "metadata": {},
   "outputs": [],
   "source": [
    "def get_relative_isotherms(v_range, T_range):\n",
    "    \"\"\"This function calculates the theoretical p(v, T) plane \n",
    "        (in reduced coordinates) according to van der Waals\n",
    "        equation of state from a given range of volumes\n",
    "        and tenperatures.\n",
    "\n",
    "    Args:\n",
    "        v_range: An array containing the values of v\n",
    "        (in reduced coordinates)for which the isotherms must be \n",
    "        calculated.\\n\n",
    "        T_range: An array containing the values of T\n",
    "        (in reduced coordinates)for which the isotherms must be \n",
    "        calculated.\\n\n",
    "\n",
    "        \n",
    "    Returns:\n",
    "        isotherms: A list consisted of numpy arrays containing the\n",
    "        pressures of each isotherm.\n",
    "    \"\"\"\n",
    "\n",
    "    isotherms = []\n",
    "\n",
    "    for T in T_range:\n",
    "        p_R = []\n",
    "        for v in v_range:\n",
    "            val = (8.0/3.0*T/(v - 1.0/3.0) - 3.0/v**2)\n",
    "            p_R = np.append(p_R, val)\n",
    "\n",
    "        isotherms.append(p_R)\n",
    "\n",
    "    return isotherms"
   ]
  },
  {
   "cell_type": "markdown",
   "metadata": {},
   "source": [
    "## Functions related to interaction"
   ]
  },
  {
   "cell_type": "code",
   "execution_count": 3,
   "metadata": {},
   "outputs": [],
   "source": [
    "def update_camera_angle(change):\n",
    "    \"\"\"This function updates the camera angle taking\n",
    "    the values from dregees_slider widget.\n",
    "    \"\"\"\n",
    "    \n",
    "    ipv.pylab.view(azimuth=degrees_slider.value)"
   ]
  },
  {
   "cell_type": "markdown",
   "metadata": {},
   "source": [
    "## Main interface"
   ]
  },
  {
   "cell_type": "code",
   "execution_count": 4,
   "metadata": {},
   "outputs": [
    {
     "data": {
      "application/vnd.jupyter.widget-view+json": {
       "model_id": "3ba6c59038014924b620fe290477c85d",
       "version_major": 2,
       "version_minor": 0
      },
      "text/plain": [
       "VBox(children=(Figure(camera=PerspectiveCamera(fov=46.0, position=(2.4492935982947064e-16, 0.0, -2.0), quatern…"
      ]
     },
     "metadata": {},
     "output_type": "display_data"
    }
   ],
   "source": [
    "T_values = np.linspace(0.8, 1.0, 10)\n",
    "v_values = np.linspace(0.45, 5.0, 500)\n",
    "\n",
    "p_values = get_relative_isotherms(v_values, T_values)\n",
    "\n",
    "fig3d = ipv.pylab.figure(\n",
    "    key=None,\n",
    "    width=600,\n",
    "    height=500,\n",
    "    lighting=True,\n",
    "    controls=True,\n",
    "    controls_vr=False,\n",
    "    controls_light=False,\n",
    "    debug=False\n",
    ")\n",
    "\n",
    "ipv.pylab.xlim(min(v_values), max(v_values))\n",
    "ipv.pylab.ylim(0.0, 2.0)\n",
    "ipv.pylab.zlim(min(T_values), max(T_values))\n",
    "\n",
    "ipv.pylab.xlabel('v')\n",
    "ipv.pylab.ylabel('p')\n",
    "ipv.pylab.zlabel('T')\n",
    "\n",
    "ipv.pylab.view(azimuth=180, elevation=None, distance=None)\n",
    "\n",
    "for i in range(len(T_values)):\n",
    "    \n",
    "    x_values = np.asarray(v_values)\n",
    "    y_values = np.asarray(p_values[i])\n",
    "    z_values = np.asarray(\n",
    "        [T_values[i] for elem in v_values]\n",
    "    )\n",
    "    \n",
    "    ipv.pylab.plot(\n",
    "        x_values,\n",
    "        y_values,\n",
    "        z_values\n",
    "    )\n",
    "    \n",
    "degrees_slider = widgets.IntSlider(\n",
    "    value=180,\n",
    "    min=0,\n",
    "    max=360,\n",
    "    step=1,\n",
    "    description='',\n",
    "    disabled=False,\n",
    "    continuous_update=True,\n",
    "    orientation='horizontal',\n",
    "    readout=True,\n",
    "    readout_format='d'\n",
    ")\n",
    "\n",
    "degrees_slider.observe(update_camera_angle, 'value')\n",
    "\n",
    "play = widgets.Play(\n",
    "    value=180,\n",
    "    min=0,\n",
    "    max=360,\n",
    "    step=1,\n",
    "    description=\"Press play\",\n",
    "    disabled=False\n",
    ")\n",
    "\n",
    "widgets.jslink((play, 'value'), (degrees_slider, 'value'));\n",
    "\n",
    "main_block_116_000 = widgets.VBox([\n",
    "    fig3d,\n",
    "    widgets.HBox([\n",
    "        play,\n",
    "        degrees_slider\n",
    "    ])\n",
    "    ],\n",
    "    layout=widgets.Layout(\n",
    "        align_items='center'\n",
    "    )\n",
    ")\n",
    "\n",
    "main_block_116_000"
   ]
  },
  {
   "cell_type": "code",
   "execution_count": null,
   "metadata": {},
   "outputs": [],
   "source": []
  }
 ],
 "metadata": {
  "kernelspec": {
   "display_name": "Python 3",
   "language": "python",
   "name": "python3"
  },
  "language_info": {
   "codemirror_mode": {
    "name": "ipython",
    "version": 3
   },
   "file_extension": ".py",
   "mimetype": "text/x-python",
   "name": "python",
   "nbconvert_exporter": "python",
   "pygments_lexer": "ipython3",
   "version": "3.7.0"
  }
 },
 "nbformat": 4,
 "nbformat_minor": 2
}
