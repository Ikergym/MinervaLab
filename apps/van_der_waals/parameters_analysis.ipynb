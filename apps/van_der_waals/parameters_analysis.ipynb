{
 "cells": [
  {
   "cell_type": "code",
   "execution_count": 1,
   "metadata": {},
   "outputs": [
    {
     "data": {
      "text/html": [
       "<head><link rel='stylesheet' type='text/css' href='./../../static/custom.css'></head>"
      ],
      "text/plain": [
       "<IPython.core.display.HTML object>"
      ]
     },
     "metadata": {},
     "output_type": "display_data"
    },
    {
     "data": {
      "text/html": [
       "<style>.container { width:100% !important; }</style>"
      ],
      "text/plain": [
       "<IPython.core.display.HTML object>"
      ]
     },
     "metadata": {},
     "output_type": "display_data"
    }
   ],
   "source": [
    "from IPython.display import HTML\n",
    "display(HTML(\"<head><link rel='stylesheet' type='text/css' href='./../../static/custom.css'></head>\"))\n",
    "display(HTML(\"<style>.container { width:100% !important; }</style>\"))"
   ]
  },
  {
   "cell_type": "code",
   "execution_count": 2,
   "metadata": {},
   "outputs": [],
   "source": [
    "from bqplot import *\n",
    "import bqplot as bq\n",
    "import bqplot.marks as bqm\n",
    "import bqplot.scales as bqs\n",
    "import bqplot.axes as bqa\n",
    "\n",
    "import ipywidgets as widgets"
   ]
  },
  {
   "cell_type": "code",
   "execution_count": 3,
   "metadata": {},
   "outputs": [],
   "source": [
    "def calculate_critic(a, b):\n",
    "    \n",
    "    \"\"\"\n",
    "        This function calculates the critic point \n",
    "        (p_c, v_c, T_c) from given a and b parameters of \n",
    "        the Van der Waals equation of state for real gases.\n",
    "        \n",
    "        :math:`(P + a \\\\frac{n^2}{V^2})(V - nb) = nRT`\n",
    "        \n",
    "        :math:`p_c = \\\\frac{a}{27 b^2}`\n",
    "        :math:`v_c = 3b`\n",
    "        :math:`T_c = \\\\frac{8a}{27 b R}`\n",
    "        \n",
    "   Args:\n",
    "       a: Term related with the attraction between particles in\n",
    "       L^2 bar/mol^2.\\n\n",
    "       b: Term related with the volume that is occupied by one \n",
    "       mole of the molecules in L/mol.\\n\n",
    "       \n",
    "   Returns:\n",
    "       p_c: Critical pressure in bar.\\n\n",
    "       v_c: Critical volume in L/mol.\\n\n",
    "       T_c: Critical tenperature in K.\\n\n",
    "        \n",
    "    \"\"\"\n",
    "    \n",
    "    if b == 0.0:\n",
    "        return None\n",
    "    \n",
    "    k_B = 1.3806488e-23 #m^2 kg s^-2 K^-1\n",
    "    N_A = 6.02214129e23 \n",
    "    R = 0.082 * 1.01325 #atm L mol^-1 K^-1 #now in bar L mol^-1 K^-1\n",
    "    \n",
    "    p_c = a/27.0/(b**2)\n",
    "    v_c = 3.0*b\n",
    "    T_c = 8.0*a/27.0/b/R\n",
    "    \n",
    "    return p_c, v_c, T_c"
   ]
  },
  {
   "cell_type": "code",
   "execution_count": 4,
   "metadata": {},
   "outputs": [],
   "source": [
    "def get_absolute_isotherms(a, b, v_values, T_values):\n",
    "    #given v (1d array) and T (Nd array) calculate N isotherm arrays \n",
    "    \n",
    "    isotherms = []\n",
    "    \n",
    "    #N_A = 6.02214129e23 \n",
    "\n",
    "    R = 0.082 * 1.01325 #atm L mol^-1 K^-1 #now in bar L mol^-1 K^-1\n",
    "\n",
    "    for T in T_values:\n",
    "        isot = []\n",
    "        for v in v_values:\n",
    "            p = R*T/(v - b) - (a/v**2)\n",
    "            isot.append(p)\n",
    "            \n",
    "        isotherms.append(isot)\n",
    "        \n",
    "    return isotherms"
   ]
  },
  {
   "cell_type": "code",
   "execution_count": 5,
   "metadata": {},
   "outputs": [],
   "source": [
    "def get_zoom_arrays(initial_x_range, final_x_range, initial_y_range, final_y_range, size):\n",
    "    \n",
    "    x_min = np.linspace(min(initial_x_range), min(final_x_range), size)\n",
    "    x_max = np.linspace(max(initial_x_range), max(final_x_range), size)\n",
    "    \n",
    "    y_min = np.linspace(min(initial_y_range), min(final_y_range), size)\n",
    "    y_max = np.linspace(max(initial_y_range), max(final_y_range), size)\n",
    "    \n",
    "    return x_min, x_max, y_min, y_max"
   ]
  },
  {
   "cell_type": "code",
   "execution_count": 6,
   "metadata": {},
   "outputs": [],
   "source": [
    "def update_scales(change):\n",
    "    \n",
    "    index = change.owner.value\n",
    "    scale_x_118_001.min, scale_x_118_001.max, scale_y_118_001.min, scale_y_118_001.max = x_min[index], x_max[index], y_min[index], y_max[index]"
   ]
  },
  {
   "cell_type": "code",
   "execution_count": 7,
   "metadata": {},
   "outputs": [],
   "source": [
    "def bar_to_atm(p_values):\n",
    "    \n",
    "    for i in range(len(p_values)):\n",
    "        p_values[i] = np.array(p_values[i]) * 0.9869 #unit change from bar to atm\n",
    "        \n",
    "    return p_values"
   ]
  },
  {
   "cell_type": "code",
   "execution_count": 13,
   "metadata": {},
   "outputs": [],
   "source": [
    "def update_isotherms(change):\n",
    "\n",
    "    \n",
    "    p_values = get_absolute_isotherms(a_slider.value, b_slider.value, v_values, T_values)\n",
    "    p_values = bar_to_atm(p_values)\n",
    "    \n",
    "    marks = [bqm.Lines(\n",
    "                   x = [v_values for elem in p_values], \n",
    "                   y = p_values, \n",
    "                   scales = {'x': scale_x_119_001, 'y': scale_y_119_001}, \n",
    "                   opacities = [1.0],\n",
    "                   visible = True, #True, #t == '1.00',\n",
    "                   colors = colors,\n",
    "                   #labels = '',\n",
    "                   )]\n",
    "    \n",
    "    fig_119_002.marks = marks"
   ]
  },
  {
   "cell_type": "code",
   "execution_count": 15,
   "metadata": {},
   "outputs": [
    {
     "data": {
      "application/vnd.jupyter.widget-view+json": {
       "model_id": "b7299202fc8a49adb736425d6d6c3a69",
       "version_major": 2,
       "version_minor": 0
      },
      "text/plain": [
       "VBox(children=(VBox(children=(Toolbar(figure=Figure(axes=[Axis(grid_color='#8e8e8e', grid_lines='none', label=…"
      ]
     },
     "metadata": {},
     "output_type": "display_data"
    }
   ],
   "source": [
    "#In this program we are going to use water's parameters\n",
    "a = 5.536 #L^2 bar mol^-2\n",
    "b = 0.03049 #L mol^-1\n",
    "\n",
    "colors = ['#0079c4','#f09205','#21c400', '#850082']\n",
    "\n",
    "p_c, v_c, T_c = calculate_critic(a, b)\n",
    "\n",
    "p_c = p_c * 0.9869 #unit change from bar to atm\n",
    "\n",
    "v_values = np.linspace(-5, 5, 3000) #L/mol\n",
    "T_values = [0.9*T_c, 1.0*T_c, 1.1*T_c]\n",
    "\n",
    "p_values = get_absolute_isotherms(a, b, v_values, T_values)\n",
    "p_values = bar_to_atm(p_values)\n",
    "\n",
    "#####################\n",
    "######TOP BLOCK######\n",
    "#####################\n",
    "\n",
    "top_block_119_000 = widgets.VBox([], layout=widgets.Layout(align_items='center'))\n",
    "\n",
    "scale_x_119_001 = bqs.LinearScale(min = -0.5, max = 0.5)\n",
    "scale_y_119_001 = bqs.LinearScale(min = -300, max = 300)\n",
    "\n",
    "axis_x_119_001 = bqa.Axis(\n",
    "                    scale=scale_x_119_001,\n",
    "                    tick_format='.1f',#'0.2f',\n",
    "                    tick_style={'font-size': '15px'},\n",
    "                    num_ticks=5,\n",
    "                    grid_lines = 'none',\n",
    "                    grid_color = '#8e8e8e', \n",
    "                    label='v (L/mol)',\n",
    "                    label_location='middle',\n",
    "                    label_style={'stroke': 'black', 'default-size': 35},\n",
    "                    label_offset='50px')\n",
    "\n",
    "axis_y_119_001 = bqa.Axis(\n",
    "                scale=scale_y_119_001,\n",
    "                tick_format='.0f',#'0.2f',\n",
    "                tick_style={'font-size': '15px'},\n",
    "                num_ticks=4,\n",
    "                grid_lines = 'none',\n",
    "                grid_color = '#8e8e8e', \n",
    "                orientation='vertical',\n",
    "                label='p (atm)',\n",
    "                label_location='middle',\n",
    "                label_style={'stroke': 'red', 'default_size': 35},\n",
    "                label_offset='50px')\n",
    "\n",
    "fig_119_001 = Figure(\n",
    "                title='Van der Waals equation of state',\n",
    "                marks=[],\n",
    "                axes=[axis_x_119_001, axis_y_119_001],\n",
    "                animation_duration=0, #500,\n",
    "                #layout = widgets.Layout(align_self='center', width='75%'),\n",
    "                legend_location='top-right',\n",
    "                background_style= {'fill': 'white',  'stroke': 'black'},\n",
    "                min_aspect_ratio=1.0,\n",
    "                fig_margin=dict(top=70, bottom=60, left=80, right=30),\n",
    "                toolbar = True,\n",
    "                layout = widgets.Layout()\n",
    "                      )\n",
    "\n",
    "marks = [bqm.Lines(\n",
    "               x = [v_values for elem in p_values], \n",
    "               y = p_values, \n",
    "               scales = {'x': scale_x_119_001, 'y': scale_y_119_001}, \n",
    "               opacities = [1.0],\n",
    "               visible = True, #True, #t == '1.00',\n",
    "               colors = colors,\n",
    "               #labels = '',\n",
    "               )]\n",
    "\n",
    "fig_119_001.marks = marks\n",
    "\n",
    "tb_119_001 = Toolbar(figure=fig_119_001, layout=widgets.Layout(align_self='center'))\n",
    "\n",
    "fig_119_002 = Figure(\n",
    "                title='Van der Waals equation of state',\n",
    "                marks=[],\n",
    "                axes=[axis_x_119_001, axis_y_119_001],\n",
    "                animation_duration=0, #500,\n",
    "                #layout = widgets.Layout(align_self='center', width='75%'),\n",
    "                legend_location='top-right',\n",
    "                background_style= {'fill': 'white',  'stroke': 'black'},\n",
    "                min_aspect_ratio=1.0,\n",
    "                fig_margin=dict(top=70, bottom=60, left=80, right=30),\n",
    "                toolbar = True,\n",
    "                layout = widgets.Layout()\n",
    "                      )\n",
    "\n",
    "fig_119_002.marks = marks\n",
    "\n",
    "\n",
    "top_block_119_000.children = [tb_119_001, widgets.HBox([fig_119_001, fig_119_002])]\n",
    "\n",
    "#####################\n",
    "######BOTTOM BLOCK###\n",
    "#####################\n",
    "\n",
    "bottom_block_119_000 = widgets.VBox([], layout=widgets.Layout(align_items='center', width='100%', margin='30px 0 0 0'))\n",
    "\n",
    "a_slider = widgets.FloatSlider(\n",
    "    min=0,\n",
    "    max=34.0,\n",
    "    step=0.001,\n",
    "    value=a,\n",
    "    description='a',\n",
    "    disabled=False,\n",
    "    continuous_update=False,\n",
    "    orientation='horizontal',\n",
    "    readout=True,\n",
    "    layout=widgets.Layout(width='90%'),\n",
    ")\n",
    "\n",
    "a_slider.observe(update_isotherms, 'value')\n",
    "\n",
    "b_slider = widgets.FloatSlider(\n",
    "    min=0,\n",
    "    max=0.1735,\n",
    "    step=0.0001,\n",
    "    value=b,\n",
    "    description='b',\n",
    "    disabled=False,\n",
    "    continuous_update=False,\n",
    "    orientation='horizontal',\n",
    "    readout=True,\n",
    "    layout=widgets.Layout(width='90%'),\n",
    ")\n",
    "\n",
    "b_slider.observe(update_isotherms, 'value')\n",
    "\n",
    "bottom_block_119_000.children = [widgets.HBox([a_slider,\n",
    "                                       widgets.HTMLMath(value=r\"\\( \\frac{L^2 bar}{mol^2} \\)\",layout=widgets.Layout(height='60px') )],\n",
    "                                      layout=widgets.Layout(width='50%', height='100%')),\n",
    "                         widgets.HBox([b_slider,\n",
    "                                       widgets.HTMLMath(value=r\"\\( \\frac{L}{mol} \\)\",layout=widgets.Layout(height='60px'))],\n",
    "                                      layout=widgets.Layout(width='50%', height='100%'))]\n",
    "#####################\n",
    "####MAIN BLOCK#####\n",
    "#####################\n",
    "\n",
    "main_block_119_000 = widgets.VBox([], layout=widgets.Layout(align_items='center'))\n",
    "\n",
    "main_block_119_000.children = [top_block_119_000, \n",
    "                               bottom_block_119_000\n",
    "                               ]\n",
    "\n",
    "main_block_119_000"
   ]
  },
  {
   "cell_type": "code",
   "execution_count": null,
   "metadata": {},
   "outputs": [],
   "source": []
  }
 ],
 "metadata": {
  "kernelspec": {
   "display_name": "Python 3",
   "language": "python",
   "name": "python3"
  },
  "language_info": {
   "codemirror_mode": {
    "name": "ipython",
    "version": 3
   },
   "file_extension": ".py",
   "mimetype": "text/x-python",
   "name": "python",
   "nbconvert_exporter": "python",
   "pygments_lexer": "ipython3",
   "version": "3.7.0"
  }
 },
 "nbformat": 4,
 "nbformat_minor": 2
}
