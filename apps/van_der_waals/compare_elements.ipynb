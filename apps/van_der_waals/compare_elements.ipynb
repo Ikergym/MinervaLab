{
 "cells": [
  {
   "cell_type": "code",
   "execution_count": 1,
   "metadata": {},
   "outputs": [
    {
     "data": {
      "text/html": [
       "<head><link rel='stylesheet' type='text/css' href='./../../static/custom.css'></head>"
      ],
      "text/plain": [
       "<IPython.core.display.HTML object>"
      ]
     },
     "metadata": {},
     "output_type": "display_data"
    },
    {
     "data": {
      "text/html": [
       "<style>.container { width:100% !important; }</style>"
      ],
      "text/plain": [
       "<IPython.core.display.HTML object>"
      ]
     },
     "metadata": {},
     "output_type": "display_data"
    }
   ],
   "source": [
    "from IPython.display import HTML\n",
    "display(HTML(\"<head><link rel='stylesheet' type='text/css' href='./../../static/custom.css'></head>\"))\n",
    "display(HTML(\"<style>.container { width:100% !important; }</style>\"))"
   ]
  },
  {
   "cell_type": "code",
   "execution_count": 2,
   "metadata": {},
   "outputs": [],
   "source": [
    "from bqplot import *\n",
    "import bqplot as bq\n",
    "import bqplot.marks as bqm\n",
    "import bqplot.scales as bqs\n",
    "import bqplot.axes as bqa\n",
    "\n",
    "import ipywidgets as widgets"
   ]
  },
  {
   "cell_type": "code",
   "execution_count": 5,
   "metadata": {},
   "outputs": [],
   "source": [
    "def calculate_critic(a, b):\n",
    "    \n",
    "    \"\"\"\n",
    "        This function calculates the critic point \n",
    "        (p_c, v_c, T_c) from given a and b parameters of \n",
    "        the Van der Waals equation of state for real gases.\n",
    "        \n",
    "        :math:`(P + a \\\\frac{n^2}{V^2})(V - nb) = nRT`\n",
    "        \n",
    "        :math:`p_c = \\\\frac{a}{27 b^2}`\n",
    "        :math:`v_c = 3b`\n",
    "        :math:`T_c = \\\\frac{8a}{27 b k_B}`\n",
    "        \n",
    "   #Args:\n",
    "   #    a: Term related with the attraction between particles in\n",
    "   #    J m^3/ mol^2.\\n\n",
    "   #    b: Term related with the volume that is occupied by one \n",
    "   #    mole of the molecules in 10^-3 m^3/mol.\\n\n",
    "   #    \n",
    "   #Returns:\n",
    "   #    p_c: Critical pressure in Pa.\\n\n",
    "   #    v_c: Critical volume in m^3/mol.\\n\n",
    "   #    T_c: Critical tenperature in K.\\n\n",
    "        \n",
    "    \"\"\"\n",
    "    \n",
    "    if b == 0.0:\n",
    "        return None\n",
    "    \n",
    "    k_B = 1.3806488e-23 #m^2 kg s^-2 K^-1\n",
    "    N_A = 6.02214129e23 \n",
    "    R = 0.082 * 1.01325 #atm L mol^-1 K^-1 #now in bar L mol^-1 K^-1\n",
    "    \n",
    "    p_c = a/27.0/(b**2)\n",
    "    v_c = 3.0*b\n",
    "    T_c = 8.0*a/27.0/b/R\n",
    "    \n",
    "    return p_c, v_c, T_c"
   ]
  },
  {
   "cell_type": "code",
   "execution_count": 6,
   "metadata": {},
   "outputs": [],
   "source": [
    "def get_absolute_isotherms(a, b, v_values, T_values):\n",
    "    #given v (1d array) and T (Nd array) calculate N isotherm arrays \n",
    "    \n",
    "    isotherms = []\n",
    "    \n",
    "    #N_A = 6.02214129e23 \n",
    "\n",
    "    R = 0.082 * 1.01325 #atm L mol^-1 K^-1 #now in bar L mol^-1 K^-1\n",
    "\n",
    "    for T in T_values:\n",
    "        isot = []\n",
    "        for v in v_values:\n",
    "            p = R*T/(v - b) - (a/v**2)\n",
    "            isot.append(p)\n",
    "            \n",
    "        isotherms.append(isot)\n",
    "        \n",
    "    return isotherms"
   ]
  },
  {
   "cell_type": "code",
   "execution_count": 57,
   "metadata": {},
   "outputs": [
    {
     "data": {
      "application/vnd.jupyter.widget-view+json": {
       "model_id": "0e426af11cee46d1b5b00f91fdce1892",
       "version_major": 2,
       "version_minor": 0
      },
      "text/plain": [
       "VBox(children=(HBox(children=(VBox(children=(Figure(axes=[Axis(grid_color='#8e8e8e', grid_lines='none', label=…"
      ]
     },
     "metadata": {},
     "output_type": "display_data"
    }
   ],
   "source": [
    "#(a, b, element's name)\n",
    "parameters = [(5.536, 0.03049, 'Water'),\n",
    "             (4.225, 0.0371, 'Ammonia'),\n",
    "             (1.358, 0.02789, 'Nitric oxide'),\n",
    "             (4.25, 0.05105, 'Xenon')]\n",
    "\n",
    "#I want to show the same range in v so you can compare the isotherms of all the elements\n",
    "#so, let's calculate the critic point of the first one and use as a reference for the rest\n",
    "\n",
    "p_c1, v_c1, T_c1 = calculate_critic(parameters[0][0], parameters[0][1])\n",
    "v_values = np.linspace(0.8*parameters[0][1], 10*v_c1, 500)\n",
    "\n",
    "scale_x = bqs.LinearScale(min = min(v_values), max = max(v_values))\n",
    "scale_y = bqs.LinearScale(min = 0.0, max = 2.0*p_c1)\n",
    "\n",
    "axis_x = bqa.Axis(scale=scale_x,\n",
    "                    tick_format='.2f',#'0.2f',\n",
    "                    tick_style={'font-size': '15px'},\n",
    "                    num_ticks=5,\n",
    "                    grid_lines = 'none',\n",
    "                    grid_color = '#8e8e8e', \n",
    "                    label='v',\n",
    "                    label_location='middle',\n",
    "                    label_style={'stroke': 'black', 'default-size': 35},\n",
    "                    label_offset='50px')\n",
    "\n",
    "axis_y = bqa.Axis(\n",
    "                scale=scale_y,\n",
    "                tick_format='.0f',#'0.2f',\n",
    "                tick_style={'font-size': '15px'},\n",
    "                num_ticks=4,\n",
    "                grid_lines = 'none',\n",
    "                grid_color = '#8e8e8e', \n",
    "                orientation='vertical',\n",
    "                label='p',\n",
    "                label_location='middle',\n",
    "                label_style={'stroke': 'red', 'default_size': 35},\n",
    "                label_offset='50px')\n",
    "\n",
    "main_block = widgets.VBox([])\n",
    "h_block_1 = widgets.HBox([])\n",
    "\n",
    "main_block.children = [h_block_1]\n",
    "\n",
    "if len(parameters) > 3:\n",
    "\n",
    "    h_block_2 = widgets.HBox([])\n",
    "    main_block.children = [h_block_1, h_block_2]\n",
    "\n",
    "for i in range(len(parameters)):\n",
    "    \n",
    "    elem = parameters[i]\n",
    "    \n",
    "    a = elem[0]\n",
    "    b = elem[1]\n",
    "    name = elem[2]\n",
    "    \n",
    "    p_c, v_c, T_c = calculate_critic(a, b)\n",
    "    \n",
    "    T_values = [0.6*T_c, 0.8*T_c, T_c, 1.2*T_c]\n",
    "    \n",
    "    isotherms = get_absolute_isotherms(a, b, v_values, T_values)\n",
    "    \n",
    "    block = widgets.VBox([], layout=widgets.Layout(width='33%'))\n",
    "    \n",
    "    marks = []\n",
    "\n",
    "    for j in range(len(isotherms)):\n",
    "\n",
    "        marks.append(bqm.Lines(\n",
    "                    x = v_values, \n",
    "                    y = isotherms[j], \n",
    "                    scales = {'x': scale_x, 'y': scale_y}, \n",
    "                    opacities = [1.0],\n",
    "                    visible = True, #True, #t == '1.00',\n",
    "                    colors = ['red'],\n",
    "                    labels = [str(T_values[i])],\n",
    "                    ))\n",
    "    \n",
    "    block.children = [\n",
    "                Figure(title=name,\n",
    "                marks=marks,\n",
    "                axes=[axis_x, axis_y],\n",
    "                animation_duration=0, #500,\n",
    "                #layout = widgets.Layout(align_self='center', width='75%'),\n",
    "                legend_location='top-right',\n",
    "                background_style= {'fill': 'white',  'stroke': 'black'},\n",
    "                min_aspect_ratio=1.0,\n",
    "                fig_margin=dict(top=50, bottom=60, left=80, right=30),\n",
    "                toolbar = True,\n",
    "                layout = widgets.Layout(width='90%', height='300px')\n",
    "                      ),\n",
    "                #widgets.HTML(value='<p>'+str(name)+'</p>', layout=widgets.Layout(align_self='center')),\n",
    "                widgets.HTML(value='<p>a: '+str(a)+'</p>', layout=widgets.Layout(align_self='center')),\n",
    "                widgets.HTML(value='<p>b: '+str(b)+'</p>', layout=widgets.Layout(align_self='center'))\n",
    "    ]  \n",
    "\n",
    "    if i > 2:\n",
    "        h_block_2.children = h_block_2.children + (block,)\n",
    "        \n",
    "    else:\n",
    "        h_block_1.children = h_block_1.children + (block,)\n",
    "        \n",
    "main_block"
   ]
  },
  {
   "cell_type": "code",
   "execution_count": null,
   "metadata": {},
   "outputs": [],
   "source": []
  }
 ],
 "metadata": {
  "kernelspec": {
   "display_name": "Python 3",
   "language": "python",
   "name": "python3"
  },
  "language_info": {
   "codemirror_mode": {
    "name": "ipython",
    "version": 3
   },
   "file_extension": ".py",
   "mimetype": "text/x-python",
   "name": "python",
   "nbconvert_exporter": "python",
   "pygments_lexer": "ipython3",
   "version": "3.7.0"
  }
 },
 "nbformat": 4,
 "nbformat_minor": 2
}
