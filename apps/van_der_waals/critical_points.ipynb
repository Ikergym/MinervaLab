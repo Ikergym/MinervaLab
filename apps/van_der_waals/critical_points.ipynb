{
 "cells": [
  {
   "cell_type": "code",
   "execution_count": 1,
   "metadata": {},
   "outputs": [
    {
     "data": {
      "text/html": [
       "<head><link rel='stylesheet' type='text/css' href='./../../static/custom.css'></head>"
      ],
      "text/plain": [
       "<IPython.core.display.HTML object>"
      ]
     },
     "metadata": {},
     "output_type": "display_data"
    },
    {
     "data": {
      "text/html": [
       "<style>.container { width:100% !important; }</style>"
      ],
      "text/plain": [
       "<IPython.core.display.HTML object>"
      ]
     },
     "metadata": {},
     "output_type": "display_data"
    }
   ],
   "source": [
    "from IPython.display import HTML\n",
    "display(HTML(\"<head><link rel='stylesheet' type='text/css' href='./../../static/custom.css'></head>\"))\n",
    "display(HTML(\"<style>.container { width:100% !important; }</style>\"))"
   ]
  },
  {
   "cell_type": "code",
   "execution_count": 2,
   "metadata": {},
   "outputs": [],
   "source": [
    "from bqplot import *\n",
    "import bqplot as bq\n",
    "import bqplot.marks as bqm\n",
    "import bqplot.scales as bqs\n",
    "import bqplot.axes as bqa\n",
    "\n",
    "import ipywidgets as widgets\n",
    "\n",
    "import scipy\n",
    "\n",
    "import qgrid\n",
    "import pandas as pd"
   ]
  },
  {
   "cell_type": "code",
   "execution_count": 3,
   "metadata": {
    "scrolled": true
   },
   "outputs": [],
   "source": [
    "#data taken from https://en.wikipedia.org/wiki/Van_der_Waals_constants_(data_page) using https://wikitable2csv.ggor.de/\n",
    "#format: Element, a (L2bar/mol2), b (L/mol)\n",
    "\n",
    "raw_data = [\"Acetic acid\",17.71,0.1065,\n",
    "\"Acetic anhydride\",20.158,0.1263,\n",
    "\"Acetone\",16.02,0.1124,\n",
    "\"Acetonitrile\",17.81,0.1168,\n",
    "\"Acetylene\",4.516,0.0522,\n",
    "\"Ammonia\",4.225,0.0371,\n",
    "\"Argon\",1.355,0.03201,\n",
    "\"Benzene\",18.24,0.1154,\n",
    "\"Bromobenzene\",28.94,0.1539,\n",
    "\"Butane\",14.66,0.1226,\n",
    "\"Carbon dioxide\",3.640,0.04267,\n",
    "\"Carbon disulfide\",11.77,0.07685,\n",
    "\"Carbon monoxide\",1.505,0.03985,\n",
    "\"Carbon tetrachloride\",19.7483,0.1281,\n",
    "\"Chlorine\",6.579,0.05622,\n",
    "\"Chlorobenzene\",25.77,0.1453,\n",
    "\"Chloroethane\",11.05,0.08651,\n",
    "\"Chloromethane\",7.570,0.06483,\n",
    "\"Cyanogen\",7.769,0.06901,\n",
    "\"Cyclohexane\",23.11,0.1424,\n",
    "\"Diethyl ether\",17.61,0.1344,\n",
    "\"Diethyl sulfide\",19.00,0.1214,\n",
    "\"Dimethyl ether\",8.180,0.07246,\n",
    "\"Dimethyl sulfide\",13.04,0.09213,\n",
    "\"Ethane\",5.562,0.0638,\n",
    "\"Ethanethiol\",11.39,0.08098,\n",
    "\"Ethanol\",12.18,0.08407,\n",
    "\"Ethyl acetate\",20.72,0.1412,\n",
    "\"Ethylamine\",10.74,0.08409,\n",
    "\"Fluorobenzene\",20.19,0.1286,\n",
    "\"Fluoromethane\",4.692,0.05264,\n",
    "\"Freon\",10.78,0.0998,\n",
    "\"Germanium tetrachloride\",22.90,0.1485,\n",
    "\"Helium\",0.0346,0.0238,\n",
    "\"Hexane\",24.71,0.1735,\n",
    "\"Hydrogen\",0.2476,0.02661,\n",
    "\"Hydrogen bromide\",4.510,0.04431,\n",
    "\"Hydrogen chloride\",3.716,0.04081,\n",
    "\"Hydrogen selenide\",5.338,0.04637,\n",
    "\"Hydrogen sulfide\",4.490,0.04287,\n",
    "\"Iodobenzene\",33.52,0.1656,\n",
    "\"Krypton\",2.349,0.03978,\n",
    "\"Mercury\",8.200,0.01696,\n",
    "\"Methane\",2.283,0.04278,\n",
    "\"Methanol\",9.649,0.06702,\n",
    "\"Neon\",0.2135,0.01709,\n",
    "\"Nitric oxide\",1.358,0.02789,\n",
    "\"Nitrogen\",1.370,0.0387,\n",
    "\"Nitrogen dioxide\",5.354,0.04424,\n",
    "\"Nitrous oxide\",3.832,0.04415,\n",
    "\"Oxygen\",1.382,0.03186,\n",
    "\"Pentane\",19.26,0.146,\n",
    "\"Phosphine\",4.692,0.05156,\n",
    "\"Propane\",8.779,0.08445,\n",
    "\"Radon\",6.601,0.06239,\n",
    "\"Silane\",4.377,0.05786,\n",
    "\"Silicon tetrafluoride\",4.251,0.05571,\n",
    "\"Sulfur dioxide\",6.803,0.05636,\n",
    "\"Tin tetrachloride\",27.27,0.1642,\n",
    "\"Toluene\",24.38,0.1463,\n",
    "\"Water\",5.536,0.03049,\n",
    "\"Xenon\",4.250,0.05105]"
   ]
  },
  {
   "cell_type": "code",
   "execution_count": 4,
   "metadata": {},
   "outputs": [],
   "source": [
    "data_array = np.array(raw_data)\n",
    "data_reshaped = np.reshape(data_array, (-1,3)); #reshape in three columns"
   ]
  },
  {
   "cell_type": "code",
   "execution_count": 17,
   "metadata": {},
   "outputs": [
    {
     "ename": "TypeError",
     "evalue": "Index(...) must be called with a collection of some kind, False was passed",
     "output_type": "error",
     "traceback": [
      "\u001b[1;31m---------------------------------------------------------------------------\u001b[0m",
      "\u001b[1;31mTypeError\u001b[0m                                 Traceback (most recent call last)",
      "\u001b[1;32m<ipython-input-17-4d21a8dfa027>\u001b[0m in \u001b[0;36m<module>\u001b[1;34m\u001b[0m\n\u001b[1;32m----> 1\u001b[1;33m \u001b[0mdatabase\u001b[0m \u001b[1;33m=\u001b[0m \u001b[0mpd\u001b[0m\u001b[1;33m.\u001b[0m\u001b[0mDataFrame\u001b[0m\u001b[1;33m(\u001b[0m\u001b[0mdata\u001b[0m\u001b[1;33m=\u001b[0m\u001b[0mdata_reshaped\u001b[0m\u001b[1;33m,\u001b[0m \u001b[0mindex\u001b[0m\u001b[1;33m=\u001b[0m\u001b[1;32mFalse\u001b[0m\u001b[1;33m,\u001b[0m \u001b[0mcolumns\u001b[0m\u001b[1;33m=\u001b[0m\u001b[1;33m[\u001b[0m\u001b[1;34m\"Element\"\u001b[0m\u001b[1;33m,\u001b[0m \u001b[1;34m\"a (L2bar/mol2)\"\u001b[0m\u001b[1;33m,\u001b[0m \u001b[1;34m\"b (L/mol)\"\u001b[0m\u001b[1;33m]\u001b[0m\u001b[1;33m)\u001b[0m\u001b[1;33m\u001b[0m\u001b[0m\n\u001b[0m",
      "\u001b[1;32md:\\_data\\users\\jon\\documents\\uni\\tfg\\fisika\\venv\\lib\\site-packages\\pandas\\core\\frame.py\u001b[0m in \u001b[0;36m__init__\u001b[1;34m(self, data, index, columns, dtype, copy)\u001b[0m\n\u001b[0;32m    437\u001b[0m                 \u001b[0mmgr\u001b[0m \u001b[1;33m=\u001b[0m \u001b[0minit_dict\u001b[0m\u001b[1;33m(\u001b[0m\u001b[1;33m{\u001b[0m\u001b[0mdata\u001b[0m\u001b[1;33m.\u001b[0m\u001b[0mname\u001b[0m\u001b[1;33m:\u001b[0m \u001b[0mdata\u001b[0m\u001b[1;33m}\u001b[0m\u001b[1;33m,\u001b[0m \u001b[0mindex\u001b[0m\u001b[1;33m,\u001b[0m \u001b[0mcolumns\u001b[0m\u001b[1;33m,\u001b[0m \u001b[0mdtype\u001b[0m\u001b[1;33m=\u001b[0m\u001b[0mdtype\u001b[0m\u001b[1;33m)\u001b[0m\u001b[1;33m\u001b[0m\u001b[0m\n\u001b[0;32m    438\u001b[0m             \u001b[1;32melse\u001b[0m\u001b[1;33m:\u001b[0m\u001b[1;33m\u001b[0m\u001b[0m\n\u001b[1;32m--> 439\u001b[1;33m                 \u001b[0mmgr\u001b[0m \u001b[1;33m=\u001b[0m \u001b[0minit_ndarray\u001b[0m\u001b[1;33m(\u001b[0m\u001b[0mdata\u001b[0m\u001b[1;33m,\u001b[0m \u001b[0mindex\u001b[0m\u001b[1;33m,\u001b[0m \u001b[0mcolumns\u001b[0m\u001b[1;33m,\u001b[0m \u001b[0mdtype\u001b[0m\u001b[1;33m=\u001b[0m\u001b[0mdtype\u001b[0m\u001b[1;33m,\u001b[0m \u001b[0mcopy\u001b[0m\u001b[1;33m=\u001b[0m\u001b[0mcopy\u001b[0m\u001b[1;33m)\u001b[0m\u001b[1;33m\u001b[0m\u001b[0m\n\u001b[0m\u001b[0;32m    440\u001b[0m \u001b[1;33m\u001b[0m\u001b[0m\n\u001b[0;32m    441\u001b[0m         \u001b[1;31m# For data is list-like, or Iterable (will consume into list)\u001b[0m\u001b[1;33m\u001b[0m\u001b[1;33m\u001b[0m\u001b[0m\n",
      "\u001b[1;32md:\\_data\\users\\jon\\documents\\uni\\tfg\\fisika\\venv\\lib\\site-packages\\pandas\\core\\internals\\construction.py\u001b[0m in \u001b[0;36minit_ndarray\u001b[1;34m(values, index, columns, dtype, copy)\u001b[0m\n\u001b[0;32m    182\u001b[0m                 \u001b[0mraise_with_traceback\u001b[0m\u001b[1;33m(\u001b[0m\u001b[0me\u001b[0m\u001b[1;33m)\u001b[0m\u001b[1;33m\u001b[0m\u001b[0m\n\u001b[0;32m    183\u001b[0m \u001b[1;33m\u001b[0m\u001b[0m\n\u001b[1;32m--> 184\u001b[1;33m     \u001b[0mindex\u001b[0m\u001b[1;33m,\u001b[0m \u001b[0mcolumns\u001b[0m \u001b[1;33m=\u001b[0m \u001b[0m_get_axes\u001b[0m\u001b[1;33m(\u001b[0m\u001b[1;33m*\u001b[0m\u001b[0mvalues\u001b[0m\u001b[1;33m.\u001b[0m\u001b[0mshape\u001b[0m\u001b[1;33m,\u001b[0m \u001b[0mindex\u001b[0m\u001b[1;33m=\u001b[0m\u001b[0mindex\u001b[0m\u001b[1;33m,\u001b[0m \u001b[0mcolumns\u001b[0m\u001b[1;33m=\u001b[0m\u001b[0mcolumns\u001b[0m\u001b[1;33m)\u001b[0m\u001b[1;33m\u001b[0m\u001b[0m\n\u001b[0m\u001b[0;32m    185\u001b[0m     \u001b[0mvalues\u001b[0m \u001b[1;33m=\u001b[0m \u001b[0mvalues\u001b[0m\u001b[1;33m.\u001b[0m\u001b[0mT\u001b[0m\u001b[1;33m\u001b[0m\u001b[0m\n\u001b[0;32m    186\u001b[0m \u001b[1;33m\u001b[0m\u001b[0m\n",
      "\u001b[1;32md:\\_data\\users\\jon\\documents\\uni\\tfg\\fisika\\venv\\lib\\site-packages\\pandas\\core\\internals\\construction.py\u001b[0m in \u001b[0;36m_get_axes\u001b[1;34m(N, K, index, columns)\u001b[0m\n\u001b[0;32m    425\u001b[0m         \u001b[0mindex\u001b[0m \u001b[1;33m=\u001b[0m \u001b[0mibase\u001b[0m\u001b[1;33m.\u001b[0m\u001b[0mdefault_index\u001b[0m\u001b[1;33m(\u001b[0m\u001b[0mN\u001b[0m\u001b[1;33m)\u001b[0m\u001b[1;33m\u001b[0m\u001b[0m\n\u001b[0;32m    426\u001b[0m     \u001b[1;32melse\u001b[0m\u001b[1;33m:\u001b[0m\u001b[1;33m\u001b[0m\u001b[0m\n\u001b[1;32m--> 427\u001b[1;33m         \u001b[0mindex\u001b[0m \u001b[1;33m=\u001b[0m \u001b[0mensure_index\u001b[0m\u001b[1;33m(\u001b[0m\u001b[0mindex\u001b[0m\u001b[1;33m)\u001b[0m\u001b[1;33m\u001b[0m\u001b[0m\n\u001b[0m\u001b[0;32m    428\u001b[0m \u001b[1;33m\u001b[0m\u001b[0m\n\u001b[0;32m    429\u001b[0m     \u001b[1;32mif\u001b[0m \u001b[0mcolumns\u001b[0m \u001b[1;32mis\u001b[0m \u001b[1;32mNone\u001b[0m\u001b[1;33m:\u001b[0m\u001b[1;33m\u001b[0m\u001b[0m\n",
      "\u001b[1;32md:\\_data\\users\\jon\\documents\\uni\\tfg\\fisika\\venv\\lib\\site-packages\\pandas\\core\\indexes\\base.py\u001b[0m in \u001b[0;36mensure_index\u001b[1;34m(index_like, copy)\u001b[0m\n\u001b[0;32m   5759\u001b[0m             \u001b[0mindex_like\u001b[0m \u001b[1;33m=\u001b[0m \u001b[0mcopy\u001b[0m\u001b[1;33m(\u001b[0m\u001b[0mindex_like\u001b[0m\u001b[1;33m)\u001b[0m\u001b[1;33m\u001b[0m\u001b[0m\n\u001b[0;32m   5760\u001b[0m \u001b[1;33m\u001b[0m\u001b[0m\n\u001b[1;32m-> 5761\u001b[1;33m     \u001b[1;32mreturn\u001b[0m \u001b[0mIndex\u001b[0m\u001b[1;33m(\u001b[0m\u001b[0mindex_like\u001b[0m\u001b[1;33m)\u001b[0m\u001b[1;33m\u001b[0m\u001b[0m\n\u001b[0m\u001b[0;32m   5762\u001b[0m \u001b[1;33m\u001b[0m\u001b[0m\n\u001b[0;32m   5763\u001b[0m \u001b[1;33m\u001b[0m\u001b[0m\n",
      "\u001b[1;32md:\\_data\\users\\jon\\documents\\uni\\tfg\\fisika\\venv\\lib\\site-packages\\pandas\\core\\indexes\\base.py\u001b[0m in \u001b[0;36m__new__\u001b[1;34m(cls, data, dtype, copy, name, fastpath, tupleize_cols, **kwargs)\u001b[0m\n\u001b[0;32m    518\u001b[0m             \u001b[1;32mreturn\u001b[0m \u001b[0mIndex\u001b[0m\u001b[1;33m(\u001b[0m\u001b[0mnp\u001b[0m\u001b[1;33m.\u001b[0m\u001b[0masarray\u001b[0m\u001b[1;33m(\u001b[0m\u001b[0mdata\u001b[0m\u001b[1;33m)\u001b[0m\u001b[1;33m,\u001b[0m \u001b[0mdtype\u001b[0m\u001b[1;33m=\u001b[0m\u001b[0mdtype\u001b[0m\u001b[1;33m,\u001b[0m \u001b[0mcopy\u001b[0m\u001b[1;33m=\u001b[0m\u001b[0mcopy\u001b[0m\u001b[1;33m,\u001b[0m \u001b[0mname\u001b[0m\u001b[1;33m=\u001b[0m\u001b[0mname\u001b[0m\u001b[1;33m,\u001b[0m \u001b[1;33m**\u001b[0m\u001b[0mkwargs\u001b[0m\u001b[1;33m)\u001b[0m\u001b[1;33m\u001b[0m\u001b[0m\n\u001b[0;32m    519\u001b[0m         \u001b[1;32melif\u001b[0m \u001b[0mdata\u001b[0m \u001b[1;32mis\u001b[0m \u001b[1;32mNone\u001b[0m \u001b[1;32mor\u001b[0m \u001b[0mis_scalar\u001b[0m\u001b[1;33m(\u001b[0m\u001b[0mdata\u001b[0m\u001b[1;33m)\u001b[0m\u001b[1;33m:\u001b[0m\u001b[1;33m\u001b[0m\u001b[0m\n\u001b[1;32m--> 520\u001b[1;33m             \u001b[0mcls\u001b[0m\u001b[1;33m.\u001b[0m\u001b[0m_scalar_data_error\u001b[0m\u001b[1;33m(\u001b[0m\u001b[0mdata\u001b[0m\u001b[1;33m)\u001b[0m\u001b[1;33m\u001b[0m\u001b[0m\n\u001b[0m\u001b[0;32m    521\u001b[0m         \u001b[1;32melse\u001b[0m\u001b[1;33m:\u001b[0m\u001b[1;33m\u001b[0m\u001b[0m\n\u001b[0;32m    522\u001b[0m             \u001b[1;32mif\u001b[0m \u001b[0mtupleize_cols\u001b[0m \u001b[1;32mand\u001b[0m \u001b[0mis_list_like\u001b[0m\u001b[1;33m(\u001b[0m\u001b[0mdata\u001b[0m\u001b[1;33m)\u001b[0m\u001b[1;33m:\u001b[0m\u001b[1;33m\u001b[0m\u001b[0m\n",
      "\u001b[1;32md:\\_data\\users\\jon\\documents\\uni\\tfg\\fisika\\venv\\lib\\site-packages\\pandas\\core\\indexes\\base.py\u001b[0m in \u001b[0;36m_scalar_data_error\u001b[1;34m(cls, data)\u001b[0m\n\u001b[0;32m   4099\u001b[0m         raise TypeError(\n\u001b[0;32m   4100\u001b[0m             \u001b[1;34m\"{0}(...) must be called with a collection of some \"\u001b[0m\u001b[1;33m\u001b[0m\u001b[0m\n\u001b[1;32m-> 4101\u001b[1;33m             \u001b[1;34m\"kind, {1} was passed\"\u001b[0m\u001b[1;33m.\u001b[0m\u001b[0mformat\u001b[0m\u001b[1;33m(\u001b[0m\u001b[0mcls\u001b[0m\u001b[1;33m.\u001b[0m\u001b[0m__name__\u001b[0m\u001b[1;33m,\u001b[0m \u001b[0mrepr\u001b[0m\u001b[1;33m(\u001b[0m\u001b[0mdata\u001b[0m\u001b[1;33m)\u001b[0m\u001b[1;33m)\u001b[0m\u001b[1;33m\u001b[0m\u001b[0m\n\u001b[0m\u001b[0;32m   4102\u001b[0m         )\n\u001b[0;32m   4103\u001b[0m \u001b[1;33m\u001b[0m\u001b[0m\n",
      "\u001b[1;31mTypeError\u001b[0m: Index(...) must be called with a collection of some kind, False was passed"
     ]
    }
   ],
   "source": [
    "database = pd.DataFrame(data=data_reshaped, index=False, columns=[\"Element\", \"a (L2bar/mol2)\", \"b (L/mol)\"])"
   ]
  },
  {
   "cell_type": "code",
   "execution_count": 18,
   "metadata": {},
   "outputs": [],
   "source": [
    "grid_options = {\n",
    "    # SlickGrid options\n",
    "    'fullWidthRows': True,\n",
    "    'syncColumnCellResize': True,\n",
    "    'forceFitColumns': True,\n",
    "    'defaultColumnWidth': 150,\n",
    "    'rowHeight': 28,\n",
    "    'enableColumnReorder': False,\n",
    "    'enableTextSelectionOnCells': True,\n",
    "    'editable': True,\n",
    "    'autoEdit': False,\n",
    "    'explicitInitialization': True,\n",
    "\n",
    "    # Qgrid options\n",
    "    'maxVisibleRows': 5, #we have changed it to 5 (default = 15)\n",
    "    'minVisibleRows': 5, #we have changed it to 5 (default = 8)\n",
    "    'sortable': True,\n",
    "    'filterable': True,\n",
    "    'highlightSelectedCell': False,\n",
    "    'highlightSelectedRow': True\n",
    "}\n",
    "\n",
    "qgrid_table = qgrid.show_grid(database, grid_options=grid_options)"
   ]
  },
  {
   "cell_type": "code",
   "execution_count": 39,
   "metadata": {},
   "outputs": [],
   "source": [
    "def calculate_critic(a, b):\n",
    "    \n",
    "    \"\"\"\n",
    "        This function calculates the critic point \n",
    "        (p_c, v_c, T_c) from given a and b parameters of \n",
    "        the Van der Waals equation of state for real gases.\n",
    "        \n",
    "        :math:`(P + a \\\\frac{n^2}{V^2})(V - nb) = nRT`\n",
    "        \n",
    "        :math:`p_c = \\\\frac{a}{27 b^2}`\n",
    "        :math:`v_c = 3b`\n",
    "        :math:`T_c = \\\\frac{8a}{27 b k_B}`\n",
    "        \n",
    "   #Args:\n",
    "   #    a: Term related with the attraction between particles in\n",
    "   #    J m^3/ mol^2.\\n\n",
    "   #    b: Term related with the volume that is occupied by one \n",
    "   #    mole of the molecules in 10^-3 m^3/mol.\\n\n",
    "   #    \n",
    "   #Returns:\n",
    "   #    p_c: Critical pressure in Pa.\\n\n",
    "   #    v_c: Critical volume in m^3/mol.\\n\n",
    "   #    T_c: Critical tenperature in K.\\n\n",
    "        \n",
    "    \"\"\"\n",
    "    \n",
    "    if b == 0.0:\n",
    "        return None\n",
    "    \n",
    "    k_B = 1.3806488e-23 #m^2 kg s^-2 K^-1\n",
    "    N_A = 6.02214129e23 \n",
    "    \n",
    "    p_c = a/27.0/(b**2)\n",
    "    v_c = 3.0*b\n",
    "    T_c = 8.0*a/27.0/b/k_B/N_A\n",
    "    \n",
    "    return p_c, v_c, T_c"
   ]
  },
  {
   "cell_type": "code",
   "execution_count": 44,
   "metadata": {},
   "outputs": [
    {
     "name": "stdout",
     "output_type": "stream",
     "text": [
      "17.71\n"
     ]
    }
   ],
   "source": [
    "for row in database.iterrows():\n",
    "    data = row[1]\n",
    "    element_name = data[0]\n",
    "    a = data[1]\n",
    "    b = data[2]    \n",
    "    break"
   ]
  },
  {
   "cell_type": "code",
   "execution_count": 45,
   "metadata": {},
   "outputs": [],
   "source": [
    "def generate_critic_points(df):\n",
    "    #takes a dataframe containing three columns (element, a, b) adn returns four arrays: pc, vc, Tc and names\n",
    "    \n",
    "    pc = []\n",
    "    vc = []\n",
    "    Tc = []\n",
    "    \n",
    "    names = []\n",
    "    \n",
    "    for row in database.iterrows():\n",
    "        data = row[1]\n",
    "        \n",
    "        names.append(data[0])\n",
    "        \n",
    "        a = float(data[1])\n",
    "        b = float(data[2])       \n",
    "        p, v, T = calculate_critic(a, b)\n",
    "        \n",
    "        pc.append(p)\n",
    "        vc.append(v)\n",
    "        Tc.append(T)\n",
    "        \n",
    "    return pc, vc, Tc, names"
   ]
  },
  {
   "cell_type": "code",
   "execution_count": 67,
   "metadata": {},
   "outputs": [
    {
     "data": {
      "application/vnd.jupyter.widget-view+json": {
       "model_id": "7d928d7015f04b2ca02df9008c62b724",
       "version_major": 2,
       "version_minor": 0
      },
      "text/plain": [
       "VBox(children=(HBox(children=(QgridWidget(grid_options={'fullWidthRows': True, 'syncColumnCellResize': True, '…"
      ]
     },
     "metadata": {},
     "output_type": "display_data"
    }
   ],
   "source": [
    "########################################\n",
    "###########TOP BLOCK####################\n",
    "########################################\n",
    "\n",
    "top_block = widgets.HBox([], layout=widgets.Layout(width='50%', align_self='center'))\n",
    "\n",
    "top_block.children = [qgrid_table]\n",
    "\n",
    "\n",
    "\n",
    "########################################\n",
    "###########MIDDLE BLOCK#################\n",
    "########################################\n",
    "\n",
    "middle_block = widgets.HBox([], layout=widgets.Layout(width='100%', align_self='center', align_content='center'))\n",
    "\n",
    "fig_113_002 = bq.Figure(title='pc vs vc',\n",
    "                marks=[],\n",
    "                axes=[],\n",
    "                animation_duration=500,\n",
    "                #layout = widgets.Layout(align_self='center', width='75%'),\n",
    "                legend_location='top-right',\n",
    "                background_style= {'fill': 'white',  'stroke': 'black'},\n",
    "                fig_margin=dict(top=80, bottom=80, left=80, right=30),\n",
    "                toolbar = True\n",
    "    )\n",
    " \n",
    "fig_113_003 = bq.Figure(title='Tc vs vc',\n",
    "                marks=[],\n",
    "                axes=[],\n",
    "                animation_duration=500,\n",
    "                #layout = widgets.Layout(align_self='center', width='75%'),\n",
    "                legend_location='top-right',\n",
    "                background_style= {'fill': 'white',  'stroke': 'black'},\n",
    "                fig_margin=dict(top=80, bottom=80, left=80, right=30),\n",
    "                toolbar = True\n",
    "    )\n",
    "\n",
    "pc, vc, Tc, names = generate_critic_points(database)\n",
    "\n",
    "scale_x = bqs.LinearScale(min = min(vc), max = max(vc))\n",
    "scale_y_p = bqs.LinearScale(min = min(pc), max = max(pc))\n",
    "scale_y_T = bqs.LinearScale(min = min(Tc), max = max(Tc))\n",
    "\n",
    "axis_x = bqa.Axis(scale=scale_x,\n",
    "                tick_format='0.2f',\n",
    "                tick_style={'font-size': '15px'},\n",
    "                ticks=[0,10,100],\n",
    "                grid_lines = 'none',\n",
    "                grid_color = '#8e8e8e', \n",
    "                label='v',\n",
    "                label_location='middle',\n",
    "                label_style={'stroke': 'black', 'default-size': 35},\n",
    "                label_offset='50px')\n",
    "\n",
    "axis_y_p = bqa.Axis(scale=scale_y_p,\n",
    "                tick_format='0.2f',\n",
    "                tick_style={'font-size': '15px'},\n",
    "                grid_lines = 'none',\n",
    "                grid_color = '#8e8e8e', \n",
    "                orientation='vertical',\n",
    "                label='p',\n",
    "                label_location='middle',\n",
    "                label_style={'stroke': 'red', 'default_size': 35},\n",
    "                label_offset='50px')\n",
    "\n",
    "axis_y_T = bqa.Axis(scale=scale_y_T,\n",
    "                tick_format='0.2f',\n",
    "                tick_style={'font-size': '15px'},\n",
    "                grid_lines = 'none',\n",
    "                grid_color = '#8e8e8e', \n",
    "                orientation='vertical',\n",
    "                label='T',\n",
    "                label_location='middle',\n",
    "                label_style={'stroke': 'red', 'default_size': 35},\n",
    "                label_offset='50px')\n",
    "\n",
    "fig_113_002.axes = [axis_x, axis_y_p]\n",
    "fig_113_003.axes = [axis_x, axis_y_T]\n",
    "\n",
    "tt = widgets.Label(\"\")\n",
    "\n",
    "def hover_handler(self, content):\n",
    "    tt.value = str(content.get('data').get('name'))\n",
    "\n",
    "scatter_113_002 = bqm.Scatter(\n",
    "    name = '',\n",
    "    x = vc,\n",
    "    y = pc,\n",
    "    scales = {'x': scale_x, 'y': scale_y_p}, \n",
    "    default_opacities = [0.2],\n",
    "    visible = True,\n",
    "    colors = [],\n",
    "    names = names,\n",
    "    display_names = False,\n",
    "    labels=[],\n",
    "    tooltip = tt\n",
    ") \n",
    "\n",
    "scatter_113_002.on_hover(hover_handler)\n",
    "\n",
    "scatter_113_003 = bqm.Scatter(\n",
    "    name = '',\n",
    "    x = vc,\n",
    "    y = Tc,\n",
    "    scales = {'x': scale_x, 'y': scale_y_T}, \n",
    "    default_opacities = [0.2],\n",
    "    visible = True,\n",
    "    colors = [],\n",
    "    names = names,\n",
    "    display_names = False,\n",
    "    labels=[],\n",
    "    tooltip = tt\n",
    ") \n",
    "\n",
    "scatter_113_003.on_hover(hover_handler)\n",
    "\n",
    "fig_113_002.marks = [scatter_113_002]\n",
    "fig_113_003.marks = [scatter_113_003]\n",
    "\n",
    "middle_block.children = [fig_113_002, fig_113_003]\n",
    "########################################\n",
    "###########MAIN BLOCK###################\n",
    "########################################\n",
    "\n",
    "widgets.VBox([top_block,\n",
    "             middle_block,],\n",
    "            layout=widgets.Layout(align_content='center'))"
   ]
  },
  {
   "cell_type": "code",
   "execution_count": null,
   "metadata": {},
   "outputs": [],
   "source": []
  }
 ],
 "metadata": {
  "kernelspec": {
   "display_name": "Python 3",
   "language": "python",
   "name": "python3"
  },
  "language_info": {
   "codemirror_mode": {
    "name": "ipython",
    "version": 3
   },
   "file_extension": ".py",
   "mimetype": "text/x-python",
   "name": "python",
   "nbconvert_exporter": "python",
   "pygments_lexer": "ipython3",
   "version": "3.7.0"
  }
 },
 "nbformat": 4,
 "nbformat_minor": 2
}
