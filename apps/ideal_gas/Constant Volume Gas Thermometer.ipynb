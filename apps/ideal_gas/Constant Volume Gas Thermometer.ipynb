{
 "cells": [
  {
   "cell_type": "code",
   "execution_count": 86,
   "metadata": {
    "scrolled": true
   },
   "outputs": [
    {
     "data": {
      "text/html": [
       "<head><link rel='stylesheet' type='text/css' href='./../../static/custom.css'></head>"
      ],
      "text/plain": [
       "<IPython.core.display.HTML object>"
      ]
     },
     "metadata": {},
     "output_type": "display_data"
    },
    {
     "data": {
      "text/html": [
       "<style>.container { width:100% !important; }</style>"
      ],
      "text/plain": [
       "<IPython.core.display.HTML object>"
      ]
     },
     "metadata": {},
     "output_type": "display_data"
    }
   ],
   "source": [
    "from IPython.display import HTML\n",
    "display(HTML(\"<head><link rel='stylesheet' type='text/css' href='./../../static/custom.css'></head>\"))\n",
    "display(HTML(\"<style>.container { width:100% !important; }</style>\"))"
   ]
  },
  {
   "cell_type": "code",
   "execution_count": 87,
   "metadata": {
    "scrolled": true
   },
   "outputs": [],
   "source": [
    "import numpy as np\n",
    "\n",
    "from bqplot import *\n",
    "import bqplot as bq\n",
    "import bqplot.marks as bqm\n",
    "import bqplot.scales as bqs\n",
    "import bqplot.axes as bqa\n",
    "\n",
    "import ipywidgets as widgets"
   ]
  },
  {
   "cell_type": "code",
   "execution_count": 88,
   "metadata": {
    "scrolled": true
   },
   "outputs": [],
   "source": [
    "#def get_v_values(p_pt,i):\n",
    "#    '''\n",
    "#    This function calculates the molar volume v values for\n",
    "#    every p_pt and gas i, by solving the Van der Waals (molar)\n",
    "#    equation of state for v.\n",
    "#    \n",
    "#    $(p+\\frac{a}{v^2})(v-b)=RT$\n",
    "#    \n",
    "#    Where T=T_pt is fixed as 273.16K and a and b are fixed parameters for\n",
    "#    each gas\n",
    "#    \n",
    "#    Inputs:\n",
    "#    p_pt: a 1D array of the p_pt values (in kPa) on which we are calculating v\n",
    "#    i: integer index to characterize a gas\n",
    "#    \n",
    "#    Returns:\n",
    "#    v_values: a 1D array of the v values corresponding to each p_pt\n",
    "#    '''\n",
    "#    a = a_data[i]\n",
    "#    b = b_data[i]\n",
    "#    v_values=[]\n",
    "#    for p in p_pt:\n",
    "#        poly = np.poly1d([p, -R*T_pt -p*b, a, -a*b])\n",
    "#        solutions = np.roots(poly) #This statement uses numpy roots to solve third order polynomial\n",
    "#        for sol in solutions: #This control seq. select the only real solution.\n",
    "#            if abs(sol.imag) < 1e-5:\n",
    "#                v_values.append(sol.real)\n",
    "#    return v_values"
   ]
  },
  {
   "cell_type": "code",
   "execution_count": 89,
   "metadata": {
    "scrolled": true
   },
   "outputs": [],
   "source": [
    "#def get_p_values(v_values,T,i):\n",
    "#    '''\n",
    "#    This functions calculates the p values for\n",
    "#    every v in v_values, temperature T and gas i by\n",
    "#    applying the van der waals equation of state.\n",
    "#    \n",
    "#    Inputs:\n",
    "#    v_values: a 1d array of the v values of each measurement\n",
    "#    T: float temperature (in K) for which we are calculating pressure\n",
    "#    i: integer index to characterize a gas\n",
    "#    \n",
    "#    Returns:\n",
    "#    p: a 1D array of the p values corresponding to gas i for each value of v\n",
    "#    '''\n",
    "#    a = a_data[i]\n",
    "#    b = b_data[i]\n",
    "#    p = []\n",
    "#    for v in v_values:\n",
    "#        p.append(R*T/(v-b)-a/v**2)\n",
    "#    return p"
   ]
  },
  {
   "cell_type": "code",
   "execution_count": 90,
   "metadata": {
    "scrolled": true
   },
   "outputs": [],
   "source": [
    "#def get_empirical_temperature(p_pt,T,n_of_gases):\n",
    "#    '''\n",
    "#    This functions calculates the empirical temperature of thermal state T\n",
    "#    for which p_pt and p have been previously calculated, by applying the \n",
    "#    definiton of empirical temperature.\n",
    "#    \n",
    "#    Inputs:\n",
    "#    p_pt: a 1D array of the p_pt values for which we are calculating Theta\n",
    "#    T: float temperature (in K) to measure\n",
    "#    n_of_gases: number of gases to consider in the plot.\n",
    "#    \n",
    "#    Returns:\n",
    "#    Theta: a 2D array of the values of empirical temperature for each gas (first index)\n",
    "#    and for each value of p_pt (second index).\n",
    "#    '''\n",
    "#    \n",
    "#    Theta = []\n",
    "#    for i in range(n_of_gases):\n",
    "#        v_values = get_v_values(p_pt,i)\n",
    "#        p = get_p_values(v_values,T,i)\n",
    "#        Theta.append(p/p_pt * 273.16) \n",
    "#    return Theta"
   ]
  },
  {
   "cell_type": "code",
   "execution_count": 91,
   "metadata": {
    "scrolled": true
   },
   "outputs": [],
   "source": [
    "#def update_figure(change):\n",
    "#    '''\n",
    "#    This function updates the plot figure whenever the T slider\n",
    "#    value is changed or checkbox are turned on/off\n",
    "#    \n",
    "#    WARNING: Funtzio honek checkbox-a klikatzen duen bakoitzan Theta\n",
    "#    berkalkulatzen du. Hori ez da oso efizientea. Oraingoz ez dut beste\n",
    "#    modurik.\n",
    "#    '''\n",
    "#    obj = change.owner\n",
    "#    \n",
    "#    op=[0.0,0.0,0.0,0.0,0.0,0.0]\n",
    "#    \n",
    "#    if Hidrogen_check_121_003.value == True:\n",
    "#        op[0] = 1.0\n",
    "#    if Helium_check_121_003.value == True:\n",
    "#        op[1] = 1.0\n",
    "#    if Nitrogen_check_121_003.value == True:\n",
    "#        op[2] = 1.0\n",
    "#    if Oxygen_check_121_003.value == True:\n",
    "#        op[3] = 1.0\n",
    "#    if Neon_check_121_003.value == True:\n",
    "#        op[4] = 1.0\n",
    "#    if Argon_check_121_003.value == True:\n",
    "#        op[5] = 1.0\n",
    "#    \n",
    "#    T = T_slider_121_002.value\n",
    "#    y_values = get_empirical_temperature(p_pt,T,c)\n",
    "#    scale_y = bqs.LinearScale(min = T-0.2, max = T+0.2)\n",
    "#    \n",
    "#    axis_y.scale=scale_y\n",
    "#    data.y = y_values\n",
    "#    data.scales = {'x': scale_x, 'y': scale_y}\n",
    "#    data.opacities = op\n",
    "#"
   ]
  },
  {
   "cell_type": "code",
   "execution_count": 92,
   "metadata": {
    "scrolled": true
   },
   "outputs": [],
   "source": [
    "def get_v(p_pt,T,gas):\n",
    "    a = a_data[gas]\n",
    "    b = b_data[gas]\n",
    "    poly = np.poly1d([p_pt, -R*T_pt -p_pt*b, a, -a*b])\n",
    "    solutions = np.roots(poly) #This statement uses numpy roots to solve third order polynomial equation\n",
    "    for sol in solutions: #This control statement selects the only real solution.\n",
    "            if abs(sol.imag) < 1e-5:\n",
    "                v = sol.real\n",
    "    return v"
   ]
  },
  {
   "cell_type": "code",
   "execution_count": 93,
   "metadata": {
    "scrolled": true
   },
   "outputs": [],
   "source": [
    "def get_Theta(p_pt,T,gas):\n",
    "    \n",
    "    a = a_data[gas]\n",
    "    b = b_data[gas]\n",
    "    v = get_v(p_pt,T,gas)\n",
    "    p = (R*T/(v-b)-a/v**2)\n",
    "    Theta = (p/p_pt * 273.16)\n",
    "    return Theta"
   ]
  },
  {
   "cell_type": "code",
   "execution_count": 94,
   "metadata": {
    "scrolled": true
   },
   "outputs": [],
   "source": [
    "def get_Theta_values(p_pt_values,T):\n",
    "    Theta_values = np.empty((3,n_of_points))\n",
    "    for gas in [0,1,2]:\n",
    "        for i in range(n_of_points):\n",
    "            Theta_values[gas,i] = get_Theta(p_pt_values[i],T,gas)\n",
    "    return Theta_values\n",
    "    "
   ]
  },
  {
   "cell_type": "code",
   "execution_count": 95,
   "metadata": {
    "scrolled": true
   },
   "outputs": [],
   "source": [
    "def update_current_point(change):\n",
    "    gas = Gas_dropdown.value\n",
    "    p_pt = p_pt_slider.value\n",
    "    T = T_slider.value\n",
    "    \n",
    "    Theta = get_Theta(p_pt,T,gas)\n",
    "    current_point.x = [p_pt]\n",
    "    current_point.y = [Theta]\n",
    "    current_point.colors = [colors[gas]]\n",
    "    Theta_text.value = '%.2f' % Theta"
   ]
  },
  {
   "cell_type": "code",
   "execution_count": 96,
   "metadata": {
    "scrolled": true
   },
   "outputs": [],
   "source": [
    "def save_point(change):\n",
    "    \n",
    "    gas = Gas_dropdown.value\n",
    "    if gas == 0:\n",
    "        saved_points_0.x = np.append(saved_points_0.x, current_point.x )\n",
    "        saved_points_0.y = np.append(saved_points_0.y, current_point.y )\n",
    "    elif gas == 1:\n",
    "        saved_points_1.x = np.append(saved_points_1.x, current_point.x)\n",
    "        saved_points_1.y = np.append(saved_points_1.y, current_point.y)\n",
    "    elif gas == 2:\n",
    "        saved_points_2.x = np.append(saved_points_2.x, current_point.x)\n",
    "        saved_points_2.y = np.append(saved_points_2.y, current_point.y)"
   ]
  },
  {
   "cell_type": "code",
   "execution_count": 97,
   "metadata": {
    "scrolled": true
   },
   "outputs": [],
   "source": [
    "def show_lines(change):\n",
    "    lines.visible = show_lines_check.value"
   ]
  },
  {
   "cell_type": "code",
   "execution_count": 98,
   "metadata": {
    "scrolled": true
   },
   "outputs": [],
   "source": [
    "def reset(change):\n",
    "    \n",
    "    saved_points_0.x = []\n",
    "    saved_points_0.y = []\n",
    "    saved_points_1.x = []\n",
    "    saved_points_1.y = []\n",
    "    saved_points_2.x = []\n",
    "    saved_points_2.y = []"
   ]
  },
  {
   "cell_type": "code",
   "execution_count": 99,
   "metadata": {
    "scrolled": true
   },
   "outputs": [],
   "source": [
    "def update_temperature(change):\n",
    "    T = T_slider.value\n",
    "    Theta_values = get_Theta_values(p_pt_values,T)\n",
    "    \n",
    "    reset(None)\n",
    "    \n",
    "    scale_y = bqs.LinearScale(min = T-0.2, max = T+0.2)\n",
    "    axis_y.scale = scale_y    \n",
    "    for mark in fig_121_001.marks:\n",
    "        mark.scales = {'x': scale_x, 'y': scale_y}\n",
    "        \n",
    "    \n",
    "    update_current_point(None)\n",
    "    lines.y = Theta_values"
   ]
  },
  {
   "cell_type": "code",
   "execution_count": 100,
   "metadata": {
    "scrolled": true
   },
   "outputs": [],
   "source": [
    "def f():\n",
    "    return None"
   ]
  },
  {
   "cell_type": "code",
   "execution_count": 101,
   "metadata": {
    "scrolled": true
   },
   "outputs": [],
   "source": [
    "def f2():\n",
    "    return None"
   ]
  },
  {
   "cell_type": "code",
   "execution_count": 102,
   "metadata": {
    "scrolled": false
   },
   "outputs": [
    {
     "data": {
      "application/vnd.jupyter.widget-view+json": {
       "model_id": "5ea923ce165b4c17aeb499f5e1a60850",
       "version_major": 2,
       "version_minor": 0
      },
      "text/plain": [
       "HBox(children=(VBox(children=(Label(value='Neurtu nahi den temperatura (gas idealaren eskalan)'), FloatSlider(…"
      ]
     },
     "metadata": {},
     "output_type": "display_data"
    }
   ],
   "source": [
    "# Fixed Parameters:\n",
    "R = 8.31446 # Gas constant in L*kPa/K/mol\n",
    "T_pt = 273.16 # Temperature of fixed point (triple point of water) in K.\n",
    "\n",
    "# Plot parameters:\n",
    "p_min = 0.0\n",
    "p_max = 120.0\n",
    "T_min = 100.0\n",
    "T_max = 400.0\n",
    "\n",
    "# Gas data:\n",
    "labels = [\"Hidrogenoa\",\"Helioa\",\"Nitrogenoa\"]#, \"Oxigenoa\", \"Neona\", \"Argona\"]\n",
    "latex = [\"$H_2$\", \"$He$\", \"$N_2$\"]#, \"$O_2$\", \"$Ne$\", \"$Ar$\"]\n",
    "a_data = [24.7100, 3.4600, 137.00]#, 138.2, 21.3500, 135.500]\n",
    "b_data = [0.02661, 0.0238, 0.0387]#, 0.03186, 0.01709, 0.03201]\n",
    "colors = ['#0079c4','#f09205','#21c400']#,'#dd4e4f', '#ae8ccd', '#86564b']\n",
    "opacities = [0.7, 0.7, 0.7]\n",
    "\n",
    "# Initial state:\n",
    "gas=0\n",
    "p_pt = 100.0\n",
    "T = 373.16\n",
    "Theta = get_Theta(p_pt,T,gas)\n",
    "\n",
    "# Lines parameters\n",
    "n_of_points = 2 # Integer parameter to control how many points are to be calculated for lines\n",
    "p_pt_values= np.linspace(1.0,120.0,n_of_points)\n",
    "Theta_values = get_Theta_values(p_pt_values,T)\n",
    "\n",
    "\n",
    "\n",
    "\n",
    "#######################################\n",
    "#######CREATE THE FIGURES##############\n",
    "#######################################\n",
    "\n",
    "\n",
    "fig_121_001 = bq.Figure(title='Tenperatura enpirikoak gas eta presio ezberdinetarako',\n",
    "                marks=[],\n",
    "                axes=[],\n",
    "                animation_duration=0,\n",
    "                legend_location='top-left',\n",
    "                background_style= {'fill': 'white',  'stroke': 'black'},\n",
    "                fig_margin=dict(top=70, bottom=60, left=80, right=30),\n",
    "                layout = widgets.Layout(width='100%'),\n",
    "                toolbar = True,\n",
    "    )\n",
    "\n",
    "scale_x = bqs.LinearScale(min = p_min, max = p_max)\n",
    "scale_y = bqs.LinearScale(min = T-0.2, max = T+0.2)\n",
    "\n",
    "axis_x = bqa.Axis(scale=scale_x,\n",
    "                tick_format='.2f',#'0.2f',\n",
    "                tick_style={'font-size': '15px'},\n",
    "                tick_values = np.linspace(p_min, p_max, 7),\n",
    "                #num_ticks=7,\n",
    "                grid_lines = 'none',\n",
    "                grid_color = '#8e8e8e', \n",
    "                label='p_pt (kPa)',\n",
    "                label_location='middle',\n",
    "                label_style={'stroke': 'black', 'default-size': 35},\n",
    "                label_offset='50px')\n",
    "\n",
    "axis_y = bqa.Axis(\n",
    "                scale=scale_y,\n",
    "                tick_format='.1f',#'0.2f',\n",
    "                tick_style={'font-size': '15px'},\n",
    "                num_ticks=4,\n",
    "                grid_lines = 'none',\n",
    "                grid_color = '#8e8e8e', \n",
    "                orientation='vertical',\n",
    "                label='Theta (K)',\n",
    "                label_location='middle',\n",
    "                label_style={'stroke': 'red', 'default_size': 35},\n",
    "                label_offset='50px')\n",
    "\n",
    "fig_121_001.axes = [axis_x,axis_y]\n",
    "\n",
    "\n",
    "\n",
    "\n",
    "\n",
    "#######################################\n",
    "#########CREATE THE MARKS##############\n",
    "#######################################\n",
    "\n",
    "\n",
    "x_values = [ p_pt_values for i in range(3)]\n",
    "y_values = Theta_values\n",
    "\n",
    "\n",
    "current_point = bqm.Scatter(\n",
    "                x = [p_pt], \n",
    "                y = [Theta], \n",
    "                scales = {'x': scale_x, 'y': scale_y}, \n",
    "                opacities = [1.0],\n",
    "                visible = True, #True, #t == '1.00',\n",
    "                colors = [colors[gas]],\n",
    "                labels = [labels[gas]],\n",
    "                display_legend = False,\n",
    "                tooltip = bq.Tooltip(fields=['x', 'y'], labels=['p_pt', 'Theta'])\n",
    ")\n",
    "\n",
    "\n",
    "saved_points_0 = bqm.Scatter(\n",
    "                x = [], \n",
    "                y = [], \n",
    "                scales = {'x': scale_x, 'y': scale_y}, \n",
    "                opacities = [1.0],\n",
    "                visible = True, #True, #t == '1.00',\n",
    "                colors = [colors[0]],\n",
    "                labels = [labels[0]],\n",
    "                display_legend = True\n",
    ")\n",
    "\n",
    "saved_points_1 = bqm.Scatter(\n",
    "                x = [], \n",
    "                y = [], \n",
    "                scales = {'x': scale_x, 'y': scale_y}, \n",
    "                opacities = [1.0],\n",
    "                visible = True, #True, #t == '1.00',\n",
    "                colors = [colors[1]],\n",
    "                labels = [labels[1]],\n",
    "                display_legend = True\n",
    ")\n",
    "\n",
    "saved_points_2 = bqm.Scatter(\n",
    "                x = [], \n",
    "                y = [], \n",
    "                scales = {'x': scale_x, 'y': scale_y}, \n",
    "                opacities = [1.0],\n",
    "                visible = True, #True, #t == '1.00',\n",
    "                colors = [colors[2]],\n",
    "                labels = [labels[2]],\n",
    "                display_legend = True\n",
    ")\n",
    "\n",
    "lines = bqm.Lines(\n",
    "                x = x_values, \n",
    "                y = y_values, \n",
    "                scales = {'x': scale_x, 'y': scale_y}, \n",
    "                opacities = opacities,\n",
    "                visible = False, #True, #t == '1.00',\n",
    "                colors = colors,\n",
    "                labels = labels,\n",
    "                display_legend = False\n",
    ")\n",
    "\n",
    "fig_121_001.marks = [current_point, saved_points_0, saved_points_1, saved_points_2, lines]\n",
    "\n",
    "\n",
    "\n",
    "\n",
    "\n",
    "#######################################\n",
    "#########CONTROL WIDGETS###############\n",
    "#######################################\n",
    "\n",
    "## Left Block (temperature select)\n",
    "\n",
    "T_slider = widgets.FloatSlider(\n",
    "    min=100.0,\n",
    "    max=400.0,\n",
    "    step=0.1,\n",
    "    value=T,\n",
    "    description='T',\n",
    "    disabled=False,\n",
    "    continuous_update=False,\n",
    "    orientation='horizontal',\n",
    "    readout=True,\n",
    ")\n",
    "\n",
    "T_slider.observe(update_temperature,'value')\n",
    "\n",
    "\n",
    "## Centre Block (gas and pressure select)\n",
    "\n",
    "Gas_dropdown = widgets.Dropdown(\n",
    "    options=[('Hidrogenoa',0), ('Helioa',1), ('Nitrogenoa',2)],\n",
    "    value=0,\n",
    "    description='Gasa:',\n",
    "    disabled=False,\n",
    ")\n",
    "\n",
    "Gas_dropdown.observe(update_current_point, 'value') \n",
    "\n",
    "\n",
    "p_pt_slider = widgets.FloatSlider(\n",
    "    min=p_min,\n",
    "    max=p_max,\n",
    "    step=0.1,\n",
    "    value=100.0,\n",
    "    description='p_pt',\n",
    "    disabled=False,\n",
    "    continuous_update=True,\n",
    "    orientation='horizontal',\n",
    "    readout=True,\n",
    ")\n",
    "\n",
    "p_pt_slider.observe(update_current_point,'value')\n",
    "\n",
    "Theta_text = widgets.Label(\n",
    "    value = '%.2f' % Theta\n",
    ")\n",
    "\n",
    "\n",
    "save_button = widgets.Button(\n",
    "    description='Gorde puntua',\n",
    "    disabled=False,\n",
    "    button_style='', # 'success', 'info', 'warning', 'danger' or ''\n",
    "    tooltip='Click me'\n",
    ")\n",
    "\n",
    "save_button.on_click(save_point)\n",
    "\n",
    "\n",
    "reset_button = widgets.Button(\n",
    "    description='Ezabatu puntuak',\n",
    "    disabled=False,\n",
    "    button_style='', # 'success', 'info', 'warning', 'danger' or ''\n",
    "    tooltip='Click me'\n",
    ")\n",
    "\n",
    "reset_button.on_click(reset)\n",
    "\n",
    "\n",
    "show_lines_check = widgets.Checkbox(\n",
    "    description='Erakutsi lerroak',\n",
    "    disabled=False,\n",
    "    value=False,\n",
    ")\n",
    "\n",
    "show_lines_check.observe(show_lines, 'value')\n",
    "\n",
    "#######################################\n",
    "############  LAYOUT  #################\n",
    "#######################################\n",
    "\n",
    "\n",
    "left_block_121_000 = widgets.VBox([], layout=widgets.Layout(width='10%', align_items='center'))\n",
    "left_block_121_000.children = [T_slider]\n",
    "\n",
    "Temperature_Box = widgets.HBox([widgets.Label(value='$\\Theta$'), Theta_text, widgets.Label(value='$K$')])\n",
    "\n",
    "centre_block_121_000 = widgets.VBox([], layout=widgets.Layout(width='30%', align_items='center'))\n",
    "centre_block_121_000.children = [widgets.Label(value='Neurtu nahi den temperatura (gas idealaren eskalan)'),T_slider, Gas_dropdown, p_pt_slider, Temperature_Box, save_button, reset_button, show_lines_check]\n",
    "\n",
    "\n",
    "right_block_121_000 = widgets.VBox([], layout=widgets.Layout(width='70%', align_items='center'))\n",
    "\n",
    "right_block_121_000.children = [fig_121_001]\n",
    "\n",
    "\n",
    "\n",
    "\n",
    "main_block_121_000 = widgets.HBox([], layout=widgets.Layout(width='100%', align_self='center', align_items='center'))\n",
    "main_block_121_000.children = [centre_block_121_000, right_block_121_000]\n",
    "\n",
    "main_block_121_000"
   ]
  }
 ],
 "metadata": {
  "kernelspec": {
   "display_name": "Python 3",
   "language": "python",
   "name": "python3"
  },
  "language_info": {
   "codemirror_mode": {
    "name": "ipython",
    "version": 3
   },
   "file_extension": ".py",
   "mimetype": "text/x-python",
   "name": "python",
   "nbconvert_exporter": "python",
   "pygments_lexer": "ipython3",
   "version": "3.8.5"
  }
 },
 "nbformat": 4,
 "nbformat_minor": 5
}
