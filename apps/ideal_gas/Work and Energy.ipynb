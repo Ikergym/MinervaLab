{
 "cells": [
  {
   "cell_type": "code",
   "execution_count": 185,
   "id": "combined-cornell",
   "metadata": {},
   "outputs": [
    {
     "data": {
      "text/html": [
       "<head><link rel='stylesheet' type='text/css' href='./../../static/custom.css'></head>"
      ],
      "text/plain": [
       "<IPython.core.display.HTML object>"
      ]
     },
     "metadata": {},
     "output_type": "display_data"
    },
    {
     "data": {
      "text/html": [
       "<style>.container { width:100% !important; }</style>"
      ],
      "text/plain": [
       "<IPython.core.display.HTML object>"
      ]
     },
     "metadata": {},
     "output_type": "display_data"
    }
   ],
   "source": [
    "from IPython.display import HTML\n",
    "display(HTML(\"<head><link rel='stylesheet' type='text/css' href='./../../static/custom.css'></head>\"))\n",
    "display(HTML(\"<style>.container { width:100% !important; }</style>\"))"
   ]
  },
  {
   "cell_type": "code",
   "execution_count": 186,
   "id": "graphic-vulnerability",
   "metadata": {},
   "outputs": [],
   "source": [
    "import numpy as np\n",
    "\n",
    "from bqplot import *\n",
    "import bqplot as bq\n",
    "import bqplot.marks as bqm\n",
    "import bqplot.scales as bqs\n",
    "import bqplot.axes as bqa\n",
    "\n",
    "import ipywidgets as widgets"
   ]
  },
  {
   "cell_type": "code",
   "execution_count": 187,
   "id": "unnecessary-ethernet",
   "metadata": {},
   "outputs": [],
   "source": [
    "# Global Parameters\n",
    "R = 8.314 # In SI units\n",
    "N = 1.0 # In mols\n",
    "pts = 20 # Number of points for each process"
   ]
  },
  {
   "cell_type": "code",
   "execution_count": 188,
   "id": "commercial-highland",
   "metadata": {},
   "outputs": [],
   "source": [
    "def get_intersect(vi,pi,vf,pf,process1,process2):\n",
    "    if process1 == 'v' and process2 == 'p':\n",
    "        vc = vi\n",
    "        pc = pf\n",
    "    if process1 == 'p' and process2 == 'v':\n",
    "        vc = vf\n",
    "        pc = pi\n",
    "    if process1 == 'v' and process2 == 'T':\n",
    "        vc = vi\n",
    "        pc = vf/vc*pf \n",
    "    if process1 == 'T' and process2 == 'v':\n",
    "        vc = vf\n",
    "        pc = vi/vc*pi\n",
    "    if process1 == 'p' and process2 == 'T':\n",
    "        pc = pi\n",
    "        vc = pf/pc*vf\n",
    "    if process1 == 'T' and process2 == 'p':\n",
    "        pc = pf\n",
    "        vc = pi/pc*vi\n",
    "    return vc,pc"
   ]
  },
  {
   "cell_type": "code",
   "execution_count": 189,
   "id": "removed-wisdom",
   "metadata": {},
   "outputs": [],
   "source": [
    "def get_isotherm(v,pa,pb):\n",
    "    T = pa*v[0]/N/R\n",
    "    p = N*R*T/v\n",
    "    return p"
   ]
  },
  {
   "cell_type": "code",
   "execution_count": 190,
   "id": "gothic-gathering",
   "metadata": {},
   "outputs": [],
   "source": [
    "def get_isobar(v,pa,pb):\n",
    "    p = np.linspace(pa,pb,pts)\n",
    "    return p"
   ]
  },
  {
   "cell_type": "code",
   "execution_count": 191,
   "id": "unlimited-toddler",
   "metadata": {},
   "outputs": [],
   "source": [
    "def get_isochore(v,pa,pb):\n",
    "    p = np.linspace(pa,pb,pts)\n",
    "    return p"
   ]
  },
  {
   "cell_type": "code",
   "execution_count": 192,
   "id": "fifty-official",
   "metadata": {},
   "outputs": [],
   "source": [
    "def get_p_values(v,pa,pb,process):\n",
    "    if process == 'T':\n",
    "        p = get_isotherm(v,pa,pb)\n",
    "    if process == 'p':\n",
    "        p = np.linspace(pa,pb,pts)\n",
    "    if process == 'v':\n",
    "        p = np.linspace(pa,pb,pts)\n",
    "    return p"
   ]
  },
  {
   "cell_type": "code",
   "execution_count": 193,
   "id": "bound-delaware",
   "metadata": {},
   "outputs": [],
   "source": [
    "# Initial values\n",
    "vi = 1.0\n",
    "pi = 1.0\n",
    "Ti = vi*pi/N/R\n",
    "process1 = 'T'\n",
    "process2 = 'v'\n",
    "\n",
    "# Final values\n",
    "vf = 2.0\n",
    "pf = 0.8\n",
    "Tf = vf*pf/N/R\n",
    "\n",
    "# Get curves\n",
    "vc,pc = get_intersect(vi,pi,vf,pf,process1,process2)\n",
    "v1 = np.linspace(vi,vc,pts)\n",
    "v2 = np.linspace(vc,vf,pts)\n",
    "p1 = get_p_values(v1,pi,pc,process1)\n",
    "p2 = get_p_values(v2,pc,pf,process2)\n"
   ]
  },
  {
   "cell_type": "code",
   "execution_count": 194,
   "id": "actual-brooklyn",
   "metadata": {
    "scrolled": true
   },
   "outputs": [
    {
     "data": {
      "application/vnd.jupyter.widget-view+json": {
       "model_id": "329617f6be08412487836903ddcd7e9f",
       "version_major": 2,
       "version_minor": 0
      },
      "text/plain": [
       "Figure(axes=[Axis(grid_color='#8e8e8e', grid_lines='none', label='v', label_offset='50px', num_ticks=5, scale=…"
      ]
     },
     "metadata": {},
     "output_type": "display_data"
    }
   ],
   "source": [
    "fig_122_001 = bq.Figure(title='Prozesu konposatua p-v',\n",
    "                marks=[],\n",
    "                axes=[],\n",
    "                animation_duration=0,\n",
    "                legend_location='top-right',\n",
    "                background_style= {'fill': 'white',  'stroke': 'black'},\n",
    "                fig_margin=dict(top=70, bottom=60, left=80, right=30),\n",
    "                toolbar = True,\n",
    "    )\n",
    "\n",
    "scale_x = bqs.LinearScale(min = 0.9, max = 2.2)\n",
    "scale_y = bqs.LinearScale(min = 0.4, max = 1.1)\n",
    "\n",
    "axis_x = bqa.Axis(scale=scale_x,\n",
    "                tick_format='.2f',#'0.2f',\n",
    "                tick_style={'font-size': '15px'},\n",
    "                num_ticks=5,\n",
    "                grid_lines = 'none',\n",
    "                grid_color = '#8e8e8e', \n",
    "                label='v',\n",
    "                label_location='middle',\n",
    "                label_style={'stroke': 'black', 'default-size': 35},\n",
    "                label_offset='50px')\n",
    "\n",
    "axis_y = bqa.Axis(\n",
    "                scale=scale_y,\n",
    "                tick_format='.1f',#'0.2f',\n",
    "                tick_style={'font-size': '15px'},\n",
    "                num_ticks=4,\n",
    "                grid_lines = 'none',\n",
    "                grid_color = '#8e8e8e', \n",
    "                orientation='vertical',\n",
    "                label='p (atm)',\n",
    "                label_location='middle',\n",
    "                label_style={'stroke': 'red', 'default_size': 35},\n",
    "                label_offset='50px')\n",
    "\n",
    "fig_122_001.axes = [axis_x,axis_y]\n",
    "\n",
    "##Marks\n",
    "\n",
    "x_values = []\n",
    "y_values = []\n",
    "for i in range(pts):\n",
    "    x_values.append(v1[i])\n",
    "    y_values.append(p1[i])\n",
    "for i in range(pts):\n",
    "    x_values.append(v2[i])\n",
    "    y_values.append(p2[i])\n",
    "\n",
    "color = ['#0079c4']\n",
    "\n",
    "data = bqm.Lines(\n",
    "                x = x_values, \n",
    "                y = y_values, \n",
    "                scales = {'x': scale_x, 'y': scale_y},\n",
    "                colors = color\n",
    "                \n",
    ")\n",
    "\n",
    "fig_122_001.marks = [data]\n",
    "\n",
    "\n",
    "fig_122_001"
   ]
  },
  {
   "cell_type": "code",
   "execution_count": null,
   "id": "located-roulette",
   "metadata": {},
   "outputs": [],
   "source": []
  }
 ],
 "metadata": {
  "kernelspec": {
   "display_name": "Python 3",
   "language": "python",
   "name": "python3"
  },
  "language_info": {
   "codemirror_mode": {
    "name": "ipython",
    "version": 3
   },
   "file_extension": ".py",
   "mimetype": "text/x-python",
   "name": "python",
   "nbconvert_exporter": "python",
   "pygments_lexer": "ipython3",
   "version": "3.8.5"
  }
 },
 "nbformat": 4,
 "nbformat_minor": 5
}
